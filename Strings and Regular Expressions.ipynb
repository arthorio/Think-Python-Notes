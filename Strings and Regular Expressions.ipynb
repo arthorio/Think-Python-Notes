{
 "cells": [
  {
   "cell_type": "code",
   "execution_count": 12,
   "id": "c963cf2f-c3e0-4a47-b968-a4d7b9c1dab6",
   "metadata": {},
   "outputs": [
    {
     "data": {
      "text/plain": [
       "'banana'"
      ]
     },
     "execution_count": 12,
     "metadata": {},
     "output_type": "execute_result"
    }
   ],
   "source": [
    "fruit = 'banana'\n",
    "fruit[:]"
   ]
  },
  {
   "cell_type": "code",
   "execution_count": 13,
   "id": "6ce360c8-41a4-44c0-894f-ce9fde448ce6",
   "metadata": {},
   "outputs": [],
   "source": [
    "greeting = 'Hello, world!'\n",
    "new_greeting = 'J' + greeting[1:]"
   ]
  },
  {
   "cell_type": "code",
   "execution_count": 18,
   "id": "0f8f1eec-3996-415b-becf-a6403fb79090",
   "metadata": {},
   "outputs": [],
   "source": [
    "reader = open('pg345.txt', encoding='utf-8')"
   ]
  },
  {
   "cell_type": "code",
   "execution_count": 19,
   "id": "b86a2c6f-c2f3-40a0-8dd1-9569a8820cc6",
   "metadata": {},
   "outputs": [],
   "source": [
    "def is_special_line(line):\n",
    "    return line.startswith('*** ')"
   ]
  },
  {
   "cell_type": "code",
   "execution_count": 20,
   "id": "ae7bf062-b49d-494f-a9dc-946fcc7eb9e8",
   "metadata": {},
   "outputs": [
    {
     "name": "stdout",
     "output_type": "stream",
     "text": [
      "*** START OF THE PROJECT GUTENBERG EBOOK DRACULA ***\n",
      "*** END OF THE PROJECT GUTENBERG EBOOK DRACULA ***\n"
     ]
    }
   ],
   "source": [
    "for line in reader:\n",
    "    if is_special_line(line):\n",
    "        print(line.strip())"
   ]
  },
  {
   "cell_type": "code",
   "execution_count": 22,
   "id": "dfa131f9-95a5-469a-97b9-2b3bcd715741",
   "metadata": {},
   "outputs": [],
   "source": [
    "reader = open('pg345.txt', encoding='utf-8')\n",
    "writer = open('pg345_cleaned.txt', 'w', encoding='utf-8')\n",
    "\n",
    "for line in reader:\n",
    "    if is_special_line(line):\n",
    "        break"
   ]
  },
  {
   "cell_type": "code",
   "execution_count": 24,
   "id": "09d9aa3d-caa4-4542-b92d-e8d565459941",
   "metadata": {},
   "outputs": [
    {
     "data": {
      "text/plain": [
       "'*** START OF THE PROJECT GUTENBERG EBOOK DRACULA ***\\n'"
      ]
     },
     "execution_count": 24,
     "metadata": {},
     "output_type": "execute_result"
    }
   ],
   "source": [
    "line"
   ]
  },
  {
   "cell_type": "code",
   "execution_count": 25,
   "id": "6acdbada-bfda-41e1-b127-3c9c7897b9e3",
   "metadata": {},
   "outputs": [],
   "source": [
    "for line in reader:\n",
    "    if is_special_line(line):\n",
    "        break\n",
    "    writer.write(line)"
   ]
  },
  {
   "cell_type": "code",
   "execution_count": 27,
   "id": "720c92ab-61f0-466b-bd7c-d678b7e65194",
   "metadata": {
    "scrolled": true
   },
   "outputs": [
    {
     "data": {
      "text/plain": [
       "'*** END OF THE PROJECT GUTENBERG EBOOK DRACULA ***\\n'"
      ]
     },
     "execution_count": 27,
     "metadata": {},
     "output_type": "execute_result"
    }
   ],
   "source": [
    "line"
   ]
  },
  {
   "cell_type": "code",
   "execution_count": 28,
   "id": "f3077ea0-8851-4249-b096-99633ef6da33",
   "metadata": {},
   "outputs": [],
   "source": [
    "reader.close()\n",
    "writer.close()"
   ]
  },
  {
   "cell_type": "code",
   "execution_count": 29,
   "id": "d7c73bef-23ca-4e9c-af0f-d5f7a671eb04",
   "metadata": {},
   "outputs": [
    {
     "name": "stdout",
     "output_type": "stream",
     "text": [
      "DRACULA\n",
      "_by_\n",
      "Bram Stoker\n"
     ]
    }
   ],
   "source": [
    "for line in open('pg345_cleaned.txt', encoding='utf-8'):\n",
    "    line = line.strip()\n",
    "    if len(line) > 0:\n",
    "        print(line)\n",
    "    if line.endswith('Stoker'):\n",
    "        break"
   ]
  },
  {
   "cell_type": "code",
   "execution_count": 34,
   "id": "fdb1585e-3931-4bb3-9392-8f4bb0d1a39c",
   "metadata": {},
   "outputs": [],
   "source": [
    "total_lines = 0\n",
    "for line in open('pg345_cleaned.txt', encoding='utf-8'):\n",
    "    total_lines += 1"
   ]
  },
  {
   "cell_type": "code",
   "execution_count": 35,
   "id": "2f72bda2-7033-4910-b0fa-f7cd5a9976aa",
   "metadata": {},
   "outputs": [
    {
     "data": {
      "text/plain": [
       "15477"
      ]
     },
     "execution_count": 35,
     "metadata": {},
     "output_type": "execute_result"
    }
   ],
   "source": [
    "total_lines"
   ]
  },
  {
   "cell_type": "code",
   "execution_count": 38,
   "id": "ef140131-a957-4f51-ae83-b72ab1c6460b",
   "metadata": {},
   "outputs": [
    {
     "data": {
      "text/plain": [
       "200"
      ]
     },
     "execution_count": 38,
     "metadata": {},
     "output_type": "execute_result"
    }
   ],
   "source": [
    "total = 0\n",
    "for line in open('pg345_cleaned.txt', encoding='utf-8'):\n",
    "    total += line.count('Jonathan')\n",
    "\n",
    "total"
   ]
  },
  {
   "cell_type": "code",
   "execution_count": 39,
   "id": "46387bb4-22c8-41cd-9b0e-db58ccd62a3c",
   "metadata": {},
   "outputs": [],
   "source": [
    "writer = open('pg345_replaced.txt', 'w', encoding='utf-8')\n",
    "\n",
    "for line in open('pg345_cleaned.txt', encoding='utf-8'):\n",
    "    line = line.replace('Jonathan', 'Thomas')\n",
    "    writer.write(line)"
   ]
  },
  {
   "cell_type": "code",
   "execution_count": 43,
   "id": "e54d639a-8186-4447-bd45-2724319d1688",
   "metadata": {},
   "outputs": [
    {
     "data": {
      "text/plain": [
       "'Dracula'"
      ]
     },
     "execution_count": 43,
     "metadata": {},
     "output_type": "execute_result"
    }
   ],
   "source": [
    "import re\n",
    "\n",
    "text = \"I am Dracula; and I bid you welcome, Mr. Harker, to my house.\"\n",
    "pattern = 'Dracula'\n",
    "\n",
    "result = re.search(pattern, text)\n",
    "result.group() # .span(), .string"
   ]
  },
  {
   "cell_type": "code",
   "execution_count": 44,
   "id": "278aecfd-1fd1-482a-b7ed-a8b8b8bd9738",
   "metadata": {},
   "outputs": [
    {
     "name": "stdout",
     "output_type": "stream",
     "text": [
      "None\n"
     ]
    }
   ],
   "source": [
    "result = re.search('Count', text)\n",
    "print(result)"
   ]
  },
  {
   "cell_type": "code",
   "execution_count": 45,
   "id": "a28c9521-a90d-4d19-98ae-9cce31ae0fa1",
   "metadata": {},
   "outputs": [],
   "source": [
    "def find_first(pattern):\n",
    "    for line in open('pg345_cleaned.txt', encoding='utf-8'):\n",
    "        result = re.search(pattern, line)\n",
    "        if result != None:\n",
    "            return result"
   ]
  },
  {
   "cell_type": "code",
   "execution_count": 46,
   "id": "151b87a0-7632-4784-88ae-7b53c829f8fc",
   "metadata": {},
   "outputs": [
    {
     "data": {
      "text/plain": [
       "'CHAPTER I. Jonathan Harker’s Journal\\n'"
      ]
     },
     "execution_count": 46,
     "metadata": {},
     "output_type": "execute_result"
    }
   ],
   "source": [
    "result = find_first('Harker')\n",
    "result.string"
   ]
  },
  {
   "cell_type": "code",
   "execution_count": 47,
   "id": "0b151368-91b9-4ff9-82d0-5de8c5417f20",
   "metadata": {},
   "outputs": [
    {
     "data": {
      "text/plain": [
       "'CHAPTER V. Letters—Lucy and Mina\\n'"
      ]
     },
     "execution_count": 47,
     "metadata": {},
     "output_type": "execute_result"
    }
   ],
   "source": [
    "pattern = 'Mina|Murray'\n",
    "result = find_first(pattern)\n",
    "result.string"
   ]
  },
  {
   "cell_type": "code",
   "execution_count": 48,
   "id": "29a2d969-3234-4d1a-9a3e-9c122768a19c",
   "metadata": {},
   "outputs": [],
   "source": [
    "def count_matches(pattern):\n",
    "    count = 0\n",
    "    for line in open('pg345_cleaned.txt', encoding='utf-8'):\n",
    "        result = re.search(pattern, line)\n",
    "        if result != None:\n",
    "            count += 1\n",
    "    return count"
   ]
  },
  {
   "cell_type": "code",
   "execution_count": 49,
   "id": "a115b83e-d0eb-4ab9-b6f3-00cf15d57598",
   "metadata": {},
   "outputs": [
    {
     "data": {
      "text/plain": [
       "229"
      ]
     },
     "execution_count": 49,
     "metadata": {},
     "output_type": "execute_result"
    }
   ],
   "source": [
    "count_matches('Mina|Murray')"
   ]
  },
  {
   "cell_type": "code",
   "execution_count": 56,
   "id": "2a0c1480-0a61-44a4-aab1-c262cafc4fb0",
   "metadata": {},
   "outputs": [
    {
     "data": {
      "text/plain": [
       "'also that there is a chapel of old times. We Transylvanian nobles love\\n'"
      ]
     },
     "execution_count": 56,
     "metadata": {},
     "output_type": "execute_result"
    }
   ],
   "source": [
    "result = find_first('love$')\n",
    "result.string"
   ]
  },
  {
   "cell_type": "code",
   "execution_count": 57,
   "id": "a04ab90b-abaf-49a0-b709-a1aebae07588",
   "metadata": {},
   "outputs": [
    {
     "data": {
      "text/plain": [
       "'horseshoe of the Carpathians, as if it were the centre of some sort of\\n'"
      ]
     },
     "execution_count": 57,
     "metadata": {},
     "output_type": "execute_result"
    }
   ],
   "source": [
    "pattern = 'cent(er|re)'\n",
    "result = find_first(pattern)\n",
    "result.string"
   ]
  },
  {
   "cell_type": "code",
   "execution_count": 58,
   "id": "0e7a66b6-cb0c-4288-929a-dafb40298965",
   "metadata": {},
   "outputs": [
    {
     "data": {
      "text/plain": [
       "'undergarment with long double apron, front, and back, of coloured stuff\\n'"
      ]
     },
     "execution_count": 58,
     "metadata": {},
     "output_type": "execute_result"
    }
   ],
   "source": [
    "pattern = 'colou?r'\n",
    "result = find_first(pattern)\n",
    "line = result.string\n",
    "line"
   ]
  },
  {
   "cell_type": "code",
   "execution_count": 62,
   "id": "849f20c9-33ce-4a6b-a6cf-9add0a8d02a1",
   "metadata": {},
   "outputs": [
    {
     "data": {
      "text/plain": [
       "'undergarment with long double apron, front, and back, of colored stuff\\n'"
      ]
     },
     "execution_count": 62,
     "metadata": {},
     "output_type": "execute_result"
    }
   ],
   "source": [
    "re.sub(pattern, 'color', line)"
   ]
  },
  {
   "cell_type": "code",
   "execution_count": 111,
   "id": "111435d5-d5c4-43d0-aacb-7d1c3139b1c0",
   "metadata": {},
   "outputs": [],
   "source": [
    "def head_func(in_file, num_lines, out_file):\n",
    "\n",
    "    reader = open(in_file, encoding='utf-8')\n",
    "    \n",
    "    if out_file is not None:\n",
    "        writer = open(out_file, 'w', encoding='utf-8')\n",
    "        action = writer.write\n",
    "    else:\n",
    "        action = print\n",
    "\n",
    "    for i, line in enumerate(reader):\n",
    "        if i >= num_lines:\n",
    "            break\n",
    "        action(line)\n",
    "\n",
    "    if out_file is not None:\n",
    "        writer.close()\n",
    "\n",
    "    reader.close()"
   ]
  },
  {
   "cell_type": "code",
   "execution_count": 70,
   "id": "2500dd8d-1ed9-44b7-96d5-6c6ef3e8cc67",
   "metadata": {},
   "outputs": [],
   "source": [
    "def uses_any(word, letters):\n",
    "    word = word.lower()\n",
    "    letters = letters.lower()\n",
    "\n",
    "    feedback = []\n",
    "    for i, letter in enumerate(word):\n",
    "        if letter in letters[i]:\n",
    "             feedback.append(f\"{letter} ✅\")\n",
    "        elif letter in letters:\n",
    "            feedback.append(f\"{letter} 🔄\")\n",
    "        else:\n",
    "            feedback.append(f\"{letter} ❌\")\n",
    "    return feedback\n",
    "\n",
    "def check_word(word: str):\n",
    "    word = word.lower()\n",
    "\n",
    "    for tries in range(6, 0, -1):\n",
    "        guess = input(\"Você tem {} chances restantes: \".format(tries)).lower()\n",
    "\n",
    "        if len(guess) != 5:\n",
    "            print(\"A palavra precisa ter 5 letras\")\n",
    "            continue\n",
    "\n",
    "        if guess == word:\n",
    "            print(\"Win win\")\n",
    "            return\n",
    "\n",
    "        feedback = uses_any(guess, word)\n",
    "        print(\", \".join(feedback))\n",
    "            \n",
    "    print(\"PERDEU, a palavra era: {}\".format(word))"
   ]
  },
  {
   "cell_type": "code",
   "execution_count": 72,
   "id": "96bea5cb-69b3-45f0-ab52-7402a28dbb85",
   "metadata": {},
   "outputs": [
    {
     "name": "stdin",
     "output_type": "stream",
     "text": [
      "Você tem 6 chances restantes:  owakda\n"
     ]
    },
    {
     "name": "stdout",
     "output_type": "stream",
     "text": [
      "A palavra precisa ter 5 letras\n"
     ]
    },
    {
     "name": "stdin",
     "output_type": "stream",
     "text": [
      "Você tem 6 chances restantes:  wolrs\n"
     ]
    },
    {
     "name": "stdout",
     "output_type": "stream",
     "text": [
      "w ✅, o ✅, l 🔄, r 🔄, s ❌\n"
     ]
    },
    {
     "name": "stdin",
     "output_type": "stream",
     "text": [
      "Você tem 5 chances restantes:  owrld\n"
     ]
    },
    {
     "name": "stdout",
     "output_type": "stream",
     "text": [
      "o 🔄, w 🔄, r ✅, l ✅, d ✅\n"
     ]
    },
    {
     "name": "stdin",
     "output_type": "stream",
     "text": [
      "Você tem 4 chances restantes:  wo\n"
     ]
    },
    {
     "name": "stdout",
     "output_type": "stream",
     "text": [
      "A palavra precisa ter 5 letras\n"
     ]
    },
    {
     "name": "stdin",
     "output_type": "stream",
     "text": [
      "Você tem 4 chances restantes:  s\n"
     ]
    },
    {
     "name": "stdout",
     "output_type": "stream",
     "text": [
      "A palavra precisa ter 5 letras\n"
     ]
    },
    {
     "name": "stdin",
     "output_type": "stream",
     "text": [
      "Você tem 4 chances restantes:  dddddd\n"
     ]
    },
    {
     "name": "stdout",
     "output_type": "stream",
     "text": [
      "A palavra precisa ter 5 letras\n"
     ]
    },
    {
     "name": "stdin",
     "output_type": "stream",
     "text": [
      "Você tem 4 chances restantes:  ddasd\n"
     ]
    },
    {
     "name": "stdout",
     "output_type": "stream",
     "text": [
      "d 🔄, d 🔄, a ❌, s ❌, d ✅\n"
     ]
    },
    {
     "name": "stdin",
     "output_type": "stream",
     "text": [
      "Você tem 3 chances restantes:  ddasd\n"
     ]
    },
    {
     "name": "stdout",
     "output_type": "stream",
     "text": [
      "d 🔄, d 🔄, a ❌, s ❌, d ✅\n"
     ]
    },
    {
     "name": "stdin",
     "output_type": "stream",
     "text": [
      "Você tem 2 chances restantes:  ddasd\n"
     ]
    },
    {
     "name": "stdout",
     "output_type": "stream",
     "text": [
      "d 🔄, d 🔄, a ❌, s ❌, d ✅\n"
     ]
    },
    {
     "name": "stdin",
     "output_type": "stream",
     "text": [
      "Você tem 1 chances restantes:  ddasd\n"
     ]
    },
    {
     "name": "stdout",
     "output_type": "stream",
     "text": [
      "d 🔄, d 🔄, a ❌, s ❌, d ✅\n",
      "PERDEU, a palavra era: world\n"
     ]
    }
   ],
   "source": [
    "check_word(\"world\")"
   ]
  },
  {
   "cell_type": "code",
   "execution_count": null,
   "id": "7f673a26-49e1-44ab-9737-c0e7fd6db115",
   "metadata": {},
   "outputs": [],
   "source": []
  }
 ],
 "metadata": {
  "kernelspec": {
   "display_name": "Python 3 (ipykernel)",
   "language": "python",
   "name": "python3"
  },
  "language_info": {
   "codemirror_mode": {
    "name": "ipython",
    "version": 3
   },
   "file_extension": ".py",
   "mimetype": "text/x-python",
   "name": "python",
   "nbconvert_exporter": "python",
   "pygments_lexer": "ipython3",
   "version": "3.13.1"
  }
 },
 "nbformat": 4,
 "nbformat_minor": 5
}

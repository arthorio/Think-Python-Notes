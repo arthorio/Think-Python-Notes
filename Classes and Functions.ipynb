{
 "cells": [
  {
   "cell_type": "code",
   "execution_count": 1,
   "id": "be17b5f3-4d52-4b93-85e7-f52f93b1a743",
   "metadata": {},
   "outputs": [],
   "source": [
    "class Time:\n",
    "    \"\"\"Represents a time of day.\"\"\""
   ]
  },
  {
   "cell_type": "code",
   "execution_count": 8,
   "id": "75979958-2a75-4540-96a2-9f718c17e57f",
   "metadata": {},
   "outputs": [],
   "source": [
    "# Creating a new object is called instantiation, and the object is an instance of the class.\n",
    "lunch = Time()"
   ]
  },
  {
   "cell_type": "code",
   "execution_count": 11,
   "id": "3483b2af-296b-4484-954e-688f97a14ba0",
   "metadata": {},
   "outputs": [
    {
     "name": "stdout",
     "output_type": "stream",
     "text": [
      "<__main__.Time object at 0x00000237A4B42C10>\n"
     ]
    }
   ],
   "source": [
    "# type and where it is stored in memory\n",
    "print(lunch)"
   ]
  },
  {
   "cell_type": "code",
   "execution_count": 12,
   "id": "4aaf88d8-3519-401a-a376-c5af941112a4",
   "metadata": {},
   "outputs": [],
   "source": [
    "lunch.hour = 11\n",
    "lunch.minute = 59\n",
    "lunch.second = 1"
   ]
  },
  {
   "cell_type": "code",
   "execution_count": 15,
   "id": "776966cf-b003-47ea-b82e-c130daa964ac",
   "metadata": {},
   "outputs": [],
   "source": [
    "def print_time(time):\n",
    "    s = f'{time.hour:02d}:{time.minute:02d}:{time.second:02d}'\n",
    "    print(s)"
   ]
  },
  {
   "cell_type": "code",
   "execution_count": 16,
   "id": "bcbc6f5f-1870-4d71-b82b-8d9cad66d42c",
   "metadata": {},
   "outputs": [
    {
     "name": "stdout",
     "output_type": "stream",
     "text": [
      "11:59:01\n"
     ]
    }
   ],
   "source": [
    "print_time(lunch)"
   ]
  },
  {
   "cell_type": "code",
   "execution_count": 19,
   "id": "69e37b8d-a897-4a09-9e4a-debcc5bab9a6",
   "metadata": {},
   "outputs": [],
   "source": [
    "def make_time(hour, minute, second):\n",
    "    time = Time()\n",
    "    time.hour = hour\n",
    "    time.minute = minute\n",
    "    time.second = second\n",
    "    return time"
   ]
  },
  {
   "cell_type": "code",
   "execution_count": 20,
   "id": "dabe2b5a-a755-4bb1-8dc2-9833ee8146ae",
   "metadata": {},
   "outputs": [
    {
     "name": "stdout",
     "output_type": "stream",
     "text": [
      "11:59:01\n"
     ]
    }
   ],
   "source": [
    "time = make_time(11, 59, 1)\n",
    "print_time(time)"
   ]
  },
  {
   "cell_type": "code",
   "execution_count": 21,
   "id": "f91dca68-cee0-4250-8ae4-27cf67356c6a",
   "metadata": {},
   "outputs": [],
   "source": [
    "def increment_time(time, hours, minutes, seconds):\n",
    "    time.hour += hours\n",
    "    time.minute += minutes\n",
    "    time.second += seconds"
   ]
  },
  {
   "cell_type": "code",
   "execution_count": 31,
   "id": "a24d2e48-0cfd-4f24-a6a3-d6f0c39c21fc",
   "metadata": {},
   "outputs": [],
   "source": [
    "start = make_time(9, 20, 0)\n",
    "#increment_time(start, 1, 32, 0)"
   ]
  },
  {
   "cell_type": "code",
   "execution_count": 32,
   "id": "1db05d10-58d9-41f4-8437-06635149a5d5",
   "metadata": {},
   "outputs": [],
   "source": [
    "from copy import copy"
   ]
  },
  {
   "cell_type": "code",
   "execution_count": 33,
   "id": "87e924e5-4103-47a6-bd70-156ea32f2297",
   "metadata": {},
   "outputs": [],
   "source": [
    "def add_time(time, hours, minutes, seconds):\n",
    "    total = copy(time)\n",
    "    increment_time(total, hours, minutes, seconds)\n",
    "    return total"
   ]
  },
  {
   "cell_type": "code",
   "execution_count": 34,
   "id": "6de074b3-95c8-40c7-b54f-30cf5a2749a6",
   "metadata": {},
   "outputs": [
    {
     "name": "stdout",
     "output_type": "stream",
     "text": [
      "09:20:00\n",
      "10:52:00\n"
     ]
    }
   ],
   "source": [
    "end = add_time(start, 1, 32, 0)\n",
    "print_time(start)\n",
    "print_time(end)"
   ]
  },
  {
   "cell_type": "code",
   "execution_count": null,
   "id": "a2b823bf-9396-4ab4-a6ef-724e8db1acd4",
   "metadata": {},
   "outputs": [],
   "source": []
  }
 ],
 "metadata": {
  "kernelspec": {
   "display_name": "Python 3 (ipykernel)",
   "language": "python",
   "name": "python3"
  },
  "language_info": {
   "codemirror_mode": {
    "name": "ipython",
    "version": 3
   },
   "file_extension": ".py",
   "mimetype": "text/x-python",
   "name": "python",
   "nbconvert_exporter": "python",
   "pygments_lexer": "ipython3",
   "version": "3.13.5"
  }
 },
 "nbformat": 4,
 "nbformat_minor": 5
}

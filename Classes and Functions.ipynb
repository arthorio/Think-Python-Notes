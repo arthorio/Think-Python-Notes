{
 "cells": [
  {
   "cell_type": "code",
   "execution_count": 1,
   "id": "be17b5f3-4d52-4b93-85e7-f52f93b1a743",
   "metadata": {},
   "outputs": [],
   "source": [
    "class Time:\n",
    "    \"\"\"Represents a time of day.\"\"\""
   ]
  },
  {
   "cell_type": "code",
   "execution_count": 2,
   "id": "75979958-2a75-4540-96a2-9f718c17e57f",
   "metadata": {},
   "outputs": [],
   "source": [
    "# Creating a new object is called instantiation, and the object is an instance of the class.\n",
    "lunch = Time()"
   ]
  },
  {
   "cell_type": "code",
   "execution_count": 3,
   "id": "3483b2af-296b-4484-954e-688f97a14ba0",
   "metadata": {},
   "outputs": [
    {
     "name": "stdout",
     "output_type": "stream",
     "text": [
      "<__main__.Time object at 0x783a1414a7b0>\n"
     ]
    }
   ],
   "source": [
    "# type and where it is stored in memory\n",
    "print(lunch)"
   ]
  },
  {
   "cell_type": "code",
   "execution_count": 4,
   "id": "4aaf88d8-3519-401a-a376-c5af941112a4",
   "metadata": {},
   "outputs": [],
   "source": [
    "lunch.hour = 11\n",
    "lunch.minute = 59\n",
    "lunch.second = 1"
   ]
  },
  {
   "cell_type": "code",
   "execution_count": 5,
   "id": "776966cf-b003-47ea-b82e-c130daa964ac",
   "metadata": {},
   "outputs": [],
   "source": [
    "def print_time(time):\n",
    "    s = f'{time.hour:02d}:{time.minute:02d}:{time.second:02d}'\n",
    "    print(s)"
   ]
  },
  {
   "cell_type": "code",
   "execution_count": 6,
   "id": "bcbc6f5f-1870-4d71-b82b-8d9cad66d42c",
   "metadata": {},
   "outputs": [
    {
     "name": "stdout",
     "output_type": "stream",
     "text": [
      "11:59:01\n"
     ]
    }
   ],
   "source": [
    "print_time(lunch)"
   ]
  },
  {
   "cell_type": "code",
   "execution_count": 7,
   "id": "69e37b8d-a897-4a09-9e4a-debcc5bab9a6",
   "metadata": {},
   "outputs": [],
   "source": [
    "def make_time(hour, minute, second):\n",
    "    time = Time()\n",
    "    time.hour = hour\n",
    "    time.minute = minute\n",
    "    time.second = second\n",
    "    return time"
   ]
  },
  {
   "cell_type": "code",
   "execution_count": 8,
   "id": "dabe2b5a-a755-4bb1-8dc2-9833ee8146ae",
   "metadata": {},
   "outputs": [
    {
     "name": "stdout",
     "output_type": "stream",
     "text": [
      "11:59:01\n"
     ]
    }
   ],
   "source": [
    "time = make_time(11, 59, 1)\n",
    "print_time(time)"
   ]
  },
  {
   "cell_type": "code",
   "execution_count": 9,
   "id": "f91dca68-cee0-4250-8ae4-27cf67356c6a",
   "metadata": {},
   "outputs": [],
   "source": [
    "def increment_time(time, hours, minutes, seconds):\n",
    "    time.hour += hours\n",
    "    time.minute += minutes\n",
    "    time.second += seconds"
   ]
  },
  {
   "cell_type": "code",
   "execution_count": 10,
   "id": "a24d2e48-0cfd-4f24-a6a3-d6f0c39c21fc",
   "metadata": {},
   "outputs": [],
   "source": [
    "start = make_time(9, 20, 0)\n",
    "#increment_time(start, 1, 32, 0)"
   ]
  },
  {
   "cell_type": "code",
   "execution_count": 11,
   "id": "1db05d10-58d9-41f4-8437-06635149a5d5",
   "metadata": {},
   "outputs": [],
   "source": [
    "from copy import copy"
   ]
  },
  {
   "cell_type": "code",
   "execution_count": 12,
   "id": "87e924e5-4103-47a6-bd70-156ea32f2297",
   "metadata": {},
   "outputs": [],
   "source": [
    "def add_time(time, hours, minutes, seconds):\n",
    "    total = copy(time)\n",
    "    increment_time(total, hours, minutes, seconds)\n",
    "    return total"
   ]
  },
  {
   "cell_type": "code",
   "execution_count": 13,
   "id": "6de074b3-95c8-40c7-b54f-30cf5a2749a6",
   "metadata": {},
   "outputs": [
    {
     "name": "stdout",
     "output_type": "stream",
     "text": [
      "09:20:00\n",
      "10:52:00\n"
     ]
    }
   ],
   "source": [
    "end = add_time(start, 1, 32, 0)\n",
    "print_time(start)\n",
    "print_time(end)"
   ]
  },
  {
   "cell_type": "code",
   "execution_count": 14,
   "id": "a2b823bf-9396-4ab4-a6ef-724e8db1acd4",
   "metadata": {},
   "outputs": [],
   "source": [
    "def increment_time(time, hours, minutes, seconds):\n",
    "    time.hour += hours\n",
    "    time.minute += minutes\n",
    "    time.second += seconds\n",
    "    \n",
    "    carry, time.second = divmod(time.second, 60)\n",
    "    carry, time.minute = divmod(time.minute + carry, 60)\n",
    "    carry, time.hour = divmod(time.hour + carry, 24)"
   ]
  },
  {
   "cell_type": "code",
   "execution_count": 25,
   "id": "84f40e11-f3ce-418e-81b1-415992b2a98f",
   "metadata": {},
   "outputs": [],
   "source": [
    "# more concise version of add_time\n",
    "\n",
    "def time_to_int(time):\n",
    "    minutes = time.hour * 60 + time.minute\n",
    "    seconds = minutes * 60 + time.second\n",
    "    return seconds\n",
    "\n",
    "def int_to_time(seconds):\n",
    "    minute, second = divmod(seconds, 60)\n",
    "    hour, minute = divmod(minute, 60)\n",
    "    return make_time(hour, minute, second)\n",
    "\n",
    "def add_time(time, hours, minutes, seconds):\n",
    "    duration = make_time(hours, minutes, seconds)\n",
    "    seconds = time_to_int(time) + time_to_int(duration)\n",
    "    return int_to_time(seconds)"
   ]
  },
  {
   "cell_type": "code",
   "execution_count": 37,
   "id": "c6348070-1678-4866-a34b-028e73c38f97",
   "metadata": {},
   "outputs": [
    {
     "name": "stdout",
     "output_type": "stream",
     "text": [
      "Exception reporting mode: Verbose\n"
     ]
    }
   ],
   "source": [
    "%xmode Verbose"
   ]
  },
  {
   "cell_type": "code",
   "execution_count": 48,
   "id": "4ba43f59-2011-481c-bc46-2fd1d0b4567f",
   "metadata": {},
   "outputs": [],
   "source": [
    "def subtract_time(t1, t2):\n",
    "    diff = time_to_int(t1) - time_to_int(t2)\n",
    "    return int_to_time(diff)"
   ]
  },
  {
   "cell_type": "code",
   "execution_count": 54,
   "id": "d344c2f1-79e4-4a18-b219-11b3b5f620aa",
   "metadata": {},
   "outputs": [],
   "source": [
    "def is_after(t1, t2):\n",
    "    \"\"\"Checks whether `t1` is after `t2`.\n",
    "    \n",
    "    >>> is_after(make_time(3, 2, 1), make_time(3, 2, 0))\n",
    "    True\n",
    "    >>> is_after(make_time(3, 2, 1), make_time(3, 2, 1))\n",
    "    False\n",
    "    >>> is_after(make_time(11, 12, 0), make_time(9, 40, 0))\n",
    "    True\n",
    "    \"\"\"\n",
    "    if time_to_int(t1) > time_to_int(t2):\n",
    "        return True\n",
    "\n",
    "    return False"
   ]
  },
  {
   "cell_type": "code",
   "execution_count": 55,
   "id": "b7d53118-2909-4d92-807b-7c42e4a31670",
   "metadata": {},
   "outputs": [
    {
     "name": "stdout",
     "output_type": "stream",
     "text": [
      "Trying:\n",
      "    is_after(make_time(3, 2, 1), make_time(3, 2, 0))\n",
      "Expecting:\n",
      "    True\n",
      "ok\n",
      "Trying:\n",
      "    is_after(make_time(3, 2, 1), make_time(3, 2, 1))\n",
      "Expecting:\n",
      "    False\n",
      "ok\n",
      "Trying:\n",
      "    is_after(make_time(11, 12, 0), make_time(9, 40, 0))\n",
      "Expecting:\n",
      "    True\n",
      "ok\n",
      "9 items had no tests:\n",
      "    __main__\n",
      "    __main__.Time\n",
      "    __main__.add_time\n",
      "    __main__.increment_time\n",
      "    __main__.int_to_time\n",
      "    __main__.make_time\n",
      "    __main__.print_time\n",
      "    __main__.subtract_time\n",
      "    __main__.time_to_int\n",
      "\u001b[32m1 item passed all tests:\u001b[0m\n",
      " \u001b[32m  3 tests in __main__.is_after\u001b[0m\n",
      "3 tests in 10 items.\n",
      "\u001b[32m3 passed\u001b[0m.\n",
      "\u001b[1;32mTest passed.\u001b[0m\n"
     ]
    },
    {
     "data": {
      "text/plain": [
       "TestResults(failed=0, attempted=3)"
      ]
     },
     "execution_count": 55,
     "metadata": {},
     "output_type": "execute_result"
    }
   ],
   "source": [
    "import doctest\n",
    "doctest.testmod(verbose=True)"
   ]
  },
  {
   "cell_type": "code",
   "execution_count": 56,
   "id": "67452245-b8b2-4b59-8c13-5833f33c968d",
   "metadata": {},
   "outputs": [],
   "source": [
    "class Date:\n",
    "    \"\"\"Represents a year, month, and day\"\"\""
   ]
  },
  {
   "cell_type": "code",
   "execution_count": 57,
   "id": "28ee4047-76cf-48bf-9311-e9c3e20d776f",
   "metadata": {},
   "outputs": [],
   "source": [
    "def make_date(year, month, day):\n",
    "    date = Date()\n",
    "    date.year = year\n",
    "    date.month = month\n",
    "    date.day = day\n",
    "    return date"
   ]
  },
  {
   "cell_type": "code",
   "execution_count": 60,
   "id": "5b876835-f6f5-4666-9a82-d84b68c4461e",
   "metadata": {},
   "outputs": [],
   "source": [
    "def print_date(date):\n",
    "    print(f\"{date.year}-{date.month:02d}-{date.day:02d}\")"
   ]
  },
  {
   "cell_type": "code",
   "execution_count": 72,
   "id": "3c5e9fb4-6bd5-462e-8bef-43b747b51ca4",
   "metadata": {},
   "outputs": [],
   "source": [
    "def date_to_tuple(date):\n",
    "    return (date.year, date.month, date.day)\n",
    "\n",
    "def is_after(d1, d2):\n",
    "\n",
    "    if date_to_tuple(d1) > date_to_tuple(d2):\n",
    "        return True\n",
    "\n",
    "    return False"
   ]
  },
  {
   "cell_type": "code",
   "execution_count": 73,
   "id": "fec74629-3a52-4f88-bbac-51e1c4435934",
   "metadata": {},
   "outputs": [
    {
     "name": "stdout",
     "output_type": "stream",
     "text": [
      "1933-06-22\n",
      "1933-09-17\n"
     ]
    },
    {
     "data": {
      "text/plain": [
       "False"
      ]
     },
     "execution_count": 73,
     "metadata": {},
     "output_type": "execute_result"
    }
   ],
   "source": [
    "date1= make_date(1933, 6, 22)\n",
    "print_date(date1)\n",
    "\n",
    "date2 = make_date(1933, 9, 17)\n",
    "print_date(date2)\n",
    "\n",
    "is_after(date1, date2)"
   ]
  },
  {
   "cell_type": "code",
   "execution_count": 74,
   "id": "850eb5a6-94e9-482b-a19e-c5ee3f926a41",
   "metadata": {},
   "outputs": [
    {
     "data": {
      "text/plain": [
       "True"
      ]
     },
     "execution_count": 74,
     "metadata": {},
     "output_type": "execute_result"
    }
   ],
   "source": [
    "is_after(date2, date1)"
   ]
  },
  {
   "cell_type": "code",
   "execution_count": null,
   "id": "e79e5a07-9278-4e9f-83d8-4936854a17fa",
   "metadata": {},
   "outputs": [],
   "source": []
  }
 ],
 "metadata": {
  "kernelspec": {
   "display_name": "Python 3 (ipykernel)",
   "language": "python",
   "name": "python3"
  },
  "language_info": {
   "codemirror_mode": {
    "name": "ipython",
    "version": 3
   },
   "file_extension": ".py",
   "mimetype": "text/x-python",
   "name": "python",
   "nbconvert_exporter": "python",
   "pygments_lexer": "ipython3",
   "version": "3.13.5"
  }
 },
 "nbformat": 4,
 "nbformat_minor": 5
}

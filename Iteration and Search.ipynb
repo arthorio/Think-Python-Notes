{
 "cells": [
  {
   "cell_type": "code",
   "execution_count": 1,
   "id": "751f398a-8313-482f-a60f-b00898e0ca9d",
   "metadata": {},
   "outputs": [
    {
     "name": "stdout",
     "output_type": "stream",
     "text": [
      "Downloaded thinkpython.py\n",
      "Downloaded diagram.py\n"
     ]
    }
   ],
   "source": [
    "from os.path import basename, exists\n",
    "\n",
    "def download(url):\n",
    "    filename = basename(url)\n",
    "    if not exists(filename):\n",
    "        from urllib.request import urlretrieve\n",
    "\n",
    "        local, _ = urlretrieve(url, filename)\n",
    "        print(\"Downloaded \" + str(local))\n",
    "    return filename\n",
    "\n",
    "download('https://github.com/AllenDowney/ThinkPython/raw/v3/thinkpython.py');\n",
    "download('https://github.com/AllenDowney/ThinkPython/raw/v3/diagram.py');\n",
    "\n",
    "import thinkpython"
   ]
  },
  {
   "cell_type": "code",
   "execution_count": 2,
   "id": "f20ec789-55a2-4675-a252-8fa063515e0d",
   "metadata": {},
   "outputs": [
    {
     "name": "stdout",
     "output_type": "stream",
     "text": [
      "Downloaded words.txt\n"
     ]
    }
   ],
   "source": [
    "download('https://raw.githubusercontent.com/AllenDowney/ThinkPython/v3/words.txt');"
   ]
  },
  {
   "cell_type": "code",
   "execution_count": 34,
   "id": "67275f4b-703e-48c8-a2aa-6cd7b1731c77",
   "metadata": {},
   "outputs": [],
   "source": [
    "file_object = open('words.txt')\n",
    "\n",
    "def has_e(word):\n",
    "    return 'e' in word.lower()\n",
    "\n",
    "total = 0\n",
    "e_count = 0\n",
    "\n",
    "for line in file_object:\n",
    "    word = line.strip()\n",
    "    total += 1\n",
    "\n",
    "    if has_e(word):\n",
    "        e_count += 1"
   ]
  },
  {
   "cell_type": "code",
   "execution_count": 36,
   "id": "90141ca0-3844-4cf6-826e-3495779976de",
   "metadata": {},
   "outputs": [],
   "source": [
    "from doctest import run_docstring_examples\n",
    "\n",
    "def run_doctests(func):\n",
    "    run_docstring_examples(func, globals(), name=func.__name__)\n",
    "\n",
    "def uses_any(word, letters):\n",
    "    \"\"\"Checks if a word uses any of a list of letters.\n",
    "    \n",
    "    >>> uses_any('banana', 'aeiou')\n",
    "    True\n",
    "    >>> uses_any('apple', 'xyz')\n",
    "    False\n",
    "    \"\"\"\n",
    "    for letter in word.lower():\n",
    "        if letter in letters.lower():\n",
    "            return True\n",
    "    return False\n",
    "\n",
    "run_doctests(uses_any)"
   ]
  },
  {
   "cell_type": "code",
   "execution_count": 142,
   "id": "e3c35f67-516a-4a24-8366-1ae56531c316",
   "metadata": {},
   "outputs": [],
   "source": [
    "def uses_only(word, available):\n",
    "    \"\"\"Checks whether a word uses only the available letters.\n",
    "    \n",
    "    >>> uses_only('banana', 'ban')\n",
    "    True\n",
    "    >>> uses_only('apple', 'apl')\n",
    "    False\n",
    "    >>> uses_only('pineapple', 'Alpine')\n",
    "    True\n",
    "    \"\"\"\n",
    "\n",
    "    for letter in word:\n",
    "        if letter not in available.lower():\n",
    "            return False\n",
    "    return True"
   ]
  },
  {
   "cell_type": "code",
   "execution_count": 143,
   "id": "7ec4e1ec-da9f-4847-b273-a22240e9a968",
   "metadata": {},
   "outputs": [],
   "source": [
    "run_doctests(uses_only)"
   ]
  },
  {
   "cell_type": "code",
   "execution_count": 168,
   "id": "305036cd-315a-4b15-8727-97cf9a4cd3df",
   "metadata": {},
   "outputs": [],
   "source": [
    "def uses_all(word, required):\n",
    "    \"\"\"Checks whether a word uses all required letters.\n",
    "    \n",
    "    >>> uses_all('banana', 'ban')\n",
    "    True\n",
    "    >>> uses_all('apple', 'api')\n",
    "    False\n",
    "    >>> uses_all('jacare','jc')\n",
    "    True\n",
    "    \"\"\"\n",
    "\n",
    "    \n",
    "    \"\"\" Using uses_any\n",
    "    for letter in required:\n",
    "        if not uses_any(letter, word):\n",
    "            return False\n",
    "    return True\n",
    "    \"\"\"\n",
    "    \n",
    "    return uses_only(required, word)"
   ]
  },
  {
   "cell_type": "code",
   "execution_count": 167,
   "id": "bc7f60cf-69c1-4083-a0d2-7ee5311616f9",
   "metadata": {},
   "outputs": [],
   "source": [
    "run_doctests(uses_all)"
   ]
  },
  {
   "cell_type": "code",
   "execution_count": 130,
   "id": "6ea1efd4-eb13-460c-967e-feb8d31ca8a5",
   "metadata": {},
   "outputs": [],
   "source": [
    "def check_word(word, available, required):\n",
    "    \"\"\"Check whether a word is acceptable.\n",
    "    \n",
    "    >>> check_word('color', 'ACDLORT', 'R')\n",
    "    True\n",
    "    >>> check_word('ratatat', 'ACDLORT', 'R')\n",
    "    True\n",
    "    >>> check_word('rat', 'ACDLORT', 'R')\n",
    "    False\n",
    "    >>> check_word('told', 'ACDLORT', 'R')\n",
    "    False\n",
    "    >>> check_word('bee', 'ACDLORT', 'R')\n",
    "    False\n",
    "    \"\"\"\n",
    "\n",
    "    required = required.lower()\n",
    "    word = word.lower()\n",
    "    available = available.lower()\n",
    "    \n",
    "    if required in word and len(word) > 3:\n",
    "        for letter in word:\n",
    "            if letter not in available:\n",
    "                return False\n",
    "    else:\n",
    "        return False\n",
    "\n",
    "    return True\n",
    "\n",
    "def word_score(word, available):\n",
    "    \"\"\"Compute the score for an acceptable word.\n",
    "    \n",
    "    >>> word_score('card', 'ACDLORT')\n",
    "    1\n",
    "    >>> word_score('color', 'ACDLORT')\n",
    "    5\n",
    "    >>> word_score('cartload', 'ACDLORT')\n",
    "    15\n",
    "    \"\"\"\n",
    "\n",
    "    score = 0\n",
    "\n",
    "    available = available.lower()\n",
    "    word = word.lower()\n",
    "    \n",
    "    if len(word) > 4:\n",
    "        for letter in range(len(word)):\n",
    "            score += 1\n",
    "    else:\n",
    "        score += 1\n",
    "\n",
    "    for letter in available:\n",
    "        if letter not in word:\n",
    "            return score\n",
    "\n",
    "    return score+7"
   ]
  },
  {
   "cell_type": "code",
   "execution_count": 131,
   "id": "c34910b6-6103-44c7-98c0-2048b6d76d57",
   "metadata": {},
   "outputs": [],
   "source": [
    "run_doctests(word_score)"
   ]
  },
  {
   "cell_type": "code",
   "execution_count": null,
   "id": "77f7d0e6-186e-4eaa-a639-3143e1d23899",
   "metadata": {},
   "outputs": [],
   "source": []
  }
 ],
 "metadata": {
  "kernelspec": {
   "display_name": "Python 3 (ipykernel)",
   "language": "python",
   "name": "python3"
  },
  "language_info": {
   "codemirror_mode": {
    "name": "ipython",
    "version": 3
   },
   "file_extension": ".py",
   "mimetype": "text/x-python",
   "name": "python",
   "nbconvert_exporter": "python",
   "pygments_lexer": "ipython3",
   "version": "3.13.1"
  }
 },
 "nbformat": 4,
 "nbformat_minor": 5
}

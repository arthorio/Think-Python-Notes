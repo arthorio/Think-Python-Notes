{
 "cells": [
  {
   "cell_type": "code",
   "execution_count": 121,
   "id": "0aefeb46-7ee7-4d38-9db7-f8a6a2467fd6",
   "metadata": {},
   "outputs": [
    {
     "data": {
      "text/plain": [
       "'/home/arthur.luz/Documentos/git-REPO/Think Python Notes'"
      ]
     },
     "execution_count": 121,
     "metadata": {},
     "output_type": "execute_result"
    }
   ],
   "source": [
    "import os\n",
    "\n",
    "os.getcwd()"
   ]
  },
  {
   "cell_type": "code",
   "execution_count": 122,
   "id": "48cc906e-31c2-4db2-ad40-b16608a0aa72",
   "metadata": {},
   "outputs": [],
   "source": [
    "num_years = 1.5\n",
    "num_camels = 23\n",
    "\n",
    "writer = open('camel-spotting-book.txt', 'w')\n",
    "writer.write(f'Years of observation: {num_years}\\n')\n",
    "writer.write(f'Camels spotted: {num_camels}\\n')\n",
    "writer.close()"
   ]
  },
  {
   "cell_type": "code",
   "execution_count": 123,
   "id": "c6d79c70-d62f-4884-924c-40adf089abf8",
   "metadata": {},
   "outputs": [
    {
     "name": "stdout",
     "output_type": "stream",
     "text": [
      "Years of observation: 1.5\n",
      "Camels spotted: 23\n",
      "\n"
     ]
    }
   ],
   "source": [
    "data = open('camel-spotting-book.txt').read()\n",
    "print(data)"
   ]
  },
  {
   "cell_type": "code",
   "execution_count": 124,
   "id": "12671a3e-38e7-4a72-ac3c-8ec776525291",
   "metadata": {},
   "outputs": [],
   "source": [
    "import yaml\n",
    "\n",
    "config = {\n",
    "    'photo_dir': 'photos',\n",
    "    'data_dir': 'photo_info',\n",
    "    'extensions': ['jpg', 'jpeg'],\n",
    "}\n",
    "\n",
    "config_filename = 'config.yaml'\n",
    "writer = open(config_filename, 'w')\n",
    "yaml.dump(config, writer)\n",
    "writer.close()"
   ]
  },
  {
   "cell_type": "code",
   "execution_count": 125,
   "id": "e2c718f8-5529-4e00-b06e-0ce07202ae0a",
   "metadata": {},
   "outputs": [
    {
     "name": "stdout",
     "output_type": "stream",
     "text": [
      "data_dir: photo_info\n",
      "extensions:\n",
      "- jpg\n",
      "- jpeg\n",
      "photo_dir: photos\n",
      "\n"
     ]
    }
   ],
   "source": [
    "readback = open(config_filename).read()\n",
    "print(readback)"
   ]
  },
  {
   "cell_type": "code",
   "execution_count": 126,
   "id": "90065b75-c1bf-4eca-9c71-aa1409083804",
   "metadata": {},
   "outputs": [
    {
     "data": {
      "text/plain": [
       "{'data_dir': 'photo_info',\n",
       " 'extensions': ['jpg', 'jpeg'],\n",
       " 'photo_dir': 'photos'}"
      ]
     },
     "execution_count": 126,
     "metadata": {},
     "output_type": "execute_result"
    }
   ],
   "source": [
    "reader = open(config_filename)\n",
    "config_readback = yaml.safe_load(reader)\n",
    "config_readback"
   ]
  },
  {
   "cell_type": "code",
   "execution_count": 127,
   "id": "08846547-78f4-47a2-8b88-e4f8ffad94e9",
   "metadata": {},
   "outputs": [
    {
     "data": {
      "text/plain": [
       "False"
      ]
     },
     "execution_count": 127,
     "metadata": {},
     "output_type": "execute_result"
    }
   ],
   "source": [
    "config is config_readback"
   ]
  },
  {
   "cell_type": "code",
   "execution_count": 128,
   "id": "636731d0-6f38-45a2-83c6-322b02f5cf68",
   "metadata": {},
   "outputs": [
    {
     "data": {
      "text/plain": [
       "'photo_info'"
      ]
     },
     "execution_count": 128,
     "metadata": {},
     "output_type": "execute_result"
    }
   ],
   "source": [
    "config['data_dir']"
   ]
  },
  {
   "cell_type": "code",
   "execution_count": 129,
   "id": "774c60d2-eb20-44de-a96d-4a5930c17bc8",
   "metadata": {},
   "outputs": [],
   "source": [
    "os.makedirs(config['data_dir'], exist_ok=True)"
   ]
  },
  {
   "cell_type": "code",
   "execution_count": 130,
   "id": "013a63d4-9801-4c32-91b4-86dd5e45e8ee",
   "metadata": {},
   "outputs": [
    {
     "data": {
      "text/plain": [
       "'photo_info/captions'"
      ]
     },
     "execution_count": 130,
     "metadata": {},
     "output_type": "execute_result"
    }
   ],
   "source": [
    "db_file = os.path.join(config['data_dir'], 'captions')\n",
    "db_file"
   ]
  },
  {
   "cell_type": "code",
   "execution_count": 131,
   "id": "19b965de-5db8-4e04-8a83-7c83b41a88e7",
   "metadata": {},
   "outputs": [
    {
     "data": {
      "text/plain": [
       "<shelve.DbfilenameShelf at 0x7cc90f86c2d0>"
      ]
     },
     "execution_count": 131,
     "metadata": {},
     "output_type": "execute_result"
    }
   ],
   "source": [
    "import shelve\n",
    "\n",
    "db = shelve.open(db_file, 'c')\n",
    "db"
   ]
  },
  {
   "cell_type": "code",
   "execution_count": 132,
   "id": "a8cbda3f-c6f8-4edf-af44-097812c1b45d",
   "metadata": {},
   "outputs": [],
   "source": [
    "key = 'jan-2023/photo1.jpg' \n",
    "db[key] = 'Cat nose'"
   ]
  },
  {
   "cell_type": "code",
   "execution_count": 133,
   "id": "ab783d5b-385d-45f0-b909-e22e433ae262",
   "metadata": {},
   "outputs": [
    {
     "data": {
      "text/plain": [
       "'Cat nose'"
      ]
     },
     "execution_count": 133,
     "metadata": {},
     "output_type": "execute_result"
    }
   ],
   "source": [
    "value = db[key]\n",
    "value"
   ]
  },
  {
   "cell_type": "code",
   "execution_count": 134,
   "id": "5fc4b2b3-5e04-469f-b772-850cbe895f1e",
   "metadata": {},
   "outputs": [
    {
     "data": {
      "text/plain": [
       "'Close up view of a cat nose'"
      ]
     },
     "execution_count": 134,
     "metadata": {},
     "output_type": "execute_result"
    }
   ],
   "source": [
    "db[key] = 'Close up view of a cat nose'\n",
    "db[key]"
   ]
  },
  {
   "cell_type": "code",
   "execution_count": 135,
   "id": "034965fb-0c84-4c7e-b9bb-8723bcce3f7e",
   "metadata": {},
   "outputs": [
    {
     "data": {
      "text/plain": [
       "['jan-2023/photo1.jpg', 'jan-20273/photo1.jpg']"
      ]
     },
     "execution_count": 135,
     "metadata": {},
     "output_type": "execute_result"
    }
   ],
   "source": [
    "list(db.keys())"
   ]
  },
  {
   "cell_type": "code",
   "execution_count": 136,
   "id": "2e815fb6-2f80-46db-8cab-72268ff49bdd",
   "metadata": {},
   "outputs": [
    {
     "data": {
      "text/plain": [
       "['Close up view of a cat nose', 'Cat nose']"
      ]
     },
     "execution_count": 136,
     "metadata": {},
     "output_type": "execute_result"
    }
   ],
   "source": [
    "list(db.values())"
   ]
  },
  {
   "cell_type": "code",
   "execution_count": 137,
   "id": "bf8f9cb3-1b0b-4f7a-b0b3-9709b35f68b6",
   "metadata": {},
   "outputs": [
    {
     "data": {
      "text/plain": [
       "True"
      ]
     },
     "execution_count": 137,
     "metadata": {},
     "output_type": "execute_result"
    }
   ],
   "source": [
    "key in db"
   ]
  },
  {
   "cell_type": "code",
   "execution_count": 138,
   "id": "97e8a48e-7910-4b88-8b04-b4814c3b57e3",
   "metadata": {},
   "outputs": [
    {
     "name": "stdout",
     "output_type": "stream",
     "text": [
      "jan-2023/photo1.jpg : Close up view of a cat nose\n",
      "jan-20273/photo1.jpg : Cat nose\n"
     ]
    }
   ],
   "source": [
    "for key in db:\n",
    "    print(key, ':', db[key])"
   ]
  },
  {
   "cell_type": "code",
   "execution_count": 139,
   "id": "95c60b9e-c3ca-475e-b738-719b188b9757",
   "metadata": {},
   "outputs": [],
   "source": [
    "db.close()"
   ]
  },
  {
   "cell_type": "code",
   "execution_count": 140,
   "id": "0c2f1d69-8299-4eb1-b201-a403deddc8d7",
   "metadata": {},
   "outputs": [
    {
     "data": {
      "text/plain": [
       "['captions']"
      ]
     },
     "execution_count": 140,
     "metadata": {},
     "output_type": "execute_result"
    }
   ],
   "source": [
    "os.listdir(config['data_dir'])"
   ]
  },
  {
   "cell_type": "code",
   "execution_count": 141,
   "id": "899d2bd5-c137-4e07-87af-0aa508e05452",
   "metadata": {},
   "outputs": [],
   "source": [
    "#13.5. Storing data structures"
   ]
  },
  {
   "cell_type": "code",
   "execution_count": 142,
   "id": "2b8bd8a8-1a73-46b8-91b3-c7c1123f2a98",
   "metadata": {},
   "outputs": [],
   "source": [
    "def sort_word(word):\n",
    "    return ''.join(sorted(word))"
   ]
  },
  {
   "cell_type": "code",
   "execution_count": 143,
   "id": "6e4b663a-9a8b-400b-a789-cec65b2339a6",
   "metadata": {},
   "outputs": [
    {
     "data": {
      "text/plain": [
       "'opst'"
      ]
     },
     "execution_count": 143,
     "metadata": {},
     "output_type": "execute_result"
    }
   ],
   "source": [
    "word = 'pots'\n",
    "key = sort_word(word)\n",
    "key"
   ]
  },
  {
   "cell_type": "code",
   "execution_count": 144,
   "id": "1467ac28-7b77-49e7-8919-1595c7605585",
   "metadata": {},
   "outputs": [],
   "source": [
    "db = shelve.open('anagram_map', 'n')"
   ]
  },
  {
   "cell_type": "code",
   "execution_count": 145,
   "id": "7b16b741-0f2a-4841-a06f-948c9998a15e",
   "metadata": {},
   "outputs": [
    {
     "data": {
      "text/plain": [
       "['pots']"
      ]
     },
     "execution_count": 145,
     "metadata": {},
     "output_type": "execute_result"
    }
   ],
   "source": [
    "db[key] = [word]\n",
    "db[key]"
   ]
  },
  {
   "cell_type": "code",
   "execution_count": 146,
   "id": "695fd408-967d-4b10-a61d-4821de182bd7",
   "metadata": {},
   "outputs": [
    {
     "data": {
      "text/plain": [
       "'opst'"
      ]
     },
     "execution_count": 146,
     "metadata": {},
     "output_type": "execute_result"
    }
   ],
   "source": [
    "word = 'tops'\n",
    "key = sort_word(word)\n",
    "key"
   ]
  },
  {
   "cell_type": "code",
   "execution_count": 147,
   "id": "37ed8be7-2e15-46af-9f9f-148bc48f4788",
   "metadata": {},
   "outputs": [],
   "source": [
    "anagram_list = db[key]\n",
    "anagram_list.append(word)\n",
    "db[key] = anagram_list"
   ]
  },
  {
   "cell_type": "code",
   "execution_count": 116,
   "id": "dc4e9644-a4e2-4570-94c5-43b810434894",
   "metadata": {},
   "outputs": [],
   "source": [
    "# Exercise\n",
    "\n",
    "words = open('words.txt').read().split()\n",
    "\n",
    "for word in words:\n",
    "    key = sort_word(word)\n",
    "\n",
    "    if key in db:\n",
    "        anagram_list = db[key]\n",
    "        anagram_list.append(word)\n",
    "        db[key] = anagram_list\n",
    "    else:\n",
    "        db[key] = [word]"
   ]
  },
  {
   "cell_type": "code",
   "execution_count": 10,
   "id": "459954a6-e660-4aa0-b94c-f5a73d04adc0",
   "metadata": {},
   "outputs": [],
   "source": [
    "import hashlib\n",
    "\n",
    "def md5_digest(filename):\n",
    "    data = open(filename, 'rb').read()\n",
    "    md5_hash = hashlib.md5()\n",
    "    md5_hash.update(data)\n",
    "    digest = md5_hash.hexdigest()\n",
    "    return digest\n",
    "\n",
    "def walk(dirname):\n",
    "    for name in os.listdir(dirname):\n",
    "        path = os.path.join(dirname, name)\n",
    "\n",
    "        if os.path.isfile(path):\n",
    "            print(path)\n",
    "        elif os.path.isdir(path):\n",
    "            walk(path)"
   ]
  },
  {
   "cell_type": "code",
   "execution_count": null,
   "id": "48c3416a-bda9-4411-adeb-6edefaa907a5",
   "metadata": {},
   "outputs": [],
   "source": [
    "def replace_all(old, new, source_path, dest_path):\n",
    "    # read the contents of the source file\n",
    "    reader = open(source_path)\n",
    "\n",
    "    # replace the old string with the new\n",
    "    \n",
    "    # write the result into the destination file\n",
    "    "
   ]
  }
 ],
 "metadata": {
  "kernelspec": {
   "display_name": "Python 3 (ipykernel)",
   "language": "python",
   "name": "python3"
  },
  "language_info": {
   "codemirror_mode": {
    "name": "ipython",
    "version": 3
   },
   "file_extension": ".py",
   "mimetype": "text/x-python",
   "name": "python",
   "nbconvert_exporter": "python",
   "pygments_lexer": "ipython3",
   "version": "3.13.5"
  }
 },
 "nbformat": 4,
 "nbformat_minor": 5
}

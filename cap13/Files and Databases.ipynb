{
 "cells": [
  {
   "cell_type": "code",
   "execution_count": 2,
   "id": "12671a3e-38e7-4a72-ac3c-8ec776525291",
   "metadata": {},
   "outputs": [],
   "source": [
    "import yaml\n",
    "\n",
    "config = {\n",
    "    'photo_dir': 'photos',\n",
    "    'data_dir': 'photo_info',\n",
    "    'extensions': ['jpg', 'jpeg'],\n",
    "}\n",
    "\n",
    "config_filename = 'config.yaml'\n",
    "writer = open(config_filename, 'w')\n",
    "yaml.dump(config, writer)\n",
    "writer.close()"
   ]
  },
  {
   "cell_type": "code",
   "execution_count": 3,
   "id": "90065b75-c1bf-4eca-9c71-aa1409083804",
   "metadata": {},
   "outputs": [
    {
     "data": {
      "text/plain": [
       "{'data_dir': 'photo_info',\n",
       " 'extensions': ['jpg', 'jpeg'],\n",
       " 'photo_dir': 'photos'}"
      ]
     },
     "execution_count": 3,
     "metadata": {},
     "output_type": "execute_result"
    }
   ],
   "source": [
    "reader = open(config_filename)\n",
    "config_readback = yaml.safe_load(reader)\n",
    "config_readback"
   ]
  },
  {
   "cell_type": "code",
   "execution_count": 4,
   "id": "774c60d2-eb20-44de-a96d-4a5930c17bc8",
   "metadata": {},
   "outputs": [],
   "source": [
    "os.makedirs(config['data_dir'], exist_ok=True)"
   ]
  },
  {
   "cell_type": "code",
   "execution_count": 5,
   "id": "013a63d4-9801-4c32-91b4-86dd5e45e8ee",
   "metadata": {},
   "outputs": [
    {
     "data": {
      "text/plain": [
       "'photo_info\\\\captions'"
      ]
     },
     "execution_count": 5,
     "metadata": {},
     "output_type": "execute_result"
    }
   ],
   "source": [
    "db_file = os.path.join(config['data_dir'], 'captions')\n",
    "db_file"
   ]
  },
  {
   "cell_type": "code",
   "execution_count": 25,
   "id": "19b965de-5db8-4e04-8a83-7c83b41a88e7",
   "metadata": {},
   "outputs": [
    {
     "data": {
      "text/plain": [
       "<shelve.DbfilenameShelf at 0x2495aeffad0>"
      ]
     },
     "execution_count": 25,
     "metadata": {},
     "output_type": "execute_result"
    }
   ],
   "source": [
    "\n",
    "db = shelve.open(db_file, 'c')\n",
    "db"
   ]
  },
  {
   "cell_type": "code",
   "execution_count": 26,
   "id": "95c60b9e-c3ca-475e-b738-719b188b9757",
   "metadata": {},
   "outputs": [],
   "source": [
    "db.close()"
   ]
  },
  {
   "cell_type": "code",
   "execution_count": 27,
   "id": "0c2f1d69-8299-4eb1-b201-a403deddc8d7",
   "metadata": {},
   "outputs": [
    {
     "data": {
      "text/plain": [
       "['captions']"
      ]
     },
     "execution_count": 27,
     "metadata": {},
     "output_type": "execute_result"
    }
   ],
   "source": [
    "os.listdir(config['data_dir'])"
   ]
  },
  {
   "cell_type": "code",
   "execution_count": 9,
   "id": "899d2bd5-c137-4e07-87af-0aa508e05452",
   "metadata": {},
   "outputs": [],
   "source": [
    "#13.5. Storing data structures"
   ]
  },
  {
   "cell_type": "code",
   "execution_count": 10,
   "id": "2b8bd8a8-1a73-46b8-91b3-c7c1123f2a98",
   "metadata": {},
   "outputs": [],
   "source": [
    "def sort_word(word):\n",
    "    return ''.join(sorted(word))"
   ]
  },
  {
   "cell_type": "code",
   "execution_count": 11,
   "id": "1467ac28-7b77-49e7-8919-1595c7605585",
   "metadata": {},
   "outputs": [],
   "source": [
    "db = shelve.open('anagram_map', 'n')"
   ]
  },
  {
   "cell_type": "code",
   "execution_count": 28,
   "id": "dc4e9644-a4e2-4570-94c5-43b810434894",
   "metadata": {},
   "outputs": [
    {
     "data": {
      "text/plain": [
       "\"\\nwords = open('words.txt').read().split()\\n\\nfor word in words:\\n    key = sort_word(word)\\n\\n    if key in db:\\n        anagram_list = db[key]\\n        anagram_list.append(word)\\n        db[key] = anagram_list\\n    else:\\n        db[key] = [word]\\n\""
      ]
     },
     "execution_count": 28,
     "metadata": {},
     "output_type": "execute_result"
    }
   ],
   "source": [
    "# Exercise\n",
    "\n",
    "'''\n",
    "words = open('words.txt').read().split()\n",
    "\n",
    "for word in words:\n",
    "    key = sort_word(word)\n",
    "\n",
    "    if key in db:\n",
    "        anagram_list = db[key]\n",
    "        anagram_list.append(word)\n",
    "        db[key] = anagram_list\n",
    "    else:\n",
    "        db[key] = [word]\n",
    "'''"
   ]
  },
  {
   "cell_type": "code",
   "execution_count": 29,
   "id": "48c3416a-bda9-4411-adeb-6edefaa907a5",
   "metadata": {},
   "outputs": [],
   "source": [
    "def replace_all(old, new, source_path, dest_path):\n",
    "    # read the contents of the source file\n",
    "    reader = open(source_path).read()\n",
    "\n",
    "    # replace the old string with the new\n",
    "    text = reader.replace(old, new)\n",
    "\n",
    "    print(reader)\n",
    "    \n",
    "    # write the result into the destination file\n",
    "\n",
    "    writer = open(dest_path, 'w')\n",
    "    writer.write(text)\n",
    "    writer.close()\n",
    "\n",
    "    reader2 = open(dest_path).read()\n",
    "    print(reader2)"
   ]
  },
  {
   "cell_type": "code",
   "execution_count": 30,
   "id": "f1fd2d4d-20e5-4e00-bd22-eb4b01875b01",
   "metadata": {},
   "outputs": [
    {
     "name": "stdout",
     "output_type": "stream",
     "text": [
      "These photos are from Lorem Picsum at https://picsum.photos\n",
      "\n",
      "These images are from Lorem Picsum at https://picsum.images\n",
      "\n"
     ]
    }
   ],
   "source": [
    "replace_all(\"photos\", \"images\", 'photos/notes.txt', 'photos/new_notes.txt')"
   ]
  },
  {
   "cell_type": "code",
   "execution_count": 31,
   "id": "8bd41702-4f27-4e11-be0c-920e2c4d2b9b",
   "metadata": {},
   "outputs": [],
   "source": [
    "def add_word(word, db):\n",
    "    key = sort_word(word)\n",
    "\n",
    "    if key in db:\n",
    "        anagram_list = db[key]\n",
    "        anagram_list.append(word)\n",
    "        db[key] = anagram_list\n",
    "    else:\n",
    "        db[key] = [word]"
   ]
  },
  {
   "cell_type": "code",
   "execution_count": 32,
   "id": "913203a6-5b3c-43a9-95c0-0a45734e4878",
   "metadata": {},
   "outputs": [],
   "source": [
    "import os\n",
    "import hashlib\n",
    "\n",
    "def md5_digest(filename):\n",
    "    data = open(filename, 'rb').read()\n",
    "    md5_hash = hashlib.md5()\n",
    "    md5_hash.update(data)\n",
    "    digest = md5_hash.hexdigest()\n",
    "    return digest\n",
    "\n",
    "def walk(dirname):\n",
    "    for name in os.listdir(dirname):\n",
    "        path = os.path.join(dirname, name)\n",
    "\n",
    "        if os.path.isfile(path):\n",
    "            print(path)\n",
    "        elif os.path.isdir(path):\n",
    "            walk(path)\n",
    "\n",
    "file_extensions = config['extensions']"
   ]
  },
  {
   "cell_type": "code",
   "execution_count": 66,
   "id": "dd633d91-8c7f-45a3-a3c1-398eb1b92bdc",
   "metadata": {},
   "outputs": [],
   "source": [
    "def is_image(source_path, file_extensions):\n",
    "    raiz, extension = os.path.splitext(source_path)\n",
    "    return extension[1:].lower() in file_extensions\n",
    "\n",
    "def add_path(source_path, db):\n",
    "    digest = md5_digest(source_path)\n",
    "    db[digest] = db.get(digest, []) + [source_path]\n",
    "\n",
    "def walk_images(dirname, db):\n",
    "    for name in os.listdir(dirname):\n",
    "        path = os.path.join(dirname, name)\n",
    "\n",
    "        if os.path.isfile(path):\n",
    "            if is_image(path, file_extensions):\n",
    "                add_path(path, db)\n",
    "\n",
    "        elif os.path.isdir(path):\n",
    "            walk_images(path, db)"
   ]
  },
  {
   "cell_type": "code",
   "execution_count": 68,
   "id": "559260b1-fb29-49db-a88b-b704f07aadde",
   "metadata": {},
   "outputs": [],
   "source": [
    "def same_contents(path1, path2):\n",
    "    data1 = open(path1, 'rb').read()\n",
    "    data2 = open(path2, 'rb').read()\n",
    "    return data1 == data2"
   ]
  },
  {
   "cell_type": "code",
   "execution_count": 69,
   "id": "4aceac36-2f1f-4778-856d-62e8303f73d4",
   "metadata": {},
   "outputs": [
    {
     "name": "stdout",
     "output_type": "stream",
     "text": [
      "['photos\\\\jan-2023\\\\photo1.jpg', 'photos\\\\mar-2023\\\\photo2.jpg']\n",
      "True\n"
     ]
    }
   ],
   "source": [
    "import shelve\n",
    "\n",
    "db = shelve.open('photos/digests', 'n')\n",
    "walk_images('photos', db)\n",
    "\n",
    "for digest, paths in db.items():\n",
    "    if len(paths) > 1:\n",
    "        print(paths)\n",
    "        print(same_contents(paths[0], paths[1]))\n",
    "\n",
    "db.close()"
   ]
  },
  {
   "cell_type": "code",
   "execution_count": null,
   "id": "b43ee1f0-34e0-4edd-9df0-07791a395bd2",
   "metadata": {},
   "outputs": [],
   "source": []
  }
 ],
 "metadata": {
  "kernelspec": {
   "display_name": "Python 3 (ipykernel)",
   "language": "python",
   "name": "python3"
  },
  "language_info": {
   "codemirror_mode": {
    "name": "ipython",
    "version": 3
   },
   "file_extension": ".py",
   "mimetype": "text/x-python",
   "name": "python",
   "nbconvert_exporter": "python",
   "pygments_lexer": "ipython3",
   "version": "3.13.5"
  }
 },
 "nbformat": 4,
 "nbformat_minor": 5
}

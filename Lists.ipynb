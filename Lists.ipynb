{
 "cells": [
  {
   "cell_type": "code",
   "execution_count": 1,
   "id": "591948ce-b990-4ec5-98fb-310f8ff3a490",
   "metadata": {},
   "outputs": [
    {
     "data": {
      "text/plain": [
       "['b', 'c']"
      ]
     },
     "execution_count": 1,
     "metadata": {},
     "output_type": "execute_result"
    }
   ],
   "source": [
    "letters = ['a', 'b', 'c', 'd']\n",
    "letters[1:3]"
   ]
  },
  {
   "cell_type": "code",
   "execution_count": 2,
   "id": "8bad28c1-8f7d-47c8-ba26-ecade855d0b9",
   "metadata": {},
   "outputs": [
    {
     "data": {
      "text/plain": [
       "['a', 'b', 'c', 'd']"
      ]
     },
     "execution_count": 2,
     "metadata": {},
     "output_type": "execute_result"
    }
   ],
   "source": [
    "letters"
   ]
  },
  {
   "cell_type": "code",
   "execution_count": 6,
   "id": "399bd5ce-13ae-4865-9b24-ef4e9b13ffe1",
   "metadata": {},
   "outputs": [
    {
     "data": {
      "text/plain": [
       "['s', 'p', 'a', 'm']"
      ]
     },
     "execution_count": 6,
     "metadata": {},
     "output_type": "execute_result"
    }
   ],
   "source": [
    "s = 'spam'\n",
    "t = list(s)\n",
    "t"
   ]
  },
  {
   "cell_type": "code",
   "execution_count": 7,
   "id": "b270b4ed-3c0e-47c3-88b7-804c50d1c0fa",
   "metadata": {},
   "outputs": [
    {
     "data": {
      "text/plain": [
       "['pining', 'for', 'the', 'fjords']"
      ]
     },
     "execution_count": 7,
     "metadata": {},
     "output_type": "execute_result"
    }
   ],
   "source": [
    "s = 'pining for the fjords'\n",
    "t = s.split() #  s.split('-')\n",
    "t"
   ]
  },
  {
   "cell_type": "code",
   "execution_count": 8,
   "id": "304a32ae-b9d5-4ba9-a705-a4d92c775eb2",
   "metadata": {},
   "outputs": [
    {
     "data": {
      "text/plain": [
       "'pining for the fjords'"
      ]
     },
     "execution_count": 8,
     "metadata": {},
     "output_type": "execute_result"
    }
   ],
   "source": [
    "delimiter = ' '\n",
    "t = ['pining', 'for', 'the', 'fjords']\n",
    "s = delimiter.join(t)\n",
    "s"
   ]
  },
  {
   "cell_type": "code",
   "execution_count": 9,
   "id": "517e72bb-dd49-4ef7-b12b-aa4629efc767",
   "metadata": {},
   "outputs": [
    {
     "data": {
      "text/plain": [
       "'eelrstt'"
      ]
     },
     "execution_count": 9,
     "metadata": {},
     "output_type": "execute_result"
    }
   ],
   "source": [
    "''.join(sorted('letters')) # '' -> delimiter"
   ]
  },
  {
   "cell_type": "code",
   "execution_count": 10,
   "id": "a16b7fee-211c-4892-9529-3277194a25a1",
   "metadata": {},
   "outputs": [
    {
     "data": {
      "text/plain": [
       "False"
      ]
     },
     "execution_count": 10,
     "metadata": {},
     "output_type": "execute_result"
    }
   ],
   "source": [
    "\"\"\"\n",
    "In this case we would say that the two lists are \n",
    "equivalent, because they have the same elements, \n",
    "but not identical, because they are not the same object. \n",
    "If two objects are identical, they are also equivalent, \n",
    "but if they are equivalent, they are not necessarily identical.\n",
    "\"\"\"\n",
    "\n",
    "a = [1, 2, 3]\n",
    "b = [1, 2, 3]\n",
    "a is b\n",
    "\n"
   ]
  },
  {
   "cell_type": "code",
   "execution_count": null,
   "id": "949d5ab3-d7fe-401e-b2c7-adbf1924f14b",
   "metadata": {},
   "outputs": [],
   "source": [
    "\"\"\"\n",
    "An object with more than one reference has more than one name, \n",
    "so we say the object is aliased. If the aliased object is mutable, \n",
    "changes made with one name affect the other.\n",
    "\"\"\"\n",
    "\n",
    "a = [1, 2, 3]\n",
    "b = a\n",
    "b is a"
   ]
  },
  {
   "cell_type": "code",
   "execution_count": 31,
   "id": "ad2abded-cae7-4a0d-ab22-58fccdf418d2",
   "metadata": {},
   "outputs": [],
   "source": [
    "word_list = []\n",
    "\n",
    "for line in open('words.txt'):\n",
    "    word = line.strip()\n",
    "    word_list.append(word)\n",
    "\n",
    "def is_anagram(a, b):\n",
    "    if sorted(a) == sorted(b):\n",
    "        return True\n",
    "    return False\n",
    "    "
   ]
  },
  {
   "cell_type": "code",
   "execution_count": 34,
   "id": "f6569509-9acc-4a98-b463-f1754fe89507",
   "metadata": {},
   "outputs": [],
   "source": [
    "target = \"takes\"\n",
    "target_anagrams = []\n",
    "\n",
    "for word in word_list:\n",
    "    if is_anagram(target, word):\n",
    "        target_anagrams.append(word)"
   ]
  },
  {
   "cell_type": "code",
   "execution_count": 35,
   "id": "31a99d86-789b-4f92-8bbd-c6854c49f7b8",
   "metadata": {},
   "outputs": [
    {
     "data": {
      "text/plain": [
       "['skate', 'stake', 'steak', 'takes', 'teaks']"
      ]
     },
     "execution_count": 35,
     "metadata": {},
     "output_type": "execute_result"
    }
   ],
   "source": [
    "target_anagrams"
   ]
  },
  {
   "cell_type": "code",
   "execution_count": 46,
   "id": "473f368a-8633-4aa6-92e1-ca81c7b6581f",
   "metadata": {},
   "outputs": [
    {
     "name": "stdout",
     "output_type": "stream",
     "text": [
      "deified\n",
      "halalah\n",
      "reifier\n",
      "repaper\n",
      "reviver\n",
      "rotator\n",
      "sememes\n"
     ]
    }
   ],
   "source": [
    "def is_palindrome(word: str):\n",
    "    if word == ''.join(reversed(word)):\n",
    "        return True\n",
    "\n",
    "for word in word_list:\n",
    "    if len(word) >=7 and is_palindrome(word):\n",
    "        print(word)\n"
   ]
  },
  {
   "cell_type": "code",
   "execution_count": 144,
   "id": "1bac58b4-67cb-4acd-83ce-87bd8b1c1a05",
   "metadata": {},
   "outputs": [],
   "source": [
    "def reverse_sentence(sentence):\n",
    "    words = sentence.split()\n",
    "\n",
    "    reversed_words = []\n",
    "    for i in range(len(words)):\n",
    "        reversed_words.append(words.pop().lower())\n",
    "    \n",
    "    return ' '.join(reversed_words).capitalize()"
   ]
  },
  {
   "cell_type": "code",
   "execution_count": 145,
   "id": "5bd97d4c-2a60-44de-ad2f-7747bc573760",
   "metadata": {},
   "outputs": [
    {
     "data": {
      "text/plain": [
       "'Dog lazy the over jumps fox brown quick the'"
      ]
     },
     "execution_count": 145,
     "metadata": {},
     "output_type": "execute_result"
    }
   ],
   "source": [
    "reverse_sentence(\"The quick brown fox jumps over the lazy dog\")"
   ]
  },
  {
   "cell_type": "code",
   "execution_count": 165,
   "id": "e978a19c-da98-47cf-9827-57d4c9e55c70",
   "metadata": {},
   "outputs": [],
   "source": [
    "def total_lenght(string_list):\n",
    "    total = 0\n",
    "    for word in string_list:\n",
    "        total += len(word)\n",
    "    return total    "
   ]
  },
  {
   "cell_type": "code",
   "execution_count": 164,
   "id": "ebfcfb74-872c-40ce-8db5-f77f053a8595",
   "metadata": {},
   "outputs": [
    {
     "data": {
      "text/plain": [
       "902728"
      ]
     },
     "execution_count": 164,
     "metadata": {},
     "output_type": "execute_result"
    }
   ],
   "source": [
    "total_lenght(word_list)"
   ]
  },
  {
   "cell_type": "code",
   "execution_count": null,
   "id": "30b60b81-b3fa-4368-9f62-f92b6a697b83",
   "metadata": {},
   "outputs": [],
   "source": []
  }
 ],
 "metadata": {
  "kernelspec": {
   "display_name": "Python 3 (ipykernel)",
   "language": "python",
   "name": "python3"
  },
  "language_info": {
   "codemirror_mode": {
    "name": "ipython",
    "version": 3
   },
   "file_extension": ".py",
   "mimetype": "text/x-python",
   "name": "python",
   "nbconvert_exporter": "python",
   "pygments_lexer": "ipython3",
   "version": "3.13.1"
  }
 },
 "nbformat": 4,
 "nbformat_minor": 5
}

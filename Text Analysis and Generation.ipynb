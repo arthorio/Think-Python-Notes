{
 "cells": [
  {
   "cell_type": "code",
   "execution_count": 1,
   "id": "d56627e3-96b4-47df-b5ec-cd18c90ee4bc",
   "metadata": {},
   "outputs": [],
   "source": [
    "from os.path import basename, exists\n",
    "\n",
    "def download(url):\n",
    "    filename = basename(url)\n",
    "    if not exists(filename):\n",
    "        from urllib.request import urlretrieve\n",
    "\n",
    "        local, _ = urlretrieve(url, filename)\n",
    "        print(\"Downloaded \" + str(local))\n",
    "    return filename\n",
    "\n",
    "download('https://github.com/AllenDowney/ThinkPython/raw/v3/thinkpython.py');\n",
    "download('https://github.com/AllenDowney/ThinkPython/raw/v3/diagram.py');\n",
    "\n",
    "import thinkpython"
   ]
  },
  {
   "cell_type": "code",
   "execution_count": 2,
   "id": "c4c44a0e-4057-4ef1-8afb-e36126f37d10",
   "metadata": {},
   "outputs": [],
   "source": [
    "download('https://www.gutenberg.org/cache/epub/43/pg43.txt');"
   ]
  },
  {
   "cell_type": "code",
   "execution_count": 3,
   "id": "20ab90c5-9773-430e-8f80-b94549f42598",
   "metadata": {},
   "outputs": [],
   "source": [
    "def is_special_line(line):\n",
    "    return line.strip().startswith('*** ')"
   ]
  },
  {
   "cell_type": "code",
   "execution_count": 4,
   "id": "5051b666-c771-4cce-becb-dbab65701948",
   "metadata": {},
   "outputs": [],
   "source": [
    "def clean_file(input_file, output_file):\n",
    "    reader = open(input_file, encoding='utf-8')\n",
    "    writer = open(output_file, 'w')\n",
    "\n",
    "    for line in reader:\n",
    "        if is_special_line(line):\n",
    "            break\n",
    "\n",
    "    for line in reader:\n",
    "        if is_special_line(line):\n",
    "            break\n",
    "        writer.write(line)\n",
    "        \n",
    "    reader.close()\n",
    "    writer.close()"
   ]
  },
  {
   "cell_type": "code",
   "execution_count": 5,
   "id": "cdd2ace4-e00d-4720-8631-64b84a86a4ce",
   "metadata": {},
   "outputs": [],
   "source": [
    "filename = 'dr_jekyll.txt'\n",
    "clean_file('pg43.txt', filename)"
   ]
  },
  {
   "cell_type": "code",
   "execution_count": 6,
   "id": "3e3fa8c0-f36a-4075-a8ca-46297f85e076",
   "metadata": {},
   "outputs": [
    {
     "data": {
      "text/plain": [
       "6042"
      ]
     },
     "execution_count": 6,
     "metadata": {},
     "output_type": "execute_result"
    }
   ],
   "source": [
    "unique_words = {}\n",
    "for line in open(filename):\n",
    "    seq = line.split()\n",
    "    for word in seq:\n",
    "        unique_words[word] = 1\n",
    "\n",
    "len(unique_words)"
   ]
  },
  {
   "cell_type": "code",
   "execution_count": 7,
   "id": "63c38e04-82d7-4cc5-b9f6-b4bbe20cba52",
   "metadata": {},
   "outputs": [
    {
     "data": {
      "text/plain": [
       "['chocolate-coloured',\n",
       " 'superiors—behold!”',\n",
       " 'coolness—frightened',\n",
       " 'gentleman—something',\n",
       " 'pocket-handkerchief.']"
      ]
     },
     "execution_count": 7,
     "metadata": {},
     "output_type": "execute_result"
    }
   ],
   "source": [
    "sorted(unique_words, key=len)[-5:]"
   ]
  },
  {
   "cell_type": "code",
   "execution_count": 8,
   "id": "910e30be-1b31-4e62-9a39-79e571690e2e",
   "metadata": {},
   "outputs": [
    {
     "data": {
      "text/plain": [
       "['coolness', 'frightened']"
      ]
     },
     "execution_count": 8,
     "metadata": {},
     "output_type": "execute_result"
    }
   ],
   "source": [
    "def split_line(line):\n",
    "    return line.replace('—', ' ').split()\n",
    "\n",
    "split_line('coolness—frightened')"
   ]
  },
  {
   "cell_type": "code",
   "execution_count": 9,
   "id": "b8cc9139-9f21-4051-af9b-50c2b01a609d",
   "metadata": {},
   "outputs": [
    {
     "data": {
      "text/plain": [
       "'Po'"
      ]
     },
     "execution_count": 9,
     "metadata": {},
     "output_type": "execute_result"
    }
   ],
   "source": [
    "import unicodedata\n",
    "\n",
    "unicodedata.category('.')"
   ]
  },
  {
   "cell_type": "code",
   "execution_count": 10,
   "id": "9e3f893d-44b4-47cd-a51c-9d28156a7765",
   "metadata": {},
   "outputs": [],
   "source": [
    "punc_marks = {}\n",
    "for line in open(filename):\n",
    "    for char in line:\n",
    "        category = unicodedata.category(char)\n",
    "        if category.startswith('P'):\n",
    "            punc_marks[char] = 1"
   ]
  },
  {
   "cell_type": "code",
   "execution_count": 11,
   "id": "536adc1a-2697-4347-beed-a2397f87ca71",
   "metadata": {},
   "outputs": [
    {
     "name": "stdout",
     "output_type": "stream",
     "text": [
      ".’;,-“”:?—‘!()_\n"
     ]
    }
   ],
   "source": [
    "punctuation = ''.join(punc_marks)\n",
    "print(punctuation)"
   ]
  },
  {
   "cell_type": "code",
   "execution_count": 12,
   "id": "a5ef3f88-b748-45d0-b769-3bdd9fc78875",
   "metadata": {},
   "outputs": [],
   "source": [
    "def clean_word(word):\n",
    "    return word.strip(punctuation).lower()"
   ]
  },
  {
   "cell_type": "code",
   "execution_count": 13,
   "id": "652fdc40-60bf-44ca-9b9b-1f0aa94be7ab",
   "metadata": {},
   "outputs": [
    {
     "data": {
      "text/plain": [
       "'behold'"
      ]
     },
     "execution_count": 13,
     "metadata": {},
     "output_type": "execute_result"
    }
   ],
   "source": [
    "clean_word('“Behold!”')"
   ]
  },
  {
   "cell_type": "code",
   "execution_count": 14,
   "id": "2944ca03-0f20-442b-9818-0f5f0232a6a7",
   "metadata": {},
   "outputs": [
    {
     "data": {
      "text/plain": [
       "4005"
      ]
     },
     "execution_count": 14,
     "metadata": {},
     "output_type": "execute_result"
    }
   ],
   "source": [
    "unique_words2 = {}\n",
    "for line in open(filename):\n",
    "    for word in split_line(line):\n",
    "        word = clean_word(word)\n",
    "        unique_words2[word] = 1\n",
    "\n",
    "len(unique_words2)"
   ]
  },
  {
   "cell_type": "code",
   "execution_count": 15,
   "id": "8853dbfa-d3a0-4594-ac8f-9993bf852c18",
   "metadata": {},
   "outputs": [
    {
     "data": {
      "text/plain": [
       "['circumscription',\n",
       " 'unimpressionable',\n",
       " 'fellow-creatures',\n",
       " 'chocolate-coloured',\n",
       " 'pocket-handkerchief']"
      ]
     },
     "execution_count": 15,
     "metadata": {},
     "output_type": "execute_result"
    }
   ],
   "source": [
    "sorted(unique_words2, key=len)[-5:]"
   ]
  },
  {
   "cell_type": "code",
   "execution_count": 16,
   "id": "d784ffff-e3bd-40ac-9a3c-aa70af5fe490",
   "metadata": {},
   "outputs": [],
   "source": [
    "word_counter = {}\n",
    "for line in open(filename):\n",
    "    for word in split_line(line):\n",
    "        word = clean_word(word)\n",
    "        word_counter[word] = word_counter.get(word, 0) + 1"
   ]
  },
  {
   "cell_type": "code",
   "execution_count": 17,
   "id": "ab5d6873-7c21-424a-8523-610649b47003",
   "metadata": {},
   "outputs": [],
   "source": [
    "def second_element(t):\n",
    "    return t[1]"
   ]
  },
  {
   "cell_type": "code",
   "execution_count": 18,
   "id": "744456cd-ccd9-4756-8e72-de2eb09b3fde",
   "metadata": {},
   "outputs": [],
   "source": [
    "def print_most_common(word_counter, num=5):\n",
    "    items = sorted(word_counter.items(), key=second_element, reverse=True)\n",
    "\n",
    "    for word, freq in items[:num]:\n",
    "        print(freq, word, sep='\\t')"
   ]
  },
  {
   "cell_type": "code",
   "execution_count": 19,
   "id": "26bb57bd-2973-48b7-a09d-686c2defb56a",
   "metadata": {},
   "outputs": [
    {
     "name": "stdout",
     "output_type": "stream",
     "text": [
      "1614\tthe\n",
      "972\tand\n",
      "941\tof\n",
      "640\tto\n",
      "640\ti\n"
     ]
    }
   ],
   "source": [
    "print_most_common(word_counter, 5)"
   ]
  },
  {
   "cell_type": "code",
   "execution_count": 20,
   "id": "8f0f1857-dcd7-41f1-a712-f10d6a97805c",
   "metadata": {},
   "outputs": [],
   "source": [
    "word_list = open('words.txt').read().split()"
   ]
  },
  {
   "cell_type": "code",
   "execution_count": 21,
   "id": "9375e978-d3d8-49d3-bf6f-deb5b2ec69b0",
   "metadata": {},
   "outputs": [],
   "source": [
    "valid_words = {}\n",
    "for word in word_list:\n",
    "    valid_words[word] = 1"
   ]
  },
  {
   "cell_type": "code",
   "execution_count": 22,
   "id": "c2ccf0df-f831-4398-9c14-50954fd7d5ce",
   "metadata": {},
   "outputs": [],
   "source": [
    "def subtract(d1, d2):\n",
    "    res = {}\n",
    "    for key in d1:\n",
    "        if key not in d2:\n",
    "            res[key] = d1[key]\n",
    "    return res"
   ]
  },
  {
   "cell_type": "code",
   "execution_count": 23,
   "id": "ade594b7-a9ce-42f8-a48a-512046ee9433",
   "metadata": {},
   "outputs": [],
   "source": [
    "diff = subtract(word_counter, valid_words)"
   ]
  },
  {
   "cell_type": "code",
   "execution_count": 24,
   "id": "60e8b28b-85aa-47c8-81b3-78e90c8d6430",
   "metadata": {},
   "outputs": [
    {
     "name": "stdout",
     "output_type": "stream",
     "text": [
      "640\ti\n",
      "628\ta\n",
      "128\tutterson\n",
      "124\tmr\n",
      "98\thyde\n"
     ]
    }
   ],
   "source": [
    "print_most_common(diff)"
   ]
  },
  {
   "cell_type": "code",
   "execution_count": 25,
   "id": "ac8e2757-08e2-4bea-a819-87e12dba0387",
   "metadata": {},
   "outputs": [],
   "source": [
    "singletons = []\n",
    "for word, freq in diff.items():\n",
    "    if freq == 1:\n",
    "        singletons.append(word)"
   ]
  },
  {
   "cell_type": "code",
   "execution_count": 26,
   "id": "e8803347-5c5e-4210-a74b-bb09b0891dbb",
   "metadata": {},
   "outputs": [
    {
     "data": {
      "text/plain": [
       "['gesticulated', 'abjection', 'circumscription', 'reindue', 'fearstruck']"
      ]
     },
     "execution_count": 26,
     "metadata": {},
     "output_type": "execute_result"
    }
   ],
   "source": [
    "singletons[-5:]"
   ]
  },
  {
   "cell_type": "code",
   "execution_count": 27,
   "id": "32da85b0-0698-4790-b5e6-db88da36b895",
   "metadata": {},
   "outputs": [],
   "source": [
    "import random"
   ]
  },
  {
   "cell_type": "code",
   "execution_count": 28,
   "id": "c41eeec9-e527-496e-87e5-ae1ea9b0cba6",
   "metadata": {},
   "outputs": [
    {
     "data": {
      "text/plain": [
       "3"
      ]
     },
     "execution_count": 28,
     "metadata": {},
     "output_type": "execute_result"
    }
   ],
   "source": [
    "t = [1, 2, 3]\n",
    "random.choice(t)"
   ]
  },
  {
   "cell_type": "code",
   "execution_count": 29,
   "id": "4c28a0df-6940-4016-8b53-087d08ed75ac",
   "metadata": {},
   "outputs": [
    {
     "data": {
      "text/plain": [
       "'attack'"
      ]
     },
     "execution_count": 29,
     "metadata": {},
     "output_type": "execute_result"
    }
   ],
   "source": [
    "words = list(word_counter)\n",
    "random.choice(words)"
   ]
  },
  {
   "cell_type": "code",
   "execution_count": 30,
   "id": "809a628b-b829-4481-9fd5-900bf338a67e",
   "metadata": {},
   "outputs": [
    {
     "data": {
      "text/plain": [
       "'at was or morning indifferent had'"
      ]
     },
     "execution_count": 30,
     "metadata": {},
     "output_type": "execute_result"
    }
   ],
   "source": [
    "weights = word_counter.values()\n",
    "random_words  = random.choices(words, weights=weights, k=6)\n",
    "' '.join(random_words)"
   ]
  },
  {
   "cell_type": "code",
   "execution_count": 31,
   "id": "5fb1c2e1-6a93-40e7-a280-b04018d88700",
   "metadata": {},
   "outputs": [],
   "source": [
    "bigram_counter = {}\n",
    "\n",
    "def count_bigram(bigram):\n",
    "    key = tuple(bigram)\n",
    "    bigram_counter[key] = bigram_counter.get(key, 0) + 1"
   ]
  },
  {
   "cell_type": "code",
   "execution_count": 62,
   "id": "ffa72cf9-68b7-4b5d-aaa0-ee826f5bc8f6",
   "metadata": {},
   "outputs": [],
   "source": [
    "window = []\n",
    "\n",
    "def process_word(word):\n",
    "    window.append(word)\n",
    "    \n",
    "    if len(window) == 2:\n",
    "        count_bigram(window)\n",
    "        window.pop(0)"
   ]
  },
  {
   "cell_type": "code",
   "execution_count": 63,
   "id": "686b5ded-0d34-4c71-aea7-9bc0fa941b78",
   "metadata": {},
   "outputs": [],
   "source": [
    "for line in open(filename):\n",
    "    for word in split_line(line):\n",
    "        word = clean_word(word)\n",
    "        process_word(word)"
   ]
  },
  {
   "cell_type": "code",
   "execution_count": 64,
   "id": "863d9583-ddae-4130-acd7-4929eabce6b0",
   "metadata": {},
   "outputs": [
    {
     "name": "stdout",
     "output_type": "stream",
     "text": [
      "356\t('of', 'the')\n",
      "278\t('in', 'the')\n",
      "188\t('it', 'was')\n",
      "160\t('and', 'the')\n",
      "146\t('to', 'the')\n"
     ]
    }
   ],
   "source": [
    "print_most_common(bigram_counter)"
   ]
  },
  {
   "cell_type": "code",
   "execution_count": 65,
   "id": "4bb97cb2-1721-43fe-9609-3e4546f8df1f",
   "metadata": {},
   "outputs": [],
   "source": [
    "bigrams = list(bigram_counter)\n",
    "weights = bigram_counter.values()\n",
    "random_bigrams = random.choices(bigrams, weights=weights, k=6)"
   ]
  },
  {
   "cell_type": "code",
   "execution_count": 66,
   "id": "df5a4251-15a2-4673-b317-f85ae0e2e8ee",
   "metadata": {},
   "outputs": [
    {
     "name": "stdout",
     "output_type": "stream",
     "text": [
      "say that turn with answered from will just robert louis i sought "
     ]
    }
   ],
   "source": [
    "for pair in random_bigrams:\n",
    "    print(' '.join(pair), end=' ')"
   ]
  },
  {
   "cell_type": "code",
   "execution_count": 67,
   "id": "1fed8054-3278-4f54-b4ad-cf31df3264c5",
   "metadata": {},
   "outputs": [],
   "source": [
    "successor_map = {}\n",
    "\n",
    "def add_bigram(bigram):\n",
    "    first, second = bigram\n",
    "    successor_map.setdefault(first, []).append(second)"
   ]
  },
  {
   "cell_type": "code",
   "execution_count": 68,
   "id": "1657bbb7-a587-40d8-88cf-c257cf436fee",
   "metadata": {},
   "outputs": [],
   "source": [
    "def process_word_bigram(word):\n",
    "    window.append(word)\n",
    "    \n",
    "    if len(window) == 2:\n",
    "        add_bigram(window)\n",
    "        window.pop(0)"
   ]
  },
  {
   "cell_type": "code",
   "execution_count": 38,
   "id": "acfcc1a8-6c2d-4a8c-a021-cf42a48e09df",
   "metadata": {},
   "outputs": [
    {
     "data": {
      "text/plain": [
       "{'half': ['a', 'not', 'the'],\n",
       " 'a': ['bee', 'vis'],\n",
       " 'bee': ['philosophically', 'has'],\n",
       " 'philosophically': ['must'],\n",
       " 'must': ['ipso'],\n",
       " 'ipso': ['facto'],\n",
       " 'facto': ['half'],\n",
       " 'not': ['be'],\n",
       " 'be': ['but', 'vis'],\n",
       " 'but': ['half'],\n",
       " 'the': ['bee'],\n",
       " 'has': ['got'],\n",
       " 'got': ['to'],\n",
       " 'to': ['be'],\n",
       " 'vis': ['a', 'its'],\n",
       " 'its': ['entity'],\n",
       " 'entity': [\"d'you\"],\n",
       " \"d'you\": ['see']}"
      ]
     },
     "execution_count": 38,
     "metadata": {},
     "output_type": "execute_result"
    }
   ],
   "source": [
    "song = \"\"\"\n",
    "Half a bee, philosophically,\n",
    "Must, ipso facto, half not be.\n",
    "But half the bee has got to be\n",
    "Vis a vis, its entity. D'you see?\n",
    "\"\"\"\n",
    "successor_map = {}\n",
    "window = []\n",
    "\n",
    "for word in song.split():\n",
    "    word = clean_word(word)\n",
    "    process_word_bigram(word)\n",
    "\n",
    "successor_map"
   ]
  },
  {
   "cell_type": "code",
   "execution_count": 70,
   "id": "387a74bf-5cfc-4dca-ab8b-0b52c1466d76",
   "metadata": {},
   "outputs": [],
   "source": [
    "successor_map = {}\n",
    "window = []\n",
    "\n",
    "for line in open(filename):\n",
    "    for word in split_line(line):\n",
    "        word = clean_word(word)\n",
    "        process_word_bigram(word)"
   ]
  },
  {
   "cell_type": "code",
   "execution_count": 71,
   "id": "d9964f59-924a-419c-a5f8-1124a8b03d96",
   "metadata": {},
   "outputs": [
    {
     "name": "stdout",
     "output_type": "stream",
     "text": [
      "of excellent workmanship and secret sinner and still i dreamed of a grinding in there never anything else could have gone away as the place in my resolve was equipped with streaming tears of my master poole ay truly say that i have stared upon his eyes in through the fact is the majority of those indescribable amazement read so long to declare i cannot bring the lawyer conscious of the murderer’s autograph there was so pitiful a fog began at the first time about me i daren’t say nothing in the same grave countenance before him seen that gentleman "
     ]
    }
   ],
   "source": [
    "for i in range(100):\n",
    "    successors = successor_map[word]\n",
    "    word = random.choice(successors)\n",
    "    print(word, end=' ')"
   ]
  },
  {
   "cell_type": "code",
   "execution_count": 73,
   "id": "f06a0c61-43c6-466d-995b-0b12ed8601ad",
   "metadata": {},
   "outputs": [],
   "source": [
    "#12.12.2. and 12.12.3. Exercise\n",
    "\n",
    "trigram_counter = {}\n",
    "\n",
    "def count_trigam(trigam):\n",
    "    key = tuple(trigam)\n",
    "    trigram_counter[key] = trigram_counter.get(key, 0) + 1\n",
    "\n",
    "successor_trigam_map = {}\n",
    "\n",
    "def add_trigam(trigam):\n",
    "    first, second, third = trigam\n",
    "    key =  (first, second)\n",
    "    successor_trigam_map.setdefault(key, []).append(third)\n",
    "\n",
    "window = []\n",
    "\n",
    "def process_word_trigam(word):\n",
    "    window.append(word)\n",
    "    \n",
    "    if len(window) == 3:\n",
    "        add_trigam(window)\n",
    "        window.pop(0)"
   ]
  },
  {
   "cell_type": "code",
   "execution_count": 74,
   "id": "8e82e5f5-3f1d-4d2d-921f-229774765168",
   "metadata": {},
   "outputs": [
    {
     "name": "stdout",
     "output_type": "stream",
     "text": [
      "and he had broken in a part as a storm "
     ]
    }
   ],
   "source": [
    "for line in open(filename):\n",
    "    for word in split_line(line):\n",
    "        word = clean_word(word)\n",
    "        process_word_trigam(word)\n",
    "\n",
    "for i in range(10):\n",
    "    successors = successor_map[word]\n",
    "    word = random.choice(successors)\n",
    "    print(word, end=' ')"
   ]
  },
  {
   "cell_type": "code",
   "execution_count": 80,
   "id": "4dc99722-4c35-4ede-b505-9ee672601e0b",
   "metadata": {},
   "outputs": [
    {
     "data": {
      "text/plain": [
       "('i', 'asked')"
      ]
     },
     "execution_count": 80,
     "metadata": {},
     "output_type": "execute_result"
    }
   ],
   "source": [
    "successors = list(successor_trigam_map)\n",
    "trigam = random.choice(successors)\n",
    "trigam"
   ]
  },
  {
   "cell_type": "code",
   "execution_count": 88,
   "id": "993c849e-f836-4aab-86bc-006cb614ce17",
   "metadata": {},
   "outputs": [
    {
     "name": "stdout",
     "output_type": "stream",
     "text": [
      "moon lying on her back as though the body of a country house by a bright open fire and furnished with costly cabinets of oak will you do not think that this is downright good of you to be destroyed unread so it will not find dr jekyll he cried "
     ]
    }
   ],
   "source": [
    "12.12.4. Exercise\n",
    "\n",
    "for i in range(50):\n",
    "    successors = successor_trigam_map.get(trigam)\n",
    "    word = random.choice(successors)\n",
    "    trigam = (trigam[1], word)\n",
    "    print(word, end=' ')"
   ]
  },
  {
   "cell_type": "code",
   "execution_count": null,
   "id": "5589372e-95e6-4f65-8427-2040fc4369f2",
   "metadata": {},
   "outputs": [],
   "source": []
  }
 ],
 "metadata": {
  "kernelspec": {
   "display_name": "Python 3 (ipykernel)",
   "language": "python",
   "name": "python3"
  },
  "language_info": {
   "codemirror_mode": {
    "name": "ipython",
    "version": 3
   },
   "file_extension": ".py",
   "mimetype": "text/x-python",
   "name": "python",
   "nbconvert_exporter": "python",
   "pygments_lexer": "ipython3",
   "version": "3.13.5"
  }
 },
 "nbformat": 4,
 "nbformat_minor": 5
}

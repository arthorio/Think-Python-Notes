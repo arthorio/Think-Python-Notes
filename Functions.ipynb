{
 "cells": [
  {
   "cell_type": "code",
   "execution_count": 5,
   "id": "73b5504f-26c1-4f68-b9c8-8cd1e3690653",
   "metadata": {},
   "outputs": [],
   "source": [
    "def print_right(text: str):\n",
    "    spaces = 40 - len(text)\n",
    "    print( \" \" * (spaces) + text )"
   ]
  },
  {
   "cell_type": "code",
   "execution_count": 11,
   "id": "4604ba2a-9f12-4e37-a250-45db6926b9ce",
   "metadata": {},
   "outputs": [
    {
     "name": "stdout",
     "output_type": "stream",
     "text": [
      "                                   Monty\n",
      "                                Python's\n",
      "                           Flying Circus\n"
     ]
    }
   ],
   "source": [
    "print_right(\"Monty\")\n",
    "print_right(\"Python's\")\n",
    "print_right(\"Flying Circus\")"
   ]
  },
  {
   "cell_type": "code",
   "execution_count": 27,
   "id": "cd111f32-9861-483c-98e2-aa6a28cf1b6a",
   "metadata": {},
   "outputs": [],
   "source": [
    "def triangle_two(text: str, times: int):\n",
    "    for i in range(1, times+1):\n",
    "        print(text * i)"
   ]
  },
  {
   "cell_type": "code",
   "execution_count": 32,
   "id": "ed5db643-8deb-4de3-8f25-74f7f26ba218",
   "metadata": {},
   "outputs": [],
   "source": [
    "def rectangle(text: str, width: int, height: int):\n",
    "    for i in range(height):\n",
    "        print(text * width)"
   ]
  },
  {
   "cell_type": "code",
   "execution_count": 33,
   "id": "c41f39dd-9e63-4c0b-b8e0-e7e1862c3c4d",
   "metadata": {},
   "outputs": [
    {
     "name": "stdout",
     "output_type": "stream",
     "text": [
      "HHHHH\n",
      "HHHHH\n",
      "HHHHH\n",
      "HHHHH\n"
     ]
    }
   ],
   "source": [
    "rectangle(\"H\", 5, 4)"
   ]
  },
  {
   "cell_type": "code",
   "execution_count": 41,
   "id": "427ac2a2-c050-4695-b5e5-d1176838155f",
   "metadata": {},
   "outputs": [],
   "source": [
    "def bottle_verse(number: int):\n",
    "    print( str(number) + \" bottles of beer on the wall\")\n",
    "    print(str(number) + \" bottles of beer\")\n",
    "    print(\"Take one down, pass it around\")\n",
    "    print(str(number-1) + \" bottles of beer on the wall\")"
   ]
  },
  {
   "cell_type": "code",
   "execution_count": 42,
   "id": "2b2fabc7-28a7-4ca6-a560-39a08d229e92",
   "metadata": {},
   "outputs": [
    {
     "name": "stdout",
     "output_type": "stream",
     "text": [
      "99 bottles of beer on the wall\n",
      "99 bottles of beer\n",
      "Take one down, pass it around\n",
      "98 bottles of beer on the wall\n"
     ]
    }
   ],
   "source": [
    "bottle_verse(99)"
   ]
  },
  {
   "cell_type": "code",
   "execution_count": null,
   "id": "9946ede3-837e-47ee-909a-e99df72138b1",
   "metadata": {},
   "outputs": [],
   "source": []
  }
 ],
 "metadata": {
  "kernelspec": {
   "display_name": "Python 3 (ipykernel)",
   "language": "python",
   "name": "python3"
  },
  "language_info": {
   "codemirror_mode": {
    "name": "ipython",
    "version": 3
   },
   "file_extension": ".py",
   "mimetype": "text/x-python",
   "name": "python",
   "nbconvert_exporter": "python",
   "pygments_lexer": "ipython3",
   "version": "3.13.1"
  }
 },
 "nbformat": 4,
 "nbformat_minor": 5
}

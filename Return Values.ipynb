{
 "cells": [
  {
   "cell_type": "code",
   "execution_count": 12,
   "id": "508016fd-43fd-4723-8858-486310cb3361",
   "metadata": {},
   "outputs": [],
   "source": [
    "import math\n",
    "\n",
    "def hypot(cat1, cat2):\n",
    "    hyp = math.sqrt(cat1**2 + cat2**2)\n",
    "    return hyp"
   ]
  },
  {
   "cell_type": "code",
   "execution_count": 13,
   "id": "fb573db4-baa4-42e4-870b-ea803af9711e",
   "metadata": {},
   "outputs": [
    {
     "data": {
      "text/plain": [
       "5.0"
      ]
     },
     "execution_count": 13,
     "metadata": {},
     "output_type": "execute_result"
    }
   ],
   "source": [
    "hypot(3,4)"
   ]
  },
  {
   "cell_type": "code",
   "execution_count": 15,
   "id": "d71cb573-9fc5-4cfa-a1ef-8c0e4ab73f1d",
   "metadata": {},
   "outputs": [],
   "source": [
    "def is_between(x, y, z):\n",
    "    if x < y < z or z < y < x:\n",
    "        return True\n",
    "    else:\n",
    "        return False"
   ]
  },
  {
   "cell_type": "code",
   "execution_count": 39,
   "id": "b58ed845-01ed-4d4a-8524-319e018f5eb1",
   "metadata": {},
   "outputs": [],
   "source": [
    "def ackermann(m, n):\n",
    "    if m == 0:\n",
    "        return n+1\n",
    "    elif m > 0 and n == 0:\n",
    "        return ackermann(m-1, 1)\n",
    "    elif m > 0 and n > 0:\n",
    "        return ackermann(m-1, ackermann(m, n-1))"
   ]
  },
  {
   "cell_type": "code",
   "execution_count": 51,
   "id": "dba02234-bd65-45a1-9a30-ca2491cbaeab",
   "metadata": {},
   "outputs": [],
   "source": [
    "def gcd(a, b):\n",
    "    if b == 0:\n",
    "        return a\n",
    "    else:\n",
    "        return gcd(b, a%b) "
   ]
  },
  {
   "cell_type": "code",
   "execution_count": 52,
   "id": "8c2c32f7-2087-4459-8d57-e62c77891813",
   "metadata": {},
   "outputs": [
    {
     "name": "stdout",
     "output_type": "stream",
     "text": [
      "6\n",
      "6\n",
      "1\n",
      "20\n"
     ]
    }
   ],
   "source": [
    "print(gcd(48, 18))   # 6\n",
    "print(gcd(54, 24))   # 6\n",
    "print(gcd(101, 103)) # 1  (they are coprime)\n",
    "print(gcd(20, 100))"
   ]
  },
  {
   "cell_type": "code",
   "execution_count": null,
   "id": "12f988f4-23e4-43a7-97f1-b5ac2270a3b2",
   "metadata": {},
   "outputs": [],
   "source": []
  }
 ],
 "metadata": {
  "kernelspec": {
   "display_name": "Python 3 (ipykernel)",
   "language": "python",
   "name": "python3"
  },
  "language_info": {
   "codemirror_mode": {
    "name": "ipython",
    "version": 3
   },
   "file_extension": ".py",
   "mimetype": "text/x-python",
   "name": "python",
   "nbconvert_exporter": "python",
   "pygments_lexer": "ipython3",
   "version": "3.13.1"
  }
 },
 "nbformat": 4,
 "nbformat_minor": 5
}

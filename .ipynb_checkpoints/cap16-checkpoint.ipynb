{
 "cells": [
  {
   "cell_type": "code",
   "execution_count": 1,
   "id": "79c4579a-e34e-4804-93c1-a4d34811eafb",
   "metadata": {},
   "outputs": [],
   "source": [
    "from copy import copy, deepcopy\n",
    "from jupyturtle import make_turtle, jumpto, moveto"
   ]
  },
  {
   "cell_type": "code",
   "execution_count": 2,
   "id": "55e38909-7b8f-4ef9-8325-a0495708d3fc",
   "metadata": {},
   "outputs": [],
   "source": [
    "class Point:\n",
    "    \"\"\"Represents a point in 2-D space.\"\"\"\n",
    "    \n",
    "    def __init__(self, x, y):\n",
    "        self.x = x\n",
    "        self.y = y\n",
    "        \n",
    "    def __str__(self):\n",
    "        return f'Point({self.x}, {self.y})'\n",
    "\n",
    "    def translate(self, dx, dy):\n",
    "        self.x += dx\n",
    "        self.y += dy\n",
    "\n",
    "    def translated(self, dx=0, dy=0):\n",
    "        point = copy(self)\n",
    "        point.translate(dx, dy)\n",
    "        return point\n",
    "\n",
    "    def __eq__(self, other):\n",
    "        return (self.x == other.x) and (self.y == other.y)"
   ]
  },
  {
   "cell_type": "code",
   "execution_count": 3,
   "id": "4e891a6c-5191-4794-a281-e3ab54cbc6c9",
   "metadata": {},
   "outputs": [],
   "source": [
    "class Line:\n",
    "    def __init__(self, p1, p2):\n",
    "        self.p1 = p1\n",
    "        self.p2 = p2\n",
    "        \n",
    "    def __str__(self):\n",
    "        return f'Line({self.p1}, {self.p2})'\n",
    "\n",
    "    def __eq__(self, other):\n",
    "        return (self.p1 == other.p1 and self.p2 == other.p2) or (self.p1 == other.p2 and self.p2 == other.p1)\n",
    "\n",
    "    def draw(self):\n",
    "        jumpto(self.p1.x, self.p1.y)\n",
    "        moveto(self.p2.x, self.p2.y)\n",
    "\n",
    "    def midpoint(self):\n",
    "        return Point((self.p1.x + self.p2.x)/2, (self.p1.y + self.p2.y)/2)"
   ]
  },
  {
   "cell_type": "code",
   "execution_count": 4,
   "id": "96af5e4e-c1d0-4456-a1c4-842f4278f4c4",
   "metadata": {},
   "outputs": [],
   "source": [
    "class Rectangle:\n",
    "    \"\"\"Represents a rectangle. \n",
    "\n",
    "    attributes: width, height, corner.\n",
    "    \"\"\"\n",
    "    def __init__(self, width, height, corner):\n",
    "        self.width = width\n",
    "        self.height = height\n",
    "        self.corner = corner\n",
    "        \n",
    "    def __str__(self):\n",
    "        return f'Rectangle({self.width}, {self.height}, {self.corner})'\n",
    "\n",
    "    def make_points(self):\n",
    "        p1 = self.corner\n",
    "        p2 = p1.translated(self.width, 0)\n",
    "        p3 = p2.translated(0, self.height)\n",
    "        p4 = p3.translated(-self.width, 0)\n",
    "        return p1, p2, p3, p4\n",
    "\n",
    "    def make_lines(self):\n",
    "        p1, p2, p3, p4 = self.make_points()\n",
    "        return Line(p1, p2), Line(p2, p3), Line(p3, p4), Line(p4, p1)\n",
    "\n",
    "    def draw(self):\n",
    "        lines = self.make_lines()\n",
    "        for line in lines:\n",
    "            line.draw()\n",
    "    \n",
    "    def grow(self, dwidth, dheight):\n",
    "        self.width += dwidth\n",
    "        self.height += dheight\n",
    "\n",
    "    def translate(self, dx, dy):\n",
    "        self.corner.translate(dx, dy)\n",
    "\n",
    "    def midpoint(self):\n",
    "        return Point((self.corner.x + self.width/2), (self.corner.y + self.height/2))\n",
    "\n",
    "    def make_cross(self):\n",
    "        lines_mid = [line.midpoint() for line in self.make_lines()]            \n",
    "        return [Line(lines_mid[0], lines_mid[2]), Line(lines_mid[1], lines_mid[3]) ]"
   ]
  },
  {
   "cell_type": "code",
   "execution_count": 5,
   "id": "aebd0fc8-0aaf-41fc-b1f5-b77085147b3e",
   "metadata": {},
   "outputs": [],
   "source": [
    "start1 = Point(0, 0)\n",
    "start2 = Point(0, 0)\n",
    "end = Point(200, 100)"
   ]
  },
  {
   "cell_type": "code",
   "execution_count": 6,
   "id": "1f0f756f-3e20-4328-b1cf-537f2ee9a900",
   "metadata": {},
   "outputs": [
    {
     "data": {
      "text/plain": [
       "True"
      ]
     },
     "execution_count": 6,
     "metadata": {},
     "output_type": "execute_result"
    }
   ],
   "source": [
    "line_a = Line(start1, end)\n",
    "line_b = Line(start2, end)\n",
    "line_a == line_b"
   ]
  },
  {
   "cell_type": "code",
   "execution_count": 7,
   "id": "f809a7d0-a555-42a1-93e8-9496e8d07dea",
   "metadata": {},
   "outputs": [
    {
     "data": {
      "text/plain": [
       "True"
      ]
     },
     "execution_count": 7,
     "metadata": {},
     "output_type": "execute_result"
    }
   ],
   "source": [
    "line_c = Line(end, start1)\n",
    "line_a == line_c"
   ]
  },
  {
   "cell_type": "code",
   "execution_count": 8,
   "id": "75d3d4c0-5d6c-43dd-a7df-735ae62f62c7",
   "metadata": {},
   "outputs": [
    {
     "data": {
      "text/plain": [
       "True"
      ]
     },
     "execution_count": 8,
     "metadata": {},
     "output_type": "execute_result"
    }
   ],
   "source": [
    "line_b == line_c "
   ]
  },
  {
   "cell_type": "code",
   "execution_count": 9,
   "id": "513e73cf-ebda-43e2-b3d3-3cfd48a27fca",
   "metadata": {},
   "outputs": [
    {
     "data": {
      "text/plain": [
       "False"
      ]
     },
     "execution_count": 9,
     "metadata": {},
     "output_type": "execute_result"
    }
   ],
   "source": [
    "line_d = Line(start1, start2)\n",
    "line_a == line_d"
   ]
  },
  {
   "cell_type": "code",
   "execution_count": 10,
   "id": "fe024c23-4590-45a4-a23e-8d24317ef39a",
   "metadata": {},
   "outputs": [],
   "source": [
    "start = Point(0, 0)\n",
    "end1 = Point(300, 0)\n",
    "end2 = Point(0, 150)\n",
    "line1 = Line(start, end1)\n",
    "line2 = Line(start, end2)"
   ]
  },
  {
   "cell_type": "code",
   "execution_count": 11,
   "id": "7d528906-b825-48a3-9a1f-1ab98c6eb504",
   "metadata": {},
   "outputs": [
    {
     "name": "stdout",
     "output_type": "stream",
     "text": [
      "Point(150.0, 0.0)\n"
     ]
    }
   ],
   "source": [
    "mid1 = line1.midpoint()\n",
    "print(mid1)"
   ]
  },
  {
   "cell_type": "code",
   "execution_count": 12,
   "id": "e34fc0dc-177d-4829-b20b-b31d53bfdcd9",
   "metadata": {},
   "outputs": [
    {
     "name": "stdout",
     "output_type": "stream",
     "text": [
      "Point(0.0, 75.0)\n"
     ]
    }
   ],
   "source": [
    "mid2 = line2.midpoint()\n",
    "print(mid2)"
   ]
  },
  {
   "cell_type": "code",
   "execution_count": 13,
   "id": "63fa455b-2d88-418c-8329-90a49021d3b2",
   "metadata": {},
   "outputs": [],
   "source": [
    "line3 = Line(mid1, mid2)"
   ]
  },
  {
   "cell_type": "code",
   "execution_count": 14,
   "id": "49205c41-7926-4615-b0e1-33302ee7cfa4",
   "metadata": {},
   "outputs": [
    {
     "data": {
      "text/html": [
       "<svg width=\"300\" height=\"150\" style=\"fill:none; stroke-linecap:round;\">\n",
       "    <rect width=\"100%\" height=\"100%\" fill=\"#F3F3F7\" />\n",
       "\n",
       "\n",
       "<path stroke=\"#663399\" stroke-width=\"2\" d=\"M 150,75\" />'\n",
       "\n",
       "<path stroke=\"#663399\" stroke-width=\"2\" d=\"M 0,0 300,0\" />'\n",
       "\n",
       "<path stroke=\"#663399\" stroke-width=\"2\" d=\"M 0,0 0,150\" />'\n",
       "\n",
       "<path stroke=\"#663399\" stroke-width=\"2\" d=\"M 150,0 0,75\" />'\n",
       "\n",
       "<g transform=\"rotate(-90.0,0.0,75.0) translate(0.0, 75.0)\">\n",
       "    <circle stroke=\"#63A375\" stroke-width=\"2\" fill=\"transparent\" r=\"5.5\" cx=\"0\" cy=\"0\"/>\n",
       "    <polygon points=\"0,12 2,9 -2,9\" style=\"fill:#63A375;stroke:#63A375;stroke-width:2\"/>\n",
       "</g>\n",
       "\n",
       "</svg>"
      ],
      "text/plain": [
       "<IPython.core.display.HTML object>"
      ]
     },
     "metadata": {},
     "output_type": "display_data"
    }
   ],
   "source": [
    "make_turtle()\n",
    "\n",
    "for shape in [line1, line2, line3]:\n",
    "    shape.draw()"
   ]
  },
  {
   "cell_type": "code",
   "execution_count": 15,
   "id": "d380a9d8-82ca-41f4-8bd7-2349f0532467",
   "metadata": {},
   "outputs": [],
   "source": [
    "corner = Point(30, 20)\n",
    "rectangle = Rectangle(100, 80, corner)"
   ]
  },
  {
   "cell_type": "code",
   "execution_count": 16,
   "id": "da1eea68-abdb-487f-aece-cf8944080159",
   "metadata": {},
   "outputs": [
    {
     "name": "stdout",
     "output_type": "stream",
     "text": [
      "Point(80.0, 60.0)\n"
     ]
    }
   ],
   "source": [
    "mid = rectangle.midpoint()\n",
    "print(mid)"
   ]
  },
  {
   "cell_type": "code",
   "execution_count": 17,
   "id": "fdff66ac-734e-45a6-b6bb-e78b16e07cf6",
   "metadata": {},
   "outputs": [],
   "source": [
    "diagonal = Line(corner, mid)"
   ]
  },
  {
   "cell_type": "code",
   "execution_count": 18,
   "id": "27657175-0226-41d9-8274-bd429033aeca",
   "metadata": {},
   "outputs": [
    {
     "data": {
      "text/html": [
       "<svg width=\"300\" height=\"150\" style=\"fill:none; stroke-linecap:round;\">\n",
       "    <rect width=\"100%\" height=\"100%\" fill=\"#F3F3F7\" />\n",
       "\n",
       "\n",
       "<path stroke=\"#663399\" stroke-width=\"2\" d=\"M 150,75\" />'\n",
       "\n",
       "<path stroke=\"#663399\" stroke-width=\"2\" d=\"M 0,0 300,0\" />'\n",
       "\n",
       "<path stroke=\"#663399\" stroke-width=\"2\" d=\"M 0,0 0,150\" />'\n",
       "\n",
       "<path stroke=\"#663399\" stroke-width=\"2\" d=\"M 30,20 130,20\" />'\n",
       "\n",
       "<path stroke=\"#663399\" stroke-width=\"2\" d=\"M 130,20 130,100\" />'\n",
       "\n",
       "<path stroke=\"#663399\" stroke-width=\"2\" d=\"M 130,100 30,100\" />'\n",
       "\n",
       "<path stroke=\"#663399\" stroke-width=\"2\" d=\"M 30,100 30,20\" />'\n",
       "\n",
       "<path stroke=\"#663399\" stroke-width=\"2\" d=\"M 30,20 80,60\" />'\n",
       "\n",
       "<g transform=\"rotate(-90.0,80.0,60.0) translate(80.0, 60.0)\">\n",
       "    <circle stroke=\"#63A375\" stroke-width=\"2\" fill=\"transparent\" r=\"5.5\" cx=\"0\" cy=\"0\"/>\n",
       "    <polygon points=\"0,12 2,9 -2,9\" style=\"fill:#63A375;stroke:#63A375;stroke-width:2\"/>\n",
       "</g>\n",
       "\n",
       "</svg>"
      ],
      "text/plain": [
       "<IPython.core.display.HTML object>"
      ]
     },
     "metadata": {},
     "output_type": "display_data"
    }
   ],
   "source": [
    "make_turtle()\n",
    "\n",
    "for shape in [line1, line2, rectangle, diagonal]:\n",
    "    shape.draw()"
   ]
  },
  {
   "cell_type": "code",
   "execution_count": 19,
   "id": "83587d0a-01f9-437b-835b-4a3226736137",
   "metadata": {},
   "outputs": [],
   "source": [
    "corner = Point(30, 20)\n",
    "rectangle = Rectangle(100, 80, corner)"
   ]
  },
  {
   "cell_type": "code",
   "execution_count": 20,
   "id": "3be90caa-9ce3-4f1c-b281-1516d179a775",
   "metadata": {},
   "outputs": [],
   "source": [
    "lines = rectangle.make_cross()"
   ]
  },
  {
   "cell_type": "code",
   "execution_count": 21,
   "id": "8ac1374f-e653-44e5-b6a3-d4355b2edf65",
   "metadata": {},
   "outputs": [
    {
     "data": {
      "text/html": [
       "<svg width=\"300\" height=\"150\" style=\"fill:none; stroke-linecap:round;\">\n",
       "    <rect width=\"100%\" height=\"100%\" fill=\"#F3F3F7\" />\n",
       "\n",
       "\n",
       "<path stroke=\"#663399\" stroke-width=\"2\" d=\"M 150,75\" />'\n",
       "\n",
       "<path stroke=\"#663399\" stroke-width=\"2\" d=\"M 30,20 130,20\" />'\n",
       "\n",
       "<path stroke=\"#663399\" stroke-width=\"2\" d=\"M 130,20 130,100\" />'\n",
       "\n",
       "<path stroke=\"#663399\" stroke-width=\"2\" d=\"M 130,100 30,100\" />'\n",
       "\n",
       "<path stroke=\"#663399\" stroke-width=\"2\" d=\"M 30,100 30,20\" />'\n",
       "\n",
       "<path stroke=\"#663399\" stroke-width=\"2\" d=\"M 80,20 80,100\" />'\n",
       "\n",
       "<path stroke=\"#663399\" stroke-width=\"2\" d=\"M 130,60 30,60\" />'\n",
       "\n",
       "<g transform=\"rotate(-90.0,30.0,60.0) translate(30.0, 60.0)\">\n",
       "    <circle stroke=\"#63A375\" stroke-width=\"2\" fill=\"transparent\" r=\"5.5\" cx=\"0\" cy=\"0\"/>\n",
       "    <polygon points=\"0,12 2,9 -2,9\" style=\"fill:#63A375;stroke:#63A375;stroke-width:2\"/>\n",
       "</g>\n",
       "\n",
       "</svg>"
      ],
      "text/plain": [
       "<IPython.core.display.HTML object>"
      ]
     },
     "metadata": {},
     "output_type": "display_data"
    }
   ],
   "source": [
    "make_turtle()\n",
    "\n",
    "rectangle.draw()\n",
    "for line in lines:\n",
    "    line.draw()"
   ]
  },
  {
   "cell_type": "code",
   "execution_count": 22,
   "id": "41faa2a4-c59b-4d7d-b86b-da803a1db071",
   "metadata": {},
   "outputs": [],
   "source": [
    "from jupyturtle import make_turtle, forward, left, right\n",
    "import math\n",
    "\n",
    "class Circle:\n",
    "\n",
    "    def __init__(self, center, radius):\n",
    "        self.center = center\n",
    "        self.radius = radius\n",
    "        \n",
    "    def __str__(self):\n",
    "        return f'Circle({self.center}}, {self.radius})'\n",
    "\n",
    "    @staticmethod\n",
    "    def draw(radius):\n",
    "        circumference = 2 * math.pi * radius\n",
    "        n = 30\n",
    "        length = circumference / n\n",
    "        angle = 360 / n\n",
    "        left(angle / 2)\n",
    "        for i in range(n):\n",
    "            forward(length)\n",
    "            left(angle)"
   ]
  },
  {
   "cell_type": "code",
   "execution_count": null,
   "id": "0d905067-9691-43c4-8683-7c8c15df6b37",
   "metadata": {},
   "outputs": [],
   "source": []
  }
 ],
 "metadata": {
  "kernelspec": {
   "display_name": "Python 3 (ipykernel)",
   "language": "python",
   "name": "python3"
  },
  "language_info": {
   "codemirror_mode": {
    "name": "ipython",
    "version": 3
   },
   "file_extension": ".py",
   "mimetype": "text/x-python",
   "name": "python",
   "nbconvert_exporter": "python",
   "pygments_lexer": "ipython3",
   "version": "3.13.5"
  }
 },
 "nbformat": 4,
 "nbformat_minor": 5
}

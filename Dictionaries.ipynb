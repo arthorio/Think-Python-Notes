{
 "cells": [
  {
   "cell_type": "code",
   "execution_count": 162,
   "id": "3de95d26-154d-49cb-b50b-d2bbb00da0fa",
   "metadata": {},
   "outputs": [],
   "source": [
    "numbers = {'zero': 0, 'one': 1, 'two': 2}"
   ]
  },
  {
   "cell_type": "code",
   "execution_count": 163,
   "id": "11d3c56b-7d65-498b-8e54-007043d1606f",
   "metadata": {},
   "outputs": [
    {
     "data": {
      "text/plain": [
       "{'zero': 0, 'one': 1, 'two': 2}"
      ]
     },
     "execution_count": 163,
     "metadata": {},
     "output_type": "execute_result"
    }
   ],
   "source": [
    "numbers_copy = dict(numbers)\n",
    "numbers_copy"
   ]
  },
  {
   "cell_type": "code",
   "execution_count": 164,
   "id": "807474a2-e5f1-481a-a61c-f32b7dc22c62",
   "metadata": {},
   "outputs": [
    {
     "data": {
      "text/plain": [
       "True"
      ]
     },
     "execution_count": 164,
     "metadata": {},
     "output_type": "execute_result"
    }
   ],
   "source": [
    "1 in numbers.values()\n",
    "'one' in numbers"
   ]
  },
  {
   "cell_type": "code",
   "execution_count": 165,
   "id": "21055e7d-cfc5-4b8b-8d1a-ad26620814d0",
   "metadata": {},
   "outputs": [
    {
     "data": {
      "text/plain": [
       "113783"
      ]
     },
     "execution_count": 165,
     "metadata": {},
     "output_type": "execute_result"
    }
   ],
   "source": [
    "word_list = open('words.txt').read().split()\n",
    "len(word_list)"
   ]
  },
  {
   "cell_type": "code",
   "execution_count": 166,
   "id": "671db402-b8e4-4b1b-a64c-e924fb71a3a3",
   "metadata": {},
   "outputs": [],
   "source": [
    "def reverse_word(word):\n",
    "    return ''.join(reversed(word))"
   ]
  },
  {
   "cell_type": "code",
   "execution_count": 167,
   "id": "5df4e44e-f9a1-4d35-b4d2-194cfc818d28",
   "metadata": {},
   "outputs": [],
   "source": [
    "word_dict = {}\n",
    "for word in word_list:\n",
    "    word_dict[word] = 1"
   ]
  },
  {
   "cell_type": "code",
   "execution_count": 168,
   "id": "4ae55b86-87f6-45e7-a45d-21e951ab31bf",
   "metadata": {},
   "outputs": [],
   "source": [
    "def too_slow():\n",
    "    count = 0\n",
    "    for word in word_list:\n",
    "        if reverse_word(word) in word_list:\n",
    "            count += 1\n",
    "    return count\n",
    "\n",
    "def much_faster():\n",
    "    count = 0\n",
    "    for word in word_dict:\n",
    "        if reverse_word(word) in word_dict:\n",
    "            count += 1\n",
    "    return count"
   ]
  },
  {
   "cell_type": "code",
   "execution_count": 169,
   "id": "5b4260bf-cb87-4e0e-a341-661e46b7963b",
   "metadata": {},
   "outputs": [],
   "source": [
    "def value_counts(string):\n",
    "    counter = {}\n",
    "    for letter in string:\n",
    "        if letter not in counter:\n",
    "            counter[letter] = 1\n",
    "        else:\n",
    "            counter[letter] += 1\n",
    "    return counter"
   ]
  },
  {
   "cell_type": "code",
   "execution_count": 170,
   "id": "36e2d94d-bc66-486d-8108-392edb6c3ae5",
   "metadata": {},
   "outputs": [
    {
     "data": {
      "text/plain": [
       "{'b': 1, 'r': 2, 'o': 2, 'n': 1, 't': 1, 's': 2, 'a': 1, 'u': 2}"
      ]
     },
     "execution_count": 170,
     "metadata": {},
     "output_type": "execute_result"
    }
   ],
   "source": [
    "value_counts('brontosaurus')"
   ]
  },
  {
   "cell_type": "code",
   "execution_count": 171,
   "id": "8bcec226-2338-43cf-b7b6-1e7bf438bdd1",
   "metadata": {},
   "outputs": [
    {
     "name": "stdout",
     "output_type": "stream",
     "text": [
      "b 1\n",
      "a 3\n",
      "n 2\n"
     ]
    }
   ],
   "source": [
    "counter = value_counts('banana')\n",
    "\n",
    "for key in counter:\n",
    "    value = counter[key]\n",
    "    print(key, value)"
   ]
  },
  {
   "cell_type": "code",
   "execution_count": 172,
   "id": "4777b015-6227-47ae-a258-4a8d80aa37b3",
   "metadata": {},
   "outputs": [
    {
     "data": {
      "text/plain": [
       "['aa', 'aba', 'aga', 'aha', 'ala', 'alula', 'ama', 'ana', 'anna', 'ava']"
      ]
     },
     "execution_count": 172,
     "metadata": {},
     "output_type": "execute_result"
    }
   ],
   "source": [
    "def is_palindrome(word):\n",
    "    \"\"\"Check if a word is a palindrome.\"\"\"\n",
    "    return reverse_word(word) == word\n",
    "\n",
    "palindromes = []\n",
    "\n",
    "for word in word_dict:\n",
    "    if is_palindrome(word):\n",
    "        palindromes.append(word)\n",
    "\n",
    "palindromes[:10]"
   ]
  },
  {
   "cell_type": "code",
   "execution_count": 173,
   "id": "f428e948-d5a6-4af3-bd78-20db272c1b86",
   "metadata": {},
   "outputs": [],
   "source": [
    "known = {0:0, 1:1}\n",
    "\n",
    "def fibonacci_memo(n):\n",
    "    if n in known:\n",
    "        return known[n]\n",
    "\n",
    "    res = fibonacci_memo(n-1) + fibonacci_memo(n-2)\n",
    "    known[n] = res\n",
    "    return res"
   ]
  },
  {
   "cell_type": "code",
   "execution_count": 174,
   "id": "61a723d1-ee4e-4c35-992e-537a37550d28",
   "metadata": {},
   "outputs": [],
   "source": [
    "def value_counts(string):\n",
    "    counter = {}\n",
    "    for letter in string:\n",
    "        counter[letter] = counter.get(letter, 0) + 1\n",
    "    return counter"
   ]
  },
  {
   "cell_type": "code",
   "execution_count": 175,
   "id": "403fffc4-6669-4838-a6b3-bf927b45610f",
   "metadata": {},
   "outputs": [
    {
     "data": {
      "text/plain": [
       "{'b': 1, 'r': 2, 'o': 2, 'n': 1, 't': 1, 's': 2, 'a': 1, 'u': 2}"
      ]
     },
     "execution_count": 175,
     "metadata": {},
     "output_type": "execute_result"
    }
   ],
   "source": [
    "counter = value_counts('brontosaurus')\n",
    "counter"
   ]
  },
  {
   "cell_type": "code",
   "execution_count": 176,
   "id": "9c698739-cf5e-4ce8-a4c6-050917f46d19",
   "metadata": {},
   "outputs": [],
   "source": [
    "def has_duplicates(sequence):\n",
    "    counter = value_counts(sequence)\n",
    "    for key in counter:\n",
    "        if counter[key] > 1:\n",
    "            return True\n",
    "    return False"
   ]
  },
  {
   "cell_type": "code",
   "execution_count": 177,
   "id": "e0061f4e-efe2-4775-84d7-101e2306ee2b",
   "metadata": {},
   "outputs": [
    {
     "data": {
      "text/plain": [
       "True"
      ]
     },
     "execution_count": 177,
     "metadata": {},
     "output_type": "execute_result"
    }
   ],
   "source": [
    "has_duplicates('unpreedictably')"
   ]
  },
  {
   "cell_type": "code",
   "execution_count": 178,
   "id": "84cc66ae-7dfd-4749-81c9-2c2ff3c5456b",
   "metadata": {},
   "outputs": [],
   "source": [
    "def find_repeats(counter):\n",
    "    \"\"\"Makes a list of keys with values greater than 1.\n",
    "    \n",
    "    counter: dictionary that maps from keys to counts\n",
    "    \n",
    "    returns: list of keys\n",
    "    \"\"\"\n",
    "    filter_counter = []\n",
    "    for key in counter:\n",
    "        if counter[key] > 1:\n",
    "            filter_counter.append(key)\n",
    "    return filter_counter"
   ]
  },
  {
   "cell_type": "code",
   "execution_count": 179,
   "id": "71e46447-86d5-44f1-b04f-b34e78fd4d38",
   "metadata": {},
   "outputs": [
    {
     "data": {
      "text/plain": [
       "[1, 3]"
      ]
     },
     "execution_count": 179,
     "metadata": {},
     "output_type": "execute_result"
    }
   ],
   "source": [
    "counts1 = {1: 2, 2: 1, 3: 4}\n",
    "find_repeats(counts1)"
   ]
  },
  {
   "cell_type": "code",
   "execution_count": 180,
   "id": "0fbafe24-6a06-422a-b0e3-2b4901e2fedc",
   "metadata": {},
   "outputs": [],
   "source": [
    "counter1 = value_counts('brontosaurus')\n",
    "counter2 = value_counts('apatosaurus')"
   ]
  },
  {
   "cell_type": "code",
   "execution_count": 181,
   "id": "d7e0dc3f-d609-402e-bd8f-424f1df2bbf4",
   "metadata": {},
   "outputs": [
    {
     "data": {
      "text/plain": [
       "{'b': 1, 'r': 3, 'o': 3, 'n': 1, 't': 2, 's': 4, 'a': 4, 'u': 4, 'p': 1}"
      ]
     },
     "execution_count": 181,
     "metadata": {},
     "output_type": "execute_result"
    }
   ],
   "source": [
    "# Using if-else\n",
    "\n",
    "def add_counters(dct1, dct2):\n",
    "    dct3 = dict(dct1)\n",
    "    for key in dct2:        \n",
    "        if key in dct1:\n",
    "            dct3[key] += dct2[key]\n",
    "        else:\n",
    "            dct3[key] = dct2[key]\n",
    "    return dct3\n",
    "    \n",
    "add_counters(counter1, counter2)"
   ]
  },
  {
   "cell_type": "code",
   "execution_count": 182,
   "id": "eb247ee1-0d51-4b05-9087-8cd6e28cb79b",
   "metadata": {},
   "outputs": [
    {
     "data": {
      "text/plain": [
       "{'b': 1, 'r': 3, 'o': 3, 'n': 1, 't': 2, 's': 4, 'a': 4, 'u': 4, 'p': 1}"
      ]
     },
     "execution_count": 182,
     "metadata": {},
     "output_type": "execute_result"
    }
   ],
   "source": [
    "# Using .get(key, default_value)\n",
    "\n",
    "def add_counters(dct1, dct2):\n",
    "    dct3 = dict(dct1)\n",
    "    for key in dct2:\n",
    "        dct3[key] = dct3.get(key, 0) + dct2[key]\n",
    "    return dct3\n",
    "    \n",
    "add_counters(counter1, counter2)"
   ]
  },
  {
   "cell_type": "code",
   "execution_count": 183,
   "id": "e23b072f-9c66-4c78-b2d9-38ff6982e7e0",
   "metadata": {},
   "outputs": [
    {
     "data": {
      "text/plain": [
       "{'b': 1, 'r': 3, 'o': 3, 'n': 1, 't': 2, 's': 4, 'a': 4, 'u': 4, 'p': 1}"
      ]
     },
     "execution_count": 183,
     "metadata": {},
     "output_type": "execute_result"
    }
   ],
   "source": [
    "# Using collections.Counter\n",
    "\n",
    "from collections import Counter\n",
    "\n",
    "def add_counters(dct1, dct2):\n",
    "    return dict(Counter(dct1) + Counter(dct2))\n",
    "    \n",
    "add_counters(counter1, counter2)"
   ]
  },
  {
   "cell_type": "code",
   "execution_count": 184,
   "id": "dca672d1-2374-4e05-9932-c7e4ef0ebd06",
   "metadata": {},
   "outputs": [
    {
     "data": {
      "text/plain": [
       "'shoe'"
      ]
     },
     "execution_count": 184,
     "metadata": {},
     "output_type": "execute_result"
    }
   ],
   "source": [
    "word = 'schooled'\n",
    "first = word[0:None:2]\n",
    "first"
   ]
  },
  {
   "cell_type": "code",
   "execution_count": 185,
   "id": "87d4b269-4192-44e9-b2dd-e8d7de377e12",
   "metadata": {},
   "outputs": [
    {
     "data": {
      "text/plain": [
       "'cold'"
      ]
     },
     "execution_count": 185,
     "metadata": {},
     "output_type": "execute_result"
    }
   ],
   "source": [
    "second = word[1::2]\n",
    "second"
   ]
  },
  {
   "cell_type": "code",
   "execution_count": 201,
   "id": "94efc89d-5a47-407b-87f6-f936a9e64d6a",
   "metadata": {},
   "outputs": [
    {
     "name": "stdout",
     "output_type": "stream",
     "text": [
      "adroitly aril doty\n",
      "agrarians arras gain\n",
      "alienees aine lees\n",
      "arrestee arse rete\n",
      "arrestees arses rete\n",
      "ballooned blond aloe\n",
      "barmaids brad amis\n",
      "baudrons burn ados\n",
      "beakless bals ekes\n",
      "beamless bals emes\n",
      "bloodred bode lord\n",
      "blueness buns lees\n",
      "booklets bolt okes\n",
      "burseeds bred uses\n",
      "calliope clip aloe\n",
      "calliopes clips aloe\n",
      "cellules clue ells\n",
      "cheerier cere heir\n",
      "colludes clue olds\n",
      "cookless cols okes\n",
      "coolness cons oles\n",
      "countess cuts ones\n",
      "couplets cult opes\n",
      "dainties dite anis\n",
      "doorless dols ores\n",
      "dourness duns ores\n",
      "fairness fins ares\n",
      "fleetest fets leet\n",
      "fleetness fetes lens\n",
      "foulness funs oles\n",
      "freeness fens rees\n",
      "friended fine redd\n",
      "furrings frig urns\n",
      "goalless gals oles\n",
      "greeniest genet reis\n",
      "greyness gens ryes\n",
      "grounded gone rudd\n",
      "hooklets holt okes\n",
      "ignitron into girn\n",
      "isleless ills sees\n",
      "mailless mils ales\n",
      "moonless mols ones\n",
      "moonlets molt ones\n",
      "moonsets most ones\n",
      "neutrals nurl etas\n",
      "oghamist ohms gait\n",
      "parietes pree aits\n",
      "peakless pals ekes\n",
      "plainness panes lins\n",
      "playless pals lyes\n",
      "pleonasm pens loam\n",
      "poorness pons ores\n",
      "psalmist pams slit\n",
      "rainouts riot anus\n",
      "ruinable rial unbe\n",
      "sapiences specs aine\n",
      "schooled shoe cold\n",
      "scurries sure cris\n",
      "seamless sals emes\n",
      "seigneurs sinus eger\n",
      "shoalest sols haet\n",
      "shoalier sole hair\n",
      "skerries sere kris\n",
      "smearier sere mair\n",
      "soapless sals opes\n",
      "sourness suns ores\n",
      "spoonies sone pois\n",
      "spurning sunn prig\n",
      "stainless sanes tils\n",
      "sweetest sets weet\n",
      "tailless tils ales\n",
      "tautness tuns ates\n",
      "terrenes tree erns\n",
      "theorems term hoes\n",
      "trientes tine rets\n",
      "triolets tilt roes\n",
      "trueness tuns rees\n",
      "vainness vins anes\n",
      "voidness vins odes\n",
      "weakness wans ekes\n",
      "weirdness wides erns\n",
      "weirdoes wide eros\n"
     ]
    }
   ],
   "source": [
    "def is_interlocking(word):\n",
    "    first, second = word[0::2], word[1::2]    \n",
    "    return (first in word_dict and second in word_dict), word[0::2], word[1::2] \n",
    "\n",
    "for word in word_list:\n",
    "    if len(word) >= 8:\n",
    "        ok, first, second = is_interlocking(word)    \n",
    "        if ok:\n",
    "            print(word, first, second)"
   ]
  }
 ],
 "metadata": {
  "kernelspec": {
   "display_name": "Python 3 (ipykernel)",
   "language": "python",
   "name": "python3"
  },
  "language_info": {
   "codemirror_mode": {
    "name": "ipython",
    "version": 3
   },
   "file_extension": ".py",
   "mimetype": "text/x-python",
   "name": "python",
   "nbconvert_exporter": "python",
   "pygments_lexer": "ipython3",
   "version": "3.13.1"
  }
 },
 "nbformat": 4,
 "nbformat_minor": 5
}

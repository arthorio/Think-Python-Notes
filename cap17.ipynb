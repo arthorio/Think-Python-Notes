{
 "cells": [
  {
   "cell_type": "code",
   "execution_count": 87,
   "id": "cbf65ef4-bd85-4714-b05c-be6c4dd7fb33",
   "metadata": {},
   "outputs": [],
   "source": [
    "import random"
   ]
  },
  {
   "cell_type": "code",
   "execution_count": 88,
   "id": "4b8f4dd0-6e49-46e6-bfbd-a4918df6ae22",
   "metadata": {},
   "outputs": [],
   "source": [
    "class Card:\n",
    "    \"\"\"Represents a standard playing card.\"\"\"\n",
    "\n",
    "    suit_names = ['Clubs', 'Diamonds', 'Hearts', 'Spades']\n",
    "    rank_names = [None, 'Ace', '2', '3', '4', '5', '6', '7', \n",
    "                  '8', '9', '10', 'Jack', 'Queen', 'King', 'Ace']\n",
    "\n",
    "    def __init__(self, suit, rank):\n",
    "        self.suit = suit\n",
    "        self.rank = rank\n",
    "\n",
    "    def __str__(self):\n",
    "        rank_name = Card.rank_names[self.rank]\n",
    "        suit_name = Card.suit_names[self.suit]\n",
    "        return f'{rank_name} of {suit_name}'\n",
    "\n",
    "    def __eq__(self, other):\n",
    "        return self.suit == other.suit and self.rank == other.rank\n",
    "\n",
    "    def to_tuple(self):\n",
    "        return (self.suit, self.rank)\n",
    "\n",
    "    def __lt__(self, other):\n",
    "        return self.to_tuple() < other.to_tuple()\n",
    "\n",
    "    def __le__(self, other):\n",
    "        return self.to_tuple() <= other.to_tuple()"
   ]
  },
  {
   "cell_type": "code",
   "execution_count": 89,
   "id": "b7765a4a-5155-4d7d-ab4c-b8137758e4ae",
   "metadata": {},
   "outputs": [],
   "source": [
    "class Deck:\n",
    "\n",
    "    def __init__(self, cards):\n",
    "        self.cards = cards\n",
    "\n",
    "    def __str__(self):\n",
    "        res = []\n",
    "        for card in self.cards:\n",
    "            res.append(str(card))\n",
    "        return '\\n'.join(res)\n",
    "\n",
    "    def take_card(self):\n",
    "        return self.cards.pop()\n",
    "\n",
    "    def put_card(self, card):\n",
    "        self.cards.append(card)\n",
    "\n",
    "    def shuffle(self):\n",
    "        random.shuffle(self.cards)\n",
    "\n",
    "    def sort(self):\n",
    "        self.cards.sort()\n",
    "\n",
    "    @staticmethod\n",
    "    def make_cards():\n",
    "        cards = []\n",
    "        for suit in range(4):\n",
    "            for rank in range(2, 15):\n",
    "                card = Card(suit, rank)\n",
    "                cards.append(card)\n",
    "        return cards"
   ]
  },
  {
   "cell_type": "code",
   "execution_count": 90,
   "id": "ba61f3c1-343d-42ea-91c6-8f5757d60ddd",
   "metadata": {},
   "outputs": [],
   "source": [
    "class Hand(Deck):\n",
    "    \"\"\"Represents a hand of playing cards.\"\"\"\n",
    "\n",
    "    def __init__(self, label=''):\n",
    "        self.label = label\n",
    "        self.cards = []\n",
    "\n",
    "    def move_cards(self, other, num):\n",
    "        for i in range(num):\n",
    "            card = self.take_card()\n",
    "            other.put_card(card)"
   ]
  },
  {
   "cell_type": "code",
   "execution_count": null,
   "id": "c76bd5e2-08e0-4305-92a7-cbfb47b264aa",
   "metadata": {},
   "outputs": [],
   "source": []
  }
 ],
 "metadata": {
  "kernelspec": {
   "display_name": "Python 3 (ipykernel)",
   "language": "python",
   "name": "python3"
  },
  "language_info": {
   "codemirror_mode": {
    "name": "ipython",
    "version": 3
   },
   "file_extension": ".py",
   "mimetype": "text/x-python",
   "name": "python",
   "nbconvert_exporter": "python",
   "pygments_lexer": "ipython3",
   "version": "3.13.5"
  }
 },
 "nbformat": 4,
 "nbformat_minor": 5
}

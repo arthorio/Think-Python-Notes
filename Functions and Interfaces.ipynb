{
 "cells": [
  {
   "cell_type": "code",
   "execution_count": 27,
   "id": "fa26fc66-a7db-4ed6-b40f-b7450dcf7613",
   "metadata": {},
   "outputs": [],
   "source": [
    "import jupyturtle\n",
    "import math\n",
    "from jupyturtle import make_turtle, forward, left, right, penup, pendown"
   ]
  },
  {
   "cell_type": "code",
   "execution_count": 28,
   "id": "1dd62254-b138-4928-ab6c-2b9a2b740edc",
   "metadata": {},
   "outputs": [],
   "source": [
    "def square(lenght):\n",
    "    for i in range(4):\n",
    "        forward(lenght)\n",
    "        left(90)\n",
    "\n",
    "def polyline(n, length, angle):\n",
    "    for i in range(n):\n",
    "        forward(length)\n",
    "        left(angle)\n",
    "\n",
    "def polygon(n, length):\n",
    "    angle = 360.0 / n\n",
    "    polyline(n, length, angle)\n",
    "\n",
    "def arc(radius, angle):\n",
    "    arc_length = 2 * math.pi * radius * angle / 360\n",
    "    n = 30\n",
    "    length = arc_length / n\n",
    "    step_angle = angle / n\n",
    "    polyline(n, length, step_angle)\n",
    "\n",
    "def circle(radius):\n",
    "    arc(radius,  360)"
   ]
  },
  {
   "cell_type": "code",
   "execution_count": 29,
   "id": "eddb7c39-9309-4515-803f-d8730fd6b461",
   "metadata": {},
   "outputs": [
    {
     "data": {
      "text/html": [
       "<svg width=\"300\" height=\"150\" style=\"fill:none; stroke-linecap:round;\">\n",
       "    <rect width=\"100%\" height=\"100%\" fill=\"#F3F3F7\" />\n",
       "\n",
       "\n",
       "<path stroke=\"#663399\" stroke-width=\"2\" d=\"M 150,75 159,75 167.6,72.2 174.8,66.9 180.1,59.6 182.9,51.1 182.9,42.1 180.1,33.5 174.8,26.2 167.6,21 159,18.2 150,18.2 141.4,21 134.2,26.2 128.9,33.5 126.1,42.1 126.1,51.1 128.9,59.6 134.2,66.9 141.4,72.2 150,75 152.9,75 155.7,74.9 158.5,74.7 161.4,74.3 164.2,73.8 167,73.3 169.7,72.6 172.5,71.8 175.2,70.9 177.8,69.8 180.5,68.7 183,67.5 185.5,66.1 188,64.7 190.4,63.2 192.7,61.5 195,59.8 197.2,58 199.3,56.1 201.4,54.1 203.3,52 205.2,49.9 207,47.6 208.7,45.3 210.2,43 211.7,40.5 213.1,38.1 214.4,35.5 215.6,32.9 216.7,30.3 217.4,28.3 217.7,26.2 217.6,24.2 217,22.1 216,20.3 214.7,18.7 213,17.4 211.1,16.5 209.1,16 207,15.9 204.9,16.3 203,17 201.3,18.2 199.8,19.7 198.7,21.5 198,23.5 197.7,25.5 197.8,27.6 198.4,29.6 199.4,31.5 200.7,33.1 202.4,34.4 204.3,35.3 206.3,35.8 208.4,35.9 210.5,35.5 212.4,34.7 214.1,33.6 215.6,32.1 216.7,30.3\" />'\n",
       "\n",
       "<g transform=\"rotate(200.0,216.7,30.3) translate(216.7, 30.3)\">\n",
       "    <circle stroke=\"#63A375\" stroke-width=\"2\" fill=\"transparent\" r=\"5.5\" cx=\"0\" cy=\"0\"/>\n",
       "    <polygon points=\"0,12 2,9 -2,9\" style=\"fill:#63A375;stroke:#63A375;stroke-width:2\"/>\n",
       "</g>\n",
       "\n",
       "</svg>"
      ],
      "text/plain": [
       "<IPython.core.display.HTML object>"
      ]
     },
     "metadata": {},
     "output_type": "display_data"
    }
   ],
   "source": [
    "make_turtle(delay=0)\n",
    "polygon(n=20, length=9)\n",
    "arc(radius=70, angle=70)\n",
    "circle(radius=10)"
   ]
  },
  {
   "cell_type": "code",
   "execution_count": 30,
   "id": "8a249b27-8a34-4a29-87cf-5a172e269361",
   "metadata": {},
   "outputs": [],
   "source": [
    "def parallelogram(weight, height, angle):\n",
    "    cmp = 180 - angle\n",
    "    for i in range(2):\n",
    "        forward(weight)\n",
    "        left(angle)\n",
    "        forward(height)\n",
    "        left(cmp)\n",
    "\n",
    "def rectangle(width, height):\n",
    "    parallelogram(width, height, 90)\n",
    "\n",
    "def rhombus(lenght, angle):\n",
    "    parallelogram(lenght, lenght, angle)"
   ]
  },
  {
   "cell_type": "code",
   "execution_count": 115,
   "id": "b332626f-4953-4ec2-92d5-3f93be94a90a",
   "metadata": {},
   "outputs": [
    {
     "data": {
      "text/html": [
       "<svg width=\"300\" height=\"150\" style=\"fill:none; stroke-linecap:round;\">\n",
       "    <rect width=\"100%\" height=\"100%\" fill=\"#F3F3F7\" />\n",
       "\n",
       "\n",
       "<path stroke=\"#663399\" stroke-width=\"2\" d=\"M 150,75 170,75 165.3,87.9 150,75 165.3,62.1 170,75 150,75 153.5,55.3 165.3,62.1 150,75 140,57.7 153.5,55.3 150,75 131.2,68.2 140,57.7 150,75 131.2,81.8 131.2,68.2 150,75 140,92.3 131.2,81.8 150,75 153.5,94.7 140,92.3 150,75 165.3,87.9 153.5,94.7 150,75\" />'\n",
       "\n",
       "<g transform=\"rotate(-90.0,150.0,75.0) translate(150.0, 75.0)\">\n",
       "    <circle stroke=\"#63A375\" stroke-width=\"2\" fill=\"transparent\" r=\"5.5\" cx=\"0\" cy=\"0\"/>\n",
       "    <polygon points=\"0,12 2,9 -2,9\" style=\"fill:#63A375;stroke:#63A375;stroke-width:2\"/>\n",
       "</g>\n",
       "\n",
       "</svg>"
      ],
      "text/plain": [
       "<IPython.core.display.HTML object>"
      ]
     },
     "metadata": {},
     "output_type": "display_data"
    }
   ],
   "source": [
    "def triangle(side, angle, base):\n",
    "    forward(side)\n",
    "    left(180 + angle)\n",
    "    forward(base)\n",
    "    left(180 + angle)\n",
    "    forward(side)\n",
    "        \n",
    "def draw_pie(n , side):\n",
    "    angle = 360 / n\n",
    "    base_angle = (180 - angle)/2\n",
    "    base = math.sqrt(2 * (side**2) - ((2 * side**2)) * math.cos(angle * (math.pi/180)))\n",
    "    for i in range(n):\n",
    "        triangle(side, base_angle, base)\n",
    "        right(180 - 2 * angle)\n",
    "        \n",
    "make_turtle(delay=0.2)\n",
    "draw_pie(9, 20)"
   ]
  },
  {
   "cell_type": "code",
   "execution_count": null,
   "id": "e794b7d8-b13c-4b34-99d5-6f34c9b7bc5e",
   "metadata": {},
   "outputs": [],
   "source": []
  }
 ],
 "metadata": {
  "kernelspec": {
   "display_name": "Python 3 (ipykernel)",
   "language": "python",
   "name": "python3"
  },
  "language_info": {
   "codemirror_mode": {
    "name": "ipython",
    "version": 3
   },
   "file_extension": ".py",
   "mimetype": "text/x-python",
   "name": "python",
   "nbconvert_exporter": "python",
   "pygments_lexer": "ipython3",
   "version": "3.13.1"
  }
 },
 "nbformat": 4,
 "nbformat_minor": 5
}

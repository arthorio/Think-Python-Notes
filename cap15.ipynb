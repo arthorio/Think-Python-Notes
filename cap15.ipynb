{
 "cells": [
  {
   "cell_type": "code",
   "execution_count": 13,
   "id": "a573b32c-5f5c-45fa-8368-cac526d9185e",
   "metadata": {},
   "outputs": [],
   "source": [
    "class Time:\n",
    "    \"\"\"Represents the time of day.\"\"\"\n",
    "\n",
    "    def __init__(self, hour=0, minute=0, second=0):  \n",
    "        self.hour = hour\n",
    "        self.minute = minute\n",
    "        self.second = second\n",
    "\n",
    "    # Overload print()\n",
    "    def __str__(self):\n",
    "        s = f'{self.hour:02d}:{self.minute:02d}:{self.second:02d}'\n",
    "        return s\n",
    "\n",
    "    # Overload + operator\n",
    "    def __add__(self, other):\n",
    "        seconds = self.time_to_int() + other.time_to_int()\n",
    "        return Time.int_to_time(seconds)\n",
    "\n",
    "    def time_to_int(self):\n",
    "        minutes = self.hour * 60 + self.minute\n",
    "        seconds = minutes * 60 + self.second\n",
    "        return seconds\n",
    "\n",
    "    def add_time(self, hours, minutes, seconds):\n",
    "        duration = Time(hours, minutes, seconds)\n",
    "        seconds = self.time_to_int() + duration.time_to_int()\n",
    "        return Time.int_to_time(seconds)\n",
    "\n",
    "    def is_after(self, other):\n",
    "        assert self.is_valid(), 'self is not a valid Time'\n",
    "        assert other.is_valid(), 'self is not a valid Time'\n",
    "        return self.time_to_int() > other.time_to_int()\n",
    "\n",
    "    def is_valid(self):\n",
    "        if self.hour < 0 or self.minute < 0 or self.second < 0:\n",
    "            return False\n",
    "        if self.minute >= 60 or self.second >= 60:\n",
    "            return False\n",
    "        if not isinstance(self.hour, int):\n",
    "            return False\n",
    "        if not isinstance(self.minute, int):\n",
    "            return False\n",
    "        return True\n",
    "        \n",
    "    def int_to_time(self):\n",
    "        minute, second = divmod(self, 60)\n",
    "        hour, minute = divmod(minute, 60)\n",
    "        return Time(hour, minute, second)"
   ]
  },
  {
   "cell_type": "code",
   "execution_count": 14,
   "id": "0b33cf66-beef-448a-a008-1ab9693730a3",
   "metadata": {},
   "outputs": [
    {
     "data": {
      "text/plain": [
       "'09:40:00'"
      ]
     },
     "execution_count": 14,
     "metadata": {},
     "output_type": "execute_result"
    }
   ],
   "source": [
    "start = Time(9, 40, 0)\n",
    "start.__str__()"
   ]
  },
  {
   "cell_type": "code",
   "execution_count": 15,
   "id": "90f1fa73-b04c-4568-bca0-e4a49f080acf",
   "metadata": {},
   "outputs": [
    {
     "data": {
      "text/plain": [
       "'09:40:00'"
      ]
     },
     "execution_count": 15,
     "metadata": {},
     "output_type": "execute_result"
    }
   ],
   "source": [
    "str(start)"
   ]
  },
  {
   "cell_type": "code",
   "execution_count": 16,
   "id": "386d4735-fa24-4839-972f-777e6890f320",
   "metadata": {},
   "outputs": [
    {
     "data": {
      "text/plain": [
       "34800"
      ]
     },
     "execution_count": 16,
     "metadata": {},
     "output_type": "execute_result"
    }
   ],
   "source": [
    "start.time_to_int()"
   ]
  },
  {
   "cell_type": "code",
   "execution_count": 17,
   "id": "328925eb-b2dd-4046-ac97-3497527d700f",
   "metadata": {},
   "outputs": [],
   "source": [
    "start = Time.int_to_time(34800)"
   ]
  },
  {
   "cell_type": "code",
   "execution_count": 18,
   "id": "9118498a-a816-4d19-91cf-c02642ca0911",
   "metadata": {},
   "outputs": [
    {
     "data": {
      "text/plain": [
       "'11:12:00'"
      ]
     },
     "execution_count": 18,
     "metadata": {},
     "output_type": "execute_result"
    }
   ],
   "source": [
    "end = start.add_time(1, 32, 0)\n",
    "str(end)"
   ]
  },
  {
   "cell_type": "code",
   "execution_count": 19,
   "id": "9686eb80-f8c0-438a-95cb-c1255a25d071",
   "metadata": {},
   "outputs": [
    {
     "data": {
      "text/plain": [
       "True"
      ]
     },
     "execution_count": 19,
     "metadata": {},
     "output_type": "execute_result"
    }
   ],
   "source": [
    "end.is_after(start)"
   ]
  },
  {
   "cell_type": "code",
   "execution_count": 20,
   "id": "e5ddf582-cc24-4ff3-8d8e-27eab9823787",
   "metadata": {},
   "outputs": [
    {
     "name": "stdout",
     "output_type": "stream",
     "text": [
      "09:40:00\n"
     ]
    }
   ],
   "source": [
    "time = Time(9, 40, 0)\n",
    "print(time)"
   ]
  },
  {
   "cell_type": "code",
   "execution_count": 21,
   "id": "4b09f61d-dd15-4da9-bb4b-a7b976e8d8e5",
   "metadata": {},
   "outputs": [
    {
     "name": "stdout",
     "output_type": "stream",
     "text": [
      "00:00:00\n"
     ]
    }
   ],
   "source": [
    "time = Time()\n",
    "print(time)"
   ]
  },
  {
   "cell_type": "code",
   "execution_count": 22,
   "id": "64f5ffea-73de-42e6-84f3-57d65268b270",
   "metadata": {},
   "outputs": [
    {
     "name": "stdout",
     "output_type": "stream",
     "text": [
      "09:00:00\n"
     ]
    }
   ],
   "source": [
    "time = Time(9)\n",
    "print(time)"
   ]
  },
  {
   "cell_type": "code",
   "execution_count": 23,
   "id": "73135826-9608-4326-9bab-5788706c8dde",
   "metadata": {},
   "outputs": [
    {
     "name": "stdout",
     "output_type": "stream",
     "text": [
      "09:45:00\n"
     ]
    }
   ],
   "source": [
    "time = Time(9, 45)\n",
    "print(time)"
   ]
  },
  {
   "cell_type": "code",
   "execution_count": 24,
   "id": "12537af9-9475-410c-8a38-6cda50153432",
   "metadata": {},
   "outputs": [
    {
     "name": "stdout",
     "output_type": "stream",
     "text": [
      "11:12:00\n"
     ]
    }
   ],
   "source": [
    "duration = Time(1, 32)\n",
    "end = start + duration\n",
    "print(end)"
   ]
  },
  {
   "cell_type": "code",
   "execution_count": 25,
   "id": "fd790ce4-5e38-4117-ac0d-abacb7bb3d28",
   "metadata": {},
   "outputs": [
    {
     "name": "stdout",
     "output_type": "stream",
     "text": [
      "00:132:00\n"
     ]
    }
   ],
   "source": [
    "duration = Time(minute=132)\n",
    "print(duration)"
   ]
  },
  {
   "cell_type": "code",
   "execution_count": 26,
   "id": "2c20babc-362d-4afe-b924-8be3ffd22556",
   "metadata": {},
   "outputs": [
    {
     "ename": "AssertionError",
     "evalue": "self is not a valid Time",
     "output_type": "error",
     "traceback": [
      "\u001b[31m---------------------------------------------------------------------------\u001b[39m",
      "\u001b[31mAssertionError\u001b[39m                            Traceback (most recent call last)",
      "\u001b[36mCell\u001b[39m\u001b[36m \u001b[39m\u001b[32mIn[26]\u001b[39m\u001b[32m, line 1\u001b[39m\n\u001b[32m----> \u001b[39m\u001b[32m1\u001b[39m \u001b[43mstart\u001b[49m\u001b[43m.\u001b[49m\u001b[43mis_after\u001b[49m\u001b[43m(\u001b[49m\u001b[43mduration\u001b[49m\u001b[43m)\u001b[49m\n",
      "\u001b[36mCell\u001b[39m\u001b[36m \u001b[39m\u001b[32mIn[13]\u001b[39m\u001b[32m, line 31\u001b[39m, in \u001b[36mTime.is_after\u001b[39m\u001b[34m(self, other)\u001b[39m\n\u001b[32m     29\u001b[39m \u001b[38;5;28;01mdef\u001b[39;00m\u001b[38;5;250m \u001b[39m\u001b[34mis_after\u001b[39m(\u001b[38;5;28mself\u001b[39m, other):\n\u001b[32m     30\u001b[39m     \u001b[38;5;28;01massert\u001b[39;00m \u001b[38;5;28mself\u001b[39m.is_valid(), \u001b[33m'\u001b[39m\u001b[33mself is not a valid Time\u001b[39m\u001b[33m'\u001b[39m\n\u001b[32m---> \u001b[39m\u001b[32m31\u001b[39m     \u001b[38;5;28;01massert\u001b[39;00m other.is_valid(), \u001b[33m'\u001b[39m\u001b[33mself is not a valid Time\u001b[39m\u001b[33m'\u001b[39m\n\u001b[32m     32\u001b[39m     \u001b[38;5;28;01mreturn\u001b[39;00m \u001b[38;5;28mself\u001b[39m.time_to_int() > other.time_to_int()\n",
      "\u001b[31mAssertionError\u001b[39m: self is not a valid Time"
     ]
    }
   ],
   "source": [
    "start.is_after(duration)"
   ]
  },
  {
   "cell_type": "code",
   "execution_count": 27,
   "id": "49d26312-0fda-4aaf-bd08-6dcf2662f544",
   "metadata": {},
   "outputs": [
    {
     "name": "stdout",
     "output_type": "stream",
     "text": [
      "Exception reporting mode: Verbose\n"
     ]
    }
   ],
   "source": [
    "%xmode Verbose"
   ]
  },
  {
   "cell_type": "code",
   "execution_count": null,
   "id": "8854f7c4-64c8-454b-acd2-119612f36fa2",
   "metadata": {},
   "outputs": [],
   "source": []
  }
 ],
 "metadata": {
  "kernelspec": {
   "display_name": "Python 3 (ipykernel)",
   "language": "python",
   "name": "python3"
  },
  "language_info": {
   "codemirror_mode": {
    "name": "ipython",
    "version": 3
   },
   "file_extension": ".py",
   "mimetype": "text/x-python",
   "name": "python",
   "nbconvert_exporter": "python",
   "pygments_lexer": "ipython3",
   "version": "3.13.5"
  }
 },
 "nbformat": 4,
 "nbformat_minor": 5
}

{
 "cells": [
  {
   "cell_type": "code",
   "execution_count": 1,
   "id": "79c4579a-e34e-4804-93c1-a4d34811eafb",
   "metadata": {},
   "outputs": [],
   "source": [
    "from copy import copy, deepcopy\n",
    "from jupyturtle import make_turtle, jumpto, moveto"
   ]
  },
  {
   "cell_type": "code",
   "execution_count": 2,
   "id": "55e38909-7b8f-4ef9-8325-a0495708d3fc",
   "metadata": {},
   "outputs": [],
   "source": [
    "class Point:\n",
    "    \"\"\"Represents a point in 2-D space.\"\"\"\n",
    "    \n",
    "    def __init__(self, x, y):\n",
    "        self.x = x\n",
    "        self.y = y\n",
    "        \n",
    "    def __str__(self):\n",
    "        return f'Point({self.x}, {self.y})'\n",
    "\n",
    "    def translate(self, dx, dy):\n",
    "        self.x += dx\n",
    "        self.y += dy\n",
    "\n",
    "    def translated(self, dx=0, dy=0):\n",
    "        point = copy(self)\n",
    "        point.translate(dx, dy)\n",
    "        return point\n",
    "\n",
    "    def __eq__(self, other):\n",
    "        return (self.x == other.x) and (self.y == other.y)"
   ]
  },
  {
   "cell_type": "code",
   "execution_count": 3,
   "id": "4e891a6c-5191-4794-a281-e3ab54cbc6c9",
   "metadata": {},
   "outputs": [],
   "source": [
    "class Line:\n",
    "    def __init__(self, p1, p2):\n",
    "        self.p1 = p1\n",
    "        self.p2 = p2\n",
    "        \n",
    "    def __str__(self):\n",
    "        return f'Line({self.p1}, {self.p2})'\n",
    "\n",
    "    def __eq__(self, other):\n",
    "        return (self.p1 == other.p1 and self.p2 == other.p2) or (self.p1 == other.p2 and self.p2 == other.p1)\n",
    "\n",
    "    def draw(self):\n",
    "        jumpto(self.p1.x, self.p1.y)\n",
    "        moveto(self.p2.x, self.p2.y)\n",
    "\n",
    "    def midpoint(self):\n",
    "        return Point((self.p1.x + self.p2.x)/2, (self.p1.y + self.p2.y)/2)"
   ]
  },
  {
   "cell_type": "code",
   "execution_count": 4,
   "id": "96af5e4e-c1d0-4456-a1c4-842f4278f4c4",
   "metadata": {},
   "outputs": [],
   "source": [
    "class Rectangle:\n",
    "    \"\"\"Represents a rectangle. \n",
    "\n",
    "    attributes: width, height, corner.\n",
    "    \"\"\"\n",
    "    def __init__(self, width, height, corner):\n",
    "        self.width = width\n",
    "        self.height = height\n",
    "        self.corner = corner\n",
    "        \n",
    "    def __str__(self):\n",
    "        return f'Rectangle({self.width}, {self.height}, {self.corner})'\n",
    "\n",
    "    def make_points(self):\n",
    "        p1 = self.corner\n",
    "        p2 = p1.translated(self.width, 0)\n",
    "        p3 = p2.translated(0, self.height)\n",
    "        p4 = p3.translated(-self.width, 0)\n",
    "        return p1, p2, p3, p4\n",
    "\n",
    "    def make_lines(self):\n",
    "        p1, p2, p3, p4 = self.make_points()\n",
    "        return Line(p1, p2), Line(p2, p3), Line(p3, p4), Line(p4, p1)\n",
    "\n",
    "    def draw(self):\n",
    "        lines = self.make_lines()\n",
    "        for line in lines:\n",
    "            line.draw()\n",
    "    \n",
    "    def grow(self, dwidth, dheight):\n",
    "        self.width += dwidth\n",
    "        self.height += dheight\n",
    "\n",
    "    def translate(self, dx, dy):\n",
    "        self.corner.translate(dx, dy)\n",
    "\n",
    "    def midpoint(self):\n",
    "        return Point((self.corner.x + self.width/2), (self.corner.y + self.height/2))\n",
    "\n",
    "    def make_cross(self):\n",
    "        lines_mid = [line.midpoint() for line in self.make_lines()]            \n",
    "        return [Line(lines_mid[0], lines_mid[2]), Line(lines_mid[1], lines_mid[3]) ]"
   ]
  },
  {
   "cell_type": "code",
   "execution_count": 5,
   "id": "aebd0fc8-0aaf-41fc-b1f5-b77085147b3e",
   "metadata": {},
   "outputs": [],
   "source": [
    "start1 = Point(0, 0)\n",
    "start2 = Point(0, 0)\n",
    "end = Point(200, 100)"
   ]
  },
  {
   "cell_type": "code",
   "execution_count": 6,
   "id": "1f0f756f-3e20-4328-b1cf-537f2ee9a900",
   "metadata": {},
   "outputs": [
    {
     "data": {
      "text/plain": [
       "True"
      ]
     },
     "execution_count": 6,
     "metadata": {},
     "output_type": "execute_result"
    }
   ],
   "source": [
    "line_a = Line(start1, end)\n",
    "line_b = Line(start2, end)\n",
    "line_a == line_b"
   ]
  },
  {
   "cell_type": "code",
   "execution_count": 7,
   "id": "f809a7d0-a555-42a1-93e8-9496e8d07dea",
   "metadata": {},
   "outputs": [
    {
     "data": {
      "text/plain": [
       "True"
      ]
     },
     "execution_count": 7,
     "metadata": {},
     "output_type": "execute_result"
    }
   ],
   "source": [
    "line_c = Line(end, start1)\n",
    "line_a == line_c"
   ]
  },
  {
   "cell_type": "code",
   "execution_count": 8,
   "id": "75d3d4c0-5d6c-43dd-a7df-735ae62f62c7",
   "metadata": {},
   "outputs": [
    {
     "data": {
      "text/plain": [
       "True"
      ]
     },
     "execution_count": 8,
     "metadata": {},
     "output_type": "execute_result"
    }
   ],
   "source": [
    "line_b == line_c "
   ]
  },
  {
   "cell_type": "code",
   "execution_count": 9,
   "id": "513e73cf-ebda-43e2-b3d3-3cfd48a27fca",
   "metadata": {},
   "outputs": [
    {
     "data": {
      "text/plain": [
       "False"
      ]
     },
     "execution_count": 9,
     "metadata": {},
     "output_type": "execute_result"
    }
   ],
   "source": [
    "line_d = Line(start1, start2)\n",
    "line_a == line_d"
   ]
  },
  {
   "cell_type": "code",
   "execution_count": 10,
   "id": "fe024c23-4590-45a4-a23e-8d24317ef39a",
   "metadata": {},
   "outputs": [],
   "source": [
    "start = Point(0, 0)\n",
    "end1 = Point(300, 0)\n",
    "end2 = Point(0, 150)\n",
    "line1 = Line(start, end1)\n",
    "line2 = Line(start, end2)"
   ]
  },
  {
   "cell_type": "code",
   "execution_count": 11,
   "id": "7d528906-b825-48a3-9a1f-1ab98c6eb504",
   "metadata": {},
   "outputs": [
    {
     "name": "stdout",
     "output_type": "stream",
     "text": [
      "Point(150.0, 0.0)\n"
     ]
    }
   ],
   "source": [
    "mid1 = line1.midpoint()\n",
    "print(mid1)"
   ]
  },
  {
   "cell_type": "code",
   "execution_count": 12,
   "id": "e34fc0dc-177d-4829-b20b-b31d53bfdcd9",
   "metadata": {},
   "outputs": [
    {
     "name": "stdout",
     "output_type": "stream",
     "text": [
      "Point(0.0, 75.0)\n"
     ]
    }
   ],
   "source": [
    "mid2 = line2.midpoint()\n",
    "print(mid2)"
   ]
  },
  {
   "cell_type": "code",
   "execution_count": 13,
   "id": "63fa455b-2d88-418c-8329-90a49021d3b2",
   "metadata": {},
   "outputs": [],
   "source": [
    "line3 = Line(mid1, mid2)"
   ]
  },
  {
   "cell_type": "code",
   "execution_count": 14,
   "id": "49205c41-7926-4615-b0e1-33302ee7cfa4",
   "metadata": {},
   "outputs": [
    {
     "data": {
      "text/html": [
       "<svg width=\"300\" height=\"150\" style=\"fill:none; stroke-linecap:round;\">\n",
       "    <rect width=\"100%\" height=\"100%\" fill=\"#F3F3F7\" />\n",
       "\n",
       "\n",
       "<path stroke=\"#663399\" stroke-width=\"2\" d=\"M 150,75\" />'\n",
       "\n",
       "<path stroke=\"#663399\" stroke-width=\"2\" d=\"M 0,0 300,0\" />'\n",
       "\n",
       "<path stroke=\"#663399\" stroke-width=\"2\" d=\"M 0,0 0,150\" />'\n",
       "\n",
       "<path stroke=\"#663399\" stroke-width=\"2\" d=\"M 150,0 0,75\" />'\n",
       "\n",
       "<g transform=\"rotate(-90.0,0.0,75.0) translate(0.0, 75.0)\">\n",
       "    <circle stroke=\"#63A375\" stroke-width=\"2\" fill=\"transparent\" r=\"5.5\" cx=\"0\" cy=\"0\"/>\n",
       "    <polygon points=\"0,12 2,9 -2,9\" style=\"fill:#63A375;stroke:#63A375;stroke-width:2\"/>\n",
       "</g>\n",
       "\n",
       "</svg>"
      ],
      "text/plain": [
       "<IPython.core.display.HTML object>"
      ]
     },
     "metadata": {},
     "output_type": "display_data"
    }
   ],
   "source": [
    "make_turtle()\n",
    "\n",
    "for shape in [line1, line2, line3]:\n",
    "    shape.draw()"
   ]
  },
  {
   "cell_type": "code",
   "execution_count": 15,
   "id": "d380a9d8-82ca-41f4-8bd7-2349f0532467",
   "metadata": {},
   "outputs": [],
   "source": [
    "corner = Point(30, 20)\n",
    "rectangle = Rectangle(100, 80, corner)"
   ]
  },
  {
   "cell_type": "code",
   "execution_count": 16,
   "id": "da1eea68-abdb-487f-aece-cf8944080159",
   "metadata": {},
   "outputs": [
    {
     "name": "stdout",
     "output_type": "stream",
     "text": [
      "Point(80.0, 60.0)\n"
     ]
    }
   ],
   "source": [
    "mid = rectangle.midpoint()\n",
    "print(mid)"
   ]
  },
  {
   "cell_type": "code",
   "execution_count": 17,
   "id": "fdff66ac-734e-45a6-b6bb-e78b16e07cf6",
   "metadata": {},
   "outputs": [],
   "source": [
    "diagonal = Line(corner, mid)"
   ]
  },
  {
   "cell_type": "code",
   "execution_count": 18,
   "id": "27657175-0226-41d9-8274-bd429033aeca",
   "metadata": {},
   "outputs": [
    {
     "data": {
      "text/html": [
       "<svg width=\"300\" height=\"150\" style=\"fill:none; stroke-linecap:round;\">\n",
       "    <rect width=\"100%\" height=\"100%\" fill=\"#F3F3F7\" />\n",
       "\n",
       "\n",
       "<path stroke=\"#663399\" stroke-width=\"2\" d=\"M 150,75\" />'\n",
       "\n",
       "<path stroke=\"#663399\" stroke-width=\"2\" d=\"M 0,0 300,0\" />'\n",
       "\n",
       "<path stroke=\"#663399\" stroke-width=\"2\" d=\"M 0,0 0,150\" />'\n",
       "\n",
       "<path stroke=\"#663399\" stroke-width=\"2\" d=\"M 30,20 130,20\" />'\n",
       "\n",
       "<path stroke=\"#663399\" stroke-width=\"2\" d=\"M 130,20 130,100\" />'\n",
       "\n",
       "<path stroke=\"#663399\" stroke-width=\"2\" d=\"M 130,100 30,100\" />'\n",
       "\n",
       "<path stroke=\"#663399\" stroke-width=\"2\" d=\"M 30,100 30,20\" />'\n",
       "\n",
       "<path stroke=\"#663399\" stroke-width=\"2\" d=\"M 30,20 80,60\" />'\n",
       "\n",
       "<g transform=\"rotate(-90.0,80.0,60.0) translate(80.0, 60.0)\">\n",
       "    <circle stroke=\"#63A375\" stroke-width=\"2\" fill=\"transparent\" r=\"5.5\" cx=\"0\" cy=\"0\"/>\n",
       "    <polygon points=\"0,12 2,9 -2,9\" style=\"fill:#63A375;stroke:#63A375;stroke-width:2\"/>\n",
       "</g>\n",
       "\n",
       "</svg>"
      ],
      "text/plain": [
       "<IPython.core.display.HTML object>"
      ]
     },
     "metadata": {},
     "output_type": "display_data"
    }
   ],
   "source": [
    "make_turtle()\n",
    "\n",
    "for shape in [line1, line2, rectangle, diagonal]:\n",
    "    shape.draw()"
   ]
  },
  {
   "cell_type": "code",
   "execution_count": 19,
   "id": "83587d0a-01f9-437b-835b-4a3226736137",
   "metadata": {},
   "outputs": [],
   "source": [
    "corner = Point(30, 20)\n",
    "rectangle = Rectangle(100, 80, corner)"
   ]
  },
  {
   "cell_type": "code",
   "execution_count": 20,
   "id": "3be90caa-9ce3-4f1c-b281-1516d179a775",
   "metadata": {},
   "outputs": [],
   "source": [
    "lines = rectangle.make_cross()"
   ]
  },
  {
   "cell_type": "code",
   "execution_count": 21,
   "id": "8ac1374f-e653-44e5-b6a3-d4355b2edf65",
   "metadata": {},
   "outputs": [
    {
     "data": {
      "text/html": [
       "<svg width=\"300\" height=\"150\" style=\"fill:none; stroke-linecap:round;\">\n",
       "    <rect width=\"100%\" height=\"100%\" fill=\"#F3F3F7\" />\n",
       "\n",
       "\n",
       "<path stroke=\"#663399\" stroke-width=\"2\" d=\"M 150,75\" />'\n",
       "\n",
       "<path stroke=\"#663399\" stroke-width=\"2\" d=\"M 30,20 130,20\" />'\n",
       "\n",
       "<path stroke=\"#663399\" stroke-width=\"2\" d=\"M 130,20 130,100\" />'\n",
       "\n",
       "<path stroke=\"#663399\" stroke-width=\"2\" d=\"M 130,100 30,100\" />'\n",
       "\n",
       "<path stroke=\"#663399\" stroke-width=\"2\" d=\"M 30,100 30,20\" />'\n",
       "\n",
       "<path stroke=\"#663399\" stroke-width=\"2\" d=\"M 80,20 80,100\" />'\n",
       "\n",
       "<path stroke=\"#663399\" stroke-width=\"2\" d=\"M 130,60 30,60\" />'\n",
       "\n",
       "<g transform=\"rotate(-90.0,30.0,60.0) translate(30.0, 60.0)\">\n",
       "    <circle stroke=\"#63A375\" stroke-width=\"2\" fill=\"transparent\" r=\"5.5\" cx=\"0\" cy=\"0\"/>\n",
       "    <polygon points=\"0,12 2,9 -2,9\" style=\"fill:#63A375;stroke:#63A375;stroke-width:2\"/>\n",
       "</g>\n",
       "\n",
       "</svg>"
      ],
      "text/plain": [
       "<IPython.core.display.HTML object>"
      ]
     },
     "metadata": {},
     "output_type": "display_data"
    }
   ],
   "source": [
    "make_turtle()\n",
    "\n",
    "rectangle.draw()\n",
    "for line in lines:\n",
    "    line.draw()"
   ]
  },
  {
   "cell_type": "code",
   "execution_count": 102,
   "id": "41faa2a4-c59b-4d7d-b86b-da803a1db071",
   "metadata": {},
   "outputs": [],
   "source": [
    "from jupyturtle import make_turtle, forward, left, right\n",
    "import math\n",
    "\n",
    "class Circle:\n",
    "\n",
    "    def __init__(self, center, radius):\n",
    "        self.center = center\n",
    "        self.radius = radius\n",
    "        \n",
    "    def __str__(self):\n",
    "        return f'Circle({self.center}, {self.radius})'\n",
    "\n",
    "    def draw(self):\n",
    "        circumference = 2 * math.pi * self.radius\n",
    "        n = 600\n",
    "        length = circumference / n\n",
    "        angle = 360 / n\n",
    "        left(angle / 2)\n",
    "\n",
    "        # Move turtle to circle start position\n",
    "        jumpto(self.center.x + self.radius, self.center.y)\n",
    "        left(90 + angle / 2)\n",
    "        \n",
    "        for i in range(n):\n",
    "            forward(length)\n",
    "            left(angle)"
   ]
  },
  {
   "cell_type": "code",
   "execution_count": 103,
   "id": "0d905067-9691-43c4-8683-7c8c15df6b37",
   "metadata": {},
   "outputs": [],
   "source": [
    "corner = Point(20, 20)\n",
    "rectangle = Rectangle(100, 100, corner)"
   ]
  },
  {
   "cell_type": "code",
   "execution_count": 104,
   "id": "41e244c2-fd92-451d-9c32-d5c019b6fd18",
   "metadata": {},
   "outputs": [
    {
     "name": "stdout",
     "output_type": "stream",
     "text": [
      "Circle(Point(70.0, 70.0), 50.0)\n"
     ]
    }
   ],
   "source": [
    "center = rectangle.midpoint()\n",
    "radius = rectangle.height / 2\n",
    "\n",
    "circle = Circle(center, radius)\n",
    "print(circle)"
   ]
  },
  {
   "cell_type": "code",
   "execution_count": 105,
   "id": "93cf6d8a-9a98-4bd0-bcf0-c3d06c076484",
   "metadata": {},
   "outputs": [
    {
     "data": {
      "text/html": [
       "<svg width=\"300\" height=\"150\" style=\"fill:none; stroke-linecap:round;\">\n",
       "    <rect width=\"100%\" height=\"100%\" fill=\"#F3F3F7\" />\n",
       "\n",
       "\n",
       "<path stroke=\"#663399\" stroke-width=\"2\" d=\"M 150,75\" />'\n",
       "\n",
       "<path stroke=\"#663399\" stroke-width=\"2\" d=\"M 20,20 120,20\" />'\n",
       "\n",
       "<path stroke=\"#663399\" stroke-width=\"2\" d=\"M 120,20 120,120\" />'\n",
       "\n",
       "<path stroke=\"#663399\" stroke-width=\"2\" d=\"M 120,120 20,120\" />'\n",
       "\n",
       "<path stroke=\"#663399\" stroke-width=\"2\" d=\"M 20,120 20,20\" />'\n",
       "\n",
       "<path stroke=\"#663399\" stroke-width=\"2\" d=\"M 120,70 120,69.5 120,69 120,68.4 119.9,67.9 119.9,67.4 119.9,66.9 119.8,66.3 119.8,65.8 119.8,65.3 119.7,64.8 119.6,64.3 119.6,63.7 119.5,63.2 119.4,62.7 119.3,62.2 119.3,61.7 119.2,61.1 119.1,60.6 119,60.1 118.9,59.6 118.7,59.1 118.6,58.6 118.5,58.1 118.4,57.6 118.2,57.1 118.1,56.6 117.9,56.1 117.8,55.6 117.6,55.1 117.5,54.6 117.3,54.1 117.1,53.6 117,53.1 116.8,52.6 116.6,52.1 116.4,51.6 116.2,51.1 116,50.6 115.8,50.2 115.6,49.7 115.4,49.2 115.1,48.7 114.9,48.3 114.7,47.8 114.4,47.3 114.2,46.9 113.9,46.4 113.7,45.9 113.4,45.5 113.2,45 112.9,44.6 112.6,44.1 112.4,43.7 112.1,43.2 111.8,42.8 111.5,42.4 111.2,41.9 110.9,41.5 110.6,41.1 110.3,40.7 110,40.2 109.7,39.8 109.3,39.4 109,39 108.7,38.6 108.4,38.2 108,37.8 107.7,37.4 107.3,37 107,36.6 106.6,36.2 106.3,35.8 105.9,35.5 105.5,35.1 105.2,34.7 104.8,34.4 104.4,34 104,33.6 103.7,33.3 103.3,32.9 102.9,32.6 102.5,32.2 102.1,31.9 101.7,31.6 101.3,31.2 100.9,30.9 100.4,30.6 100,30.3 99.6,30 99.2,29.7 98.8,29.4 98.3,29.1 97.9,28.8 97.5,28.5 97,28.2 96.6,27.9 96.1,27.6 95.7,27.4 95.2,27.1 94.8,26.8 94.3,26.6 93.9,26.3 93.4,26.1 92.9,25.8 92.5,25.6 92,25.4 91.5,25.1 91.1,24.9 90.6,24.7 90.1,24.5 89.6,24.3 89.1,24.1 88.6,23.9 88.2,23.7 87.7,23.5 87.2,23.3 86.7,23.1 86.2,23 85.7,22.8 85.2,22.6 84.7,22.5 84.2,22.3 83.7,22.2 83.2,22 82.7,21.9 82.2,21.8 81.7,21.6 81.2,21.5 80.7,21.4 80.1,21.3 79.6,21.2 79.1,21.1 78.6,21 78.1,20.9 77.6,20.8 77,20.8 76.5,20.7 76,20.6 75.5,20.6 75,20.5 74.4,20.5 73.9,20.4 73.4,20.4 72.9,20.3 72.4,20.3 71.8,20.3 71.3,20.3 70.8,20.3 70.3,20.3 69.7,20.3 69.2,20.3 68.7,20.3 68.2,20.3 67.6,20.3 67.1,20.3 66.6,20.4 66.1,20.4 65.6,20.5 65,20.5 64.5,20.6 64,20.6 63.5,20.7 63,20.8 62.4,20.8 61.9,20.9 61.4,21 60.9,21.1 60.4,21.2 59.9,21.3 59.3,21.4 58.8,21.5 58.3,21.6 57.8,21.8 57.3,21.9 56.8,22 56.3,22.2 55.8,22.3 55.3,22.5 54.8,22.6 54.3,22.8 53.8,23 53.3,23.1 52.8,23.3 52.3,23.5 51.8,23.7 51.4,23.9 50.9,24.1 50.4,24.3 49.9,24.5 49.4,24.7 48.9,24.9 48.5,25.1 48,25.4 47.5,25.6 47.1,25.8 46.6,26.1 46.1,26.3 45.7,26.6 45.2,26.8 44.8,27.1 44.3,27.4 43.9,27.6 43.4,27.9 43,28.2 42.5,28.5 42.1,28.8 41.7,29.1 41.3,29.4 40.8,29.7 40.4,30 40,30.3 39.6,30.6 39.1,30.9 38.7,31.2 38.3,31.6 37.9,31.9 37.5,32.2 37.1,32.6 36.7,32.9 36.3,33.3 36,33.6 35.6,34 35.2,34.4 34.8,34.7 34.5,35.1 34.1,35.5 33.7,35.8 33.4,36.2 33,36.6 32.7,37 32.3,37.4 32,37.8 31.6,38.2 31.3,38.6 31,39 30.7,39.4 30.3,39.8 30,40.2 29.7,40.7 29.4,41.1 29.1,41.5 28.8,41.9 28.5,42.4 28.2,42.8 27.9,43.2 27.6,43.7 27.4,44.1 27.1,44.6 26.8,45 26.6,45.5 26.3,45.9 26.1,46.4 25.8,46.9 25.6,47.3 25.3,47.8 25.1,48.3 24.9,48.7 24.6,49.2 24.4,49.7 24.2,50.2 24,50.6 23.8,51.1 23.6,51.6 23.4,52.1 23.2,52.6 23,53.1 22.9,53.6 22.7,54.1 22.5,54.6 22.4,55.1 22.2,55.6 22.1,56.1 21.9,56.6 21.8,57.1 21.6,57.6 21.5,58.1 21.4,58.6 21.3,59.1 21.1,59.6 21,60.1 20.9,60.6 20.8,61.1 20.7,61.7 20.7,62.2 20.6,62.7 20.5,63.2 20.4,63.7 20.4,64.3 20.3,64.8 20.2,65.3 20.2,65.8 20.2,66.3 20.1,66.9 20.1,67.4 20.1,67.9 20,68.4 20,69 20,69.5 20,70 20,70.5 20,71 20,71.6 20,72.1 20.1,72.6 20.1,73.1 20.1,73.7 20.2,74.2 20.2,74.7 20.2,75.2 20.3,75.7 20.4,76.3 20.4,76.8 20.5,77.3 20.6,77.8 20.7,78.3 20.7,78.9 20.8,79.4 20.9,79.9 21,80.4 21.1,80.9 21.3,81.4 21.4,81.9 21.5,82.4 21.6,82.9 21.8,83.5 21.9,84 22.1,84.5 22.2,85 22.4,85.5 22.5,86 22.7,86.5 22.9,87 23,87.4 23.2,87.9 23.4,88.4 23.6,88.9 23.8,89.4 24,89.9 24.2,90.4 24.4,90.8 24.6,91.3 24.9,91.8 25.1,92.3 25.3,92.7 25.6,93.2 25.8,93.7 26.1,94.1 26.3,94.6 26.6,95 26.8,95.5 27.1,95.9 27.4,96.4 27.6,96.8 27.9,97.3 28.2,97.7 28.5,98.1 28.8,98.6 29.1,99 29.4,99.4 29.7,99.9 30,100.3 30.3,100.7 30.7,101.1 31,101.5 31.3,101.9 31.6,102.3 32,102.7 32.3,103.1 32.7,103.5 33,103.9 33.4,104.3 33.7,104.7 34.1,105.1 34.5,105.4 34.8,105.8 35.2,106.2 35.6,106.5 36,106.9 36.3,107.2 36.7,107.6 37.1,107.9 37.5,108.3 37.9,108.6 38.3,109 38.7,109.3 39.1,109.6 39.6,109.9 40,110.2 40.4,110.6 40.8,110.9 41.3,111.2 41.7,111.5 42.1,111.8 42.5,112.1 43,112.3 43.4,112.6 43.9,112.9 44.3,113.2 44.8,113.4 45.2,113.7 45.7,114 46.1,114.2 46.6,114.5 47.1,114.7 47.5,114.9 48,115.2 48.5,115.4 48.9,115.6 49.4,115.8 49.9,116 50.4,116.3 50.9,116.5 51.4,116.7 51.8,116.8 52.3,117 52.8,117.2 53.3,117.4 53.8,117.6 54.3,117.7 54.8,117.9 55.3,118.1 55.8,118.2 56.3,118.3 56.8,118.5 57.3,118.6 57.8,118.8 58.3,118.9 58.8,119 59.3,119.1 59.9,119.2 60.4,119.3 60.9,119.4 61.4,119.5 61.9,119.6 62.4,119.7 63,119.8 63.5,119.8 64,119.9 64.5,120 65,120 65.6,120.1 66.1,120.1 66.6,120.1 67.1,120.2 67.6,120.2 68.2,120.2 68.7,120.2 69.2,120.3 69.7,120.3 70.3,120.3 70.8,120.3 71.3,120.2 71.8,120.2 72.4,120.2 72.9,120.2 73.4,120.1 73.9,120.1 74.4,120.1 75,120 75.5,120 76,119.9 76.5,119.8 77,119.8 77.6,119.7 78.1,119.6 78.6,119.5 79.1,119.4 79.6,119.3 80.1,119.2 80.7,119.1 81.2,119 81.7,118.9 82.2,118.8 82.7,118.6 83.2,118.5 83.7,118.3 84.2,118.2 84.7,118.1 85.2,117.9 85.7,117.7 86.2,117.6 86.7,117.4 87.2,117.2 87.7,117 88.2,116.8 88.6,116.7 89.1,116.5 89.6,116.3 90.1,116 90.6,115.8 91.1,115.6 91.5,115.4 92,115.2 92.5,114.9 92.9,114.7 93.4,114.5 93.9,114.2 94.3,114 94.8,113.7 95.2,113.4 95.7,113.2 96.1,112.9 96.6,112.6 97,112.3 97.5,112.1 97.9,111.8 98.3,111.5 98.8,111.2 99.2,110.9 99.6,110.6 100,110.2 100.4,109.9 100.9,109.6 101.3,109.3 101.7,109 102.1,108.6 102.5,108.3 102.9,107.9 103.3,107.6 103.7,107.2 104,106.9 104.4,106.5 104.8,106.2 105.2,105.8 105.5,105.4 105.9,105.1 106.3,104.7 106.6,104.3 107,103.9 107.3,103.5 107.7,103.1 108,102.7 108.4,102.3 108.7,101.9 109,101.5 109.3,101.1 109.7,100.7 110,100.3 110.3,99.9 110.6,99.4 110.9,99 111.2,98.6 111.5,98.1 111.8,97.7 112.1,97.3 112.4,96.8 112.6,96.4 112.9,95.9 113.2,95.5 113.4,95 113.7,94.6 113.9,94.1 114.2,93.7 114.4,93.2 114.7,92.7 114.9,92.3 115.1,91.8 115.4,91.3 115.6,90.8 115.8,90.4 116,89.9 116.2,89.4 116.4,88.9 116.6,88.4 116.8,87.9 117,87.4 117.1,87 117.3,86.5 117.5,86 117.6,85.5 117.8,85 117.9,84.5 118.1,84 118.2,83.5 118.4,82.9 118.5,82.4 118.6,81.9 118.7,81.4 118.9,80.9 119,80.4 119.1,79.9 119.2,79.4 119.3,78.9 119.3,78.3 119.4,77.8 119.5,77.3 119.6,76.8 119.6,76.3 119.7,75.7 119.8,75.2 119.8,74.7 119.8,74.2 119.9,73.7 119.9,73.1 119.9,72.6 120,72.1 120,71.6 120,71 120,70.5 120,70\" />'\n",
       "\n",
       "<g transform=\"rotate(179.4,120.0,70.0) translate(120.0, 70.0)\">\n",
       "    <circle stroke=\"#63A375\" stroke-width=\"2\" fill=\"transparent\" r=\"5.5\" cx=\"0\" cy=\"0\"/>\n",
       "    <polygon points=\"0,12 2,9 -2,9\" style=\"fill:#63A375;stroke:#63A375;stroke-width:2\"/>\n",
       "</g>\n",
       "\n",
       "</svg>"
      ],
      "text/plain": [
       "<IPython.core.display.HTML object>"
      ]
     },
     "metadata": {},
     "output_type": "display_data"
    }
   ],
   "source": [
    "make_turtle(delay=0.01)\n",
    "\n",
    "rectangle.draw()\n",
    "circle.draw()"
   ]
  },
  {
   "cell_type": "code",
   "execution_count": null,
   "id": "41ac2192-47df-4338-8941-4bfe94ba5e6b",
   "metadata": {},
   "outputs": [],
   "source": []
  }
 ],
 "metadata": {
  "kernelspec": {
   "display_name": "Python 3 (ipykernel)",
   "language": "python",
   "name": "python3"
  },
  "language_info": {
   "codemirror_mode": {
    "name": "ipython",
    "version": 3
   },
   "file_extension": ".py",
   "mimetype": "text/x-python",
   "name": "python",
   "nbconvert_exporter": "python",
   "pygments_lexer": "ipython3",
   "version": "3.13.5"
  }
 },
 "nbformat": 4,
 "nbformat_minor": 5
}

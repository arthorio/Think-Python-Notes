{
 "cells": [
  {
   "cell_type": "code",
   "execution_count": 85,
   "id": "79c4579a-e34e-4804-93c1-a4d34811eafb",
   "metadata": {},
   "outputs": [],
   "source": [
    "from copy import copy, deepcopy\n",
    "from jupyturtle import make_turtle, jumpto, moveto"
   ]
  },
  {
   "cell_type": "code",
   "execution_count": 86,
   "id": "55e38909-7b8f-4ef9-8325-a0495708d3fc",
   "metadata": {},
   "outputs": [],
   "source": [
    "class Point:\n",
    "    \"\"\"Represents a point in 2-D space.\"\"\"\n",
    "    \n",
    "    def __init__(self, x, y):\n",
    "        self.x = x\n",
    "        self.y = y\n",
    "        \n",
    "    def __str__(self):\n",
    "        return f'Point({self.x}, {self.y})'\n",
    "\n",
    "    def translate(self, dx, dy):\n",
    "        self.x += dx\n",
    "        self.y += dy\n",
    "\n",
    "    def translated(self, dx=0, dy=0):\n",
    "        point = copy(self)\n",
    "        point.translate(dx, dy)\n",
    "        return point\n",
    "\n",
    "    def __eq__(self, other):\n",
    "        return (self.x == other.x) and (self.y == other.y)"
   ]
  },
  {
   "cell_type": "code",
   "execution_count": 87,
   "id": "4e891a6c-5191-4794-a281-e3ab54cbc6c9",
   "metadata": {},
   "outputs": [],
   "source": [
    "class Line:\n",
    "    def __init__(self, p1, p2):\n",
    "        self.p1 = p1\n",
    "        self.p2 = p2\n",
    "        \n",
    "    def __str__(self):\n",
    "        return f'Line({self.p1}, {self.p2})'\n",
    "\n",
    "    def __eq__(self, other):\n",
    "        return (self.p1 == other.p1 and self.p2 == other.p2) or (self.p1 == other.p2 and self.p2 == other.p1)\n",
    "\n",
    "    def draw(self):\n",
    "        jumpto(self.p1.x, self.p1.y)\n",
    "        moveto(self.p2.x, self.p2.y)"
   ]
  },
  {
   "cell_type": "code",
   "execution_count": 88,
   "id": "96af5e4e-c1d0-4456-a1c4-842f4278f4c4",
   "metadata": {},
   "outputs": [],
   "source": [
    "class Rectangle:\n",
    "    \"\"\"Represents a rectangle. \n",
    "\n",
    "    attributes: width, height, corner.\n",
    "    \"\"\"\n",
    "    def __init__(self, width, height, corner):\n",
    "        self.width = width\n",
    "        self.height = height\n",
    "        self.corner = corner\n",
    "        \n",
    "    def __str__(self):\n",
    "        return f'Rectangle({self.width}, {self.height}, {self.corner})'\n",
    "\n",
    "    def make_points(self):\n",
    "        p1 = self.corner\n",
    "        p2 = p1.translated(self.width, 0)\n",
    "        p3 = p2.translated(0, self.height)\n",
    "        p4 = p3.translated(-self.width, 0)\n",
    "        return p1, p2, p3, p4\n",
    "\n",
    "    def make_lines(self):\n",
    "        p1, p2, p3, p4 = self.make_points()\n",
    "        return Line(p1, p2), Line(p2, p3), Line(p3, p4), Line(p4, p1)\n",
    "\n",
    "    def draw(self):\n",
    "        lines = self.make_lines()\n",
    "        for line in lines:\n",
    "            line.draw()\n",
    "    \n",
    "    def grow(self, dwidth, dheight):\n",
    "        self.width += dwidth\n",
    "        self.height += dheight\n",
    "\n",
    "    def translate(self, dx, dy):\n",
    "        self.corner.translate(dx, dy)"
   ]
  },
  {
   "cell_type": "code",
   "execution_count": 89,
   "id": "aebd0fc8-0aaf-41fc-b1f5-b77085147b3e",
   "metadata": {},
   "outputs": [],
   "source": [
    "start1 = Point(0, 0)\n",
    "start2 = Point(0, 0)\n",
    "end = Point(200, 100)"
   ]
  },
  {
   "cell_type": "code",
   "execution_count": 90,
   "id": "1f0f756f-3e20-4328-b1cf-537f2ee9a900",
   "metadata": {},
   "outputs": [
    {
     "data": {
      "text/plain": [
       "True"
      ]
     },
     "execution_count": 90,
     "metadata": {},
     "output_type": "execute_result"
    }
   ],
   "source": [
    "line_a = Line(start1, end)\n",
    "line_b = Line(start2, end)\n",
    "line_a == line_b"
   ]
  },
  {
   "cell_type": "code",
   "execution_count": 91,
   "id": "f809a7d0-a555-42a1-93e8-9496e8d07dea",
   "metadata": {},
   "outputs": [
    {
     "data": {
      "text/plain": [
       "True"
      ]
     },
     "execution_count": 91,
     "metadata": {},
     "output_type": "execute_result"
    }
   ],
   "source": [
    "line_c = Line(end, start1)\n",
    "line_a == line_c"
   ]
  },
  {
   "cell_type": "code",
   "execution_count": 92,
   "id": "75d3d4c0-5d6c-43dd-a7df-735ae62f62c7",
   "metadata": {},
   "outputs": [
    {
     "data": {
      "text/plain": [
       "True"
      ]
     },
     "execution_count": 92,
     "metadata": {},
     "output_type": "execute_result"
    }
   ],
   "source": [
    "line_b == line_c "
   ]
  },
  {
   "cell_type": "code",
   "execution_count": 93,
   "id": "513e73cf-ebda-43e2-b3d3-3cfd48a27fca",
   "metadata": {},
   "outputs": [
    {
     "data": {
      "text/plain": [
       "False"
      ]
     },
     "execution_count": 93,
     "metadata": {},
     "output_type": "execute_result"
    }
   ],
   "source": [
    "line_d = Line(start1, start2)\n",
    "line_a == line_d"
   ]
  },
  {
   "cell_type": "code",
   "execution_count": null,
   "id": "fe024c23-4590-45a4-a23e-8d24317ef39a",
   "metadata": {},
   "outputs": [],
   "source": []
  }
 ],
 "metadata": {
  "kernelspec": {
   "display_name": "Python 3 (ipykernel)",
   "language": "python",
   "name": "python3"
  },
  "language_info": {
   "codemirror_mode": {
    "name": "ipython",
    "version": 3
   },
   "file_extension": ".py",
   "mimetype": "text/x-python",
   "name": "python",
   "nbconvert_exporter": "python",
   "pygments_lexer": "ipython3",
   "version": "3.13.5"
  }
 },
 "nbformat": 4,
 "nbformat_minor": 5
}

{
 "cells": [
  {
   "cell_type": "code",
   "execution_count": 1,
   "id": "603e35de-4a87-4829-adfe-e0d103f233f7",
   "metadata": {},
   "outputs": [],
   "source": [
    "def countdown_by_two(n):\n",
    "    if n <= 0 :\n",
    "        print('Blastoff!')\n",
    "    else:\n",
    "        print(n)\n",
    "        countdown_by_two(n-2)"
   ]
  },
  {
   "cell_type": "code",
   "execution_count": 2,
   "id": "48274f65-762e-4bbd-bbe3-ee42870d0b09",
   "metadata": {},
   "outputs": [
    {
     "name": "stdout",
     "output_type": "stream",
     "text": [
      "8\n",
      "6\n",
      "4\n",
      "2\n",
      "Blastoff!\n"
     ]
    }
   ],
   "source": [
    "countdown_by_two(8)"
   ]
  },
  {
   "cell_type": "code",
   "execution_count": 3,
   "id": "0e1defa4-6575-4b28-a116-182fde2b19c3",
   "metadata": {},
   "outputs": [
    {
     "name": "stdout",
     "output_type": "stream",
     "text": [
      "Days since Jan 1, 1970: 20346.0\n",
      "Current time (UTC): 23.000000:54.000000:45.002584\n"
     ]
    }
   ],
   "source": [
    "from time import time\n",
    "\n",
    "now = time()\n",
    "days = now // (60 * 60 * 24)\n",
    "seconds_today = now % (60 * 60 * 24)\n",
    "\n",
    "hours = seconds_today // 3600\n",
    "minutes = (seconds_today % 3600) // 60\n",
    "seconds = seconds_today % 60\n",
    "\n",
    "print(\"Days since Jan 1, 1970:\", days)\n",
    "print(\"Current time (UTC): {:02f}:{:02f}:{:02f}\".format(hours, minutes, seconds))"
   ]
  },
  {
   "cell_type": "code",
   "execution_count": 4,
   "id": "ccb8037b-250d-4ce5-a0ea-b39ee5b05cbc",
   "metadata": {},
   "outputs": [],
   "source": [
    "def is_triangle(a: int, b: int, c: int):\n",
    "    if a + b > c and a + c > b and b + c > a:\n",
    "        print(\"yes\")\n",
    "    else: \n",
    "        print(\"no\")"
   ]
  },
  {
   "cell_type": "code",
   "execution_count": 5,
   "id": "db4f2f10-aa9e-4ecf-951f-8aad881fa466",
   "metadata": {},
   "outputs": [
    {
     "name": "stdout",
     "output_type": "stream",
     "text": [
      "yes\n",
      "no\n",
      "no\n"
     ]
    }
   ],
   "source": [
    "is_triangle(3, 4, 5)   # Yes\n",
    "is_triangle(1, 2, 3)   # Yes (degenerate triangle)\n",
    "is_triangle(1, 10, 12) # No"
   ]
  },
  {
   "cell_type": "code",
   "execution_count": 6,
   "id": "bfe6577a-dcb2-426c-8253-70169be21802",
   "metadata": {},
   "outputs": [
    {
     "name": "stdout",
     "output_type": "stream",
     "text": [
      "3 0\n",
      "2 3\n",
      "1 5\n",
      "6\n"
     ]
    }
   ],
   "source": [
    "def recurse(n, s):\n",
    "    if n == 0:\n",
    "        print(s)\n",
    "    else:\n",
    "        print(n, s)\n",
    "        recurse(n-1, n+s)\n",
    "\n",
    "recurse(3, 0)"
   ]
  },
  {
   "cell_type": "code",
   "execution_count": 13,
   "id": "44c268d1-db39-490f-944f-152abd412929",
   "metadata": {},
   "outputs": [],
   "source": [
    "from jupyturtle import forward, left, right, back, make_turtle\n",
    "\n",
    "def draw(length):  \n",
    "    if length > 5:\n",
    "        forward(length/3)\n",
    "        left(60)\n",
    "        draw(length/3)\n",
    "        right(120)\n",
    "        draw(length/3)\n",
    "        left(60)\n",
    "        draw(length/3)\n",
    "    else:\n",
    "        forward(length)"
   ]
  },
  {
   "cell_type": "code",
   "execution_count": 16,
   "id": "e0a2d085-a670-430d-847d-45d81594c1dd",
   "metadata": {},
   "outputs": [
    {
     "data": {
      "text/html": [
       "<svg width=\"300\" height=\"150\" style=\"fill:none; stroke-linecap:round;\">\n",
       "    <rect width=\"100%\" height=\"100%\" fill=\"#F3F3F7\" />\n",
       "\n",
       "\n",
       "<path stroke=\"#663399\" stroke-width=\"2\" d=\"M 150,75 162.5,75 156.2,64.2 150,75 162.5,75 175,75 168.8,64.2 162.5,75 150,75 156.2,64.2 168.8,64.2 162.5,53.3 156.2,64.2 150,75 175,75 187.5,75 181.2,64.2 175,75 187.5,75 200,75 193.8,64.2 187.5,75 175,75 181.2,64.2 193.8,64.2 187.5,53.3 181.2,64.2 175,75 150,75 162.5,53.3 175,53.3 168.8,42.5 162.5,53.3 175,53.3 187.5,53.3 181.2,42.5 175,53.3 162.5,53.3 168.8,42.5 181.2,42.5 175,31.7 168.8,42.5 162.5,53.3 150,75 200,75 212.5,75 206.2,64.2 200,75 212.5,75 225,75 218.8,64.2 212.5,75 200,75 206.2,64.2 218.8,64.2 212.5,53.3 206.2,64.2 200,75 225,75 237.5,75 231.2,64.2 225,75 237.5,75 250,75 243.8,64.2 237.5,75 225,75 231.2,64.2 243.8,64.2 237.5,53.3 231.2,64.2 225,75 200,75 212.5,53.3 225,53.3 218.8,42.5 212.5,53.3 225,53.3 237.5,53.3 231.2,42.5 225,53.3 212.5,53.3 218.8,42.5 231.2,42.5 225,31.7 218.8,42.5 212.5,53.3 200,75 150,75 175,31.7 187.5,31.7 181.2,20.9 175,31.7 187.5,31.7 200,31.7 193.8,20.9 187.5,31.7 175,31.7 181.2,20.9 193.8,20.9 187.5,10 181.2,20.9 175,31.7 200,31.7 212.5,31.7 206.2,20.9 200,31.7 212.5,31.7 225,31.7 218.8,20.9 212.5,31.7 200,31.7 206.2,20.9 218.8,20.9 212.5,10 206.2,20.9 200,31.7 175,31.7 187.5,10 200,10 193.8,-0.8 187.5,10 200,10 212.5,10 206.2,-0.8 200,10 187.5,10 193.8,-0.8 206.2,-0.8 200,-11.6 193.8,-0.8 187.5,10 175,31.7 150,75\" />'\n",
       "\n",
       "<g transform=\"rotate(-90.0,150.0,75.0) translate(150.0, 75.0)\">\n",
       "    <circle stroke=\"#63A375\" stroke-width=\"2\" fill=\"transparent\" r=\"5.5\" cx=\"0\" cy=\"0\"/>\n",
       "    <polygon points=\"0,12 2,9 -2,9\" style=\"fill:#63A375;stroke:#63A375;stroke-width:2\"/>\n",
       "</g>\n",
       "\n",
       "</svg>"
      ],
      "text/plain": [
       "<IPython.core.display.HTML object>"
      ]
     },
     "metadata": {},
     "output_type": "display_data"
    }
   ],
   "source": [
    "from jupyturtle import forward, left, right, penup, pendown\n",
    "\n",
    "def sierpinski(length, depth):\n",
    "    if depth == 0:\n",
    "        # Draw an equilateral triangle\n",
    "        for _ in range(3):\n",
    "            forward(length)\n",
    "            left(120)\n",
    "    else:\n",
    "        # Draw 3 smaller Sierpiński triangles\n",
    "        sierpinski(length/2, depth-1)   # bottom-left\n",
    "        forward(length/2)\n",
    "        sierpinski(length/2, depth-1)   # bottom-right\n",
    "        back(length/2)\n",
    "        left(60)\n",
    "        forward(length/2)\n",
    "        right(60)\n",
    "        sierpinski(length/2, depth-1)   # top\n",
    "        left(60)\n",
    "        back(length/2)\n",
    "        right(60)\n",
    "\n",
    "# Example: draw a Sierpiński triangle\n",
    "make_turtle(delay = 0.1)\n",
    "sierpinski(100, 3)   # (length, recursion depth)"
   ]
  },
  {
   "cell_type": "code",
   "execution_count": null,
   "id": "30afb92e-9b01-4064-8675-6cb01cec50e5",
   "metadata": {},
   "outputs": [],
   "source": []
  }
 ],
 "metadata": {
  "kernelspec": {
   "display_name": "Python 3 (ipykernel)",
   "language": "python",
   "name": "python3"
  },
  "language_info": {
   "codemirror_mode": {
    "name": "ipython",
    "version": 3
   },
   "file_extension": ".py",
   "mimetype": "text/x-python",
   "name": "python",
   "nbconvert_exporter": "python",
   "pygments_lexer": "ipython3",
   "version": "3.13.1"
  }
 },
 "nbformat": 4,
 "nbformat_minor": 5
}

{
 "cells": [
  {
   "cell_type": "code",
   "execution_count": 1,
   "id": "0aefeb46-7ee7-4d38-9db7-f8a6a2467fd6",
   "metadata": {},
   "outputs": [
    {
     "data": {
      "text/plain": [
       "'C:\\\\Users\\\\arthur.luz'"
      ]
     },
     "execution_count": 1,
     "metadata": {},
     "output_type": "execute_result"
    }
   ],
   "source": [
    "import os\n",
    "\n",
    "os.getcwd()"
   ]
  },
  {
   "cell_type": "code",
   "execution_count": 3,
   "id": "48cc906e-31c2-4db2-ad40-b16608a0aa72",
   "metadata": {},
   "outputs": [],
   "source": [
    "num_years = 1.5\n",
    "num_camels = 23\n",
    "\n",
    "writer = open('camel-spotting-book.txt', 'w')\n",
    "writer.write(f'Years of observation: {num_years}\\n')\n",
    "writer.write(f'Camels spotted: {num_camels}\\n')\n",
    "writer.close()"
   ]
  },
  {
   "cell_type": "code",
   "execution_count": 4,
   "id": "c6d79c70-d62f-4884-924c-40adf089abf8",
   "metadata": {},
   "outputs": [
    {
     "name": "stdout",
     "output_type": "stream",
     "text": [
      "Years of observation: 1.5\n",
      "Camels spotted: 23\n",
      "\n"
     ]
    }
   ],
   "source": [
    "data = open('camel-spotting-book.txt').read()\n",
    "print(data)"
   ]
  },
  {
   "cell_type": "code",
   "execution_count": 7,
   "id": "12671a3e-38e7-4a72-ac3c-8ec776525291",
   "metadata": {},
   "outputs": [],
   "source": [
    "import yaml\n",
    "\n",
    "config = {\n",
    "    'photo_dir': 'photos',\n",
    "    'data_dir': 'photo_info',\n",
    "    'extensions': ['jpg', 'jpeg'],\n",
    "}\n",
    "\n",
    "config_filename = 'config.yaml'\n",
    "writer = open(config_filename, 'w')\n",
    "yaml.dump(config, writer)\n",
    "writer.close()"
   ]
  },
  {
   "cell_type": "code",
   "execution_count": 8,
   "id": "e2c718f8-5529-4e00-b06e-0ce07202ae0a",
   "metadata": {},
   "outputs": [
    {
     "name": "stdout",
     "output_type": "stream",
     "text": [
      "data_dir: photo_info\n",
      "extensions:\n",
      "- jpg\n",
      "- jpeg\n",
      "photo_dir: photos\n",
      "\n"
     ]
    }
   ],
   "source": [
    "readback = open(config_filename).read()\n",
    "print(readback)"
   ]
  },
  {
   "cell_type": "code",
   "execution_count": 9,
   "id": "90065b75-c1bf-4eca-9c71-aa1409083804",
   "metadata": {},
   "outputs": [
    {
     "data": {
      "text/plain": [
       "{'data_dir': 'photo_info',\n",
       " 'extensions': ['jpg', 'jpeg'],\n",
       " 'photo_dir': 'photos'}"
      ]
     },
     "execution_count": 9,
     "metadata": {},
     "output_type": "execute_result"
    }
   ],
   "source": [
    "reader = open(config_filename)\n",
    "config_readback = yaml.safe_load(reader)\n",
    "config_readback"
   ]
  },
  {
   "cell_type": "code",
   "execution_count": null,
   "id": "08846547-78f4-47a2-8b88-e4f8ffad94e9",
   "metadata": {},
   "outputs": [],
   "source": []
  }
 ],
 "metadata": {
  "kernelspec": {
   "display_name": "Python 3 (ipykernel)",
   "language": "python",
   "name": "python3"
  },
  "language_info": {
   "codemirror_mode": {
    "name": "ipython",
    "version": 3
   },
   "file_extension": ".py",
   "mimetype": "text/x-python",
   "name": "python",
   "nbconvert_exporter": "python",
   "pygments_lexer": "ipython3",
   "version": "3.13.5"
  }
 },
 "nbformat": 4,
 "nbformat_minor": 5
}
